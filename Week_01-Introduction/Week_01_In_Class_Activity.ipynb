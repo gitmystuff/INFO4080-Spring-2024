{
  "nbformat": 4,
  "nbformat_minor": 0,
  "metadata": {
    "colab": {
      "provenance": [],
      "mount_file_id": "1_mu7p_Ukxa2NXwkmHLCs3KVNIJTTbAgD",
      "authorship_tag": "ABX9TyN5s978X7XAsvS3WflQjh6z",
      "include_colab_link": true
    },
    "kernelspec": {
      "name": "python3",
      "display_name": "Python 3"
    },
    "language_info": {
      "name": "python"
    }
  },
  "cells": [
    {
      "cell_type": "markdown",
      "metadata": {
        "id": "view-in-github",
        "colab_type": "text"
      },
      "source": [
        "<a href=\"https://colab.research.google.com/github/gitmystuff/INFO4080/blob/main/Week_01-Introduction/Week_01_In_Class_Activity.ipynb\" target=\"_parent\"><img src=\"https://colab.research.google.com/assets/colab-badge.svg\" alt=\"Open In Colab\"/></a>"
      ]
    },
    {
      "cell_type": "markdown",
      "source": [
        "# Week 1: In-Class Activity\n",
        "\n"
      ],
      "metadata": {
        "id": "vqp8RGHajdVw"
      }
    },
    {
      "cell_type": "markdown",
      "source": [
        "## Getting Started\n",
        "\n",
        "## Overview\n",
        "\n",
        "* Class Repository\n",
        "* Google Drive Setup\n",
        "* Colab, Copy of, Sharing\n",
        "* Inquiry vs Research\n",
        "* APA Research Paper\n",
        "* Prompt Engineering\n",
        "* HTML Basics - About\n",
        "* Python Module Template - Replit\n",
        "* Colab and Github\n",
        "\n"
      ],
      "metadata": {
        "id": "1dkzJ8eQDKZ-"
      }
    },
    {
      "cell_type": "markdown",
      "source": [
        "## What is Github?\n",
        "\n",
        "* An easy to use web service for version control and collaboration\n",
        "* Use GitHub to manage projects like software development, writing books and research papers, websites, quality control, resumes, portfolios, etc\n",
        "\n",
        "Sources\n",
        "\n",
        "* https://kinsta.com/knowledgebase/what-is-github/\n",
        "* https://github.com/topics/portfolio\n",
        "* https://github.com/topics/research-paper\n",
        "* https://ben.balter.com/2015/02/06/word-diff/"
      ],
      "metadata": {
        "id": "dUE4sH0zDXHq"
      }
    },
    {
      "cell_type": "markdown",
      "source": [
        "## Create Class Repository\n",
        "\n",
        "* Create a github repository with a README.md and License and name it INFO4080\n",
        "* Submit repository url for Week 01's In-Class Activity in Canvas"
      ],
      "metadata": {
        "id": "2wtVhvizFWZU"
      }
    },
    {
      "cell_type": "markdown",
      "source": [
        "## Inquiry vs Research\n",
        "\n",
        "* https://www.quora.com/What-is-the-difference-between-inquiry-and-research\n",
        "* https://www.learningbyinquiry.com/understanding-the-difference-between-inquiry-and-research/#:~:text=Inquiry%20is%20a%20broad%20process,focuses%20more%20on%20finding%20answers\n",
        "\n",
        "Data Journalism\n",
        "\n",
        "* https://datajournalism.com/read/longreads/putting-data-back-into-context\n",
        "* https://databasic.io/en/wtfcsv/\n",
        "\n",
        "Research Examples\n",
        "\n",
        "* Airplane cockpit and reinforcement\n",
        "* Research on fruit flies and alcohol - https://www.nytimes.com/2012/03/16/health/male-fruit-flies-spurned-by-females-turn-to-alcohol.html\n",
        "\n",
        "Outline of Western Civilization\n",
        "\n",
        "* https://en.wikipedia.org/wiki/Outline_of_the_history_of_Western_civilization\n",
        "* https://www.usu.edu/markdamen/1320hist&civ/pp/slides/00westciv.pdf\n",
        "* Western Civilization is outgrowth of Greece and includes Middle East\n",
        "* Natural Philosophy"
      ],
      "metadata": {
        "id": "XQHBycs2vvqy"
      }
    },
    {
      "cell_type": "markdown",
      "source": [
        "## APA Research Paper\n",
        "\n",
        "* https://owl.purdue.edu/owl/general_writing/common_writing_assignments/research_papers/index.html\n",
        "* https://owl.purdue.edu/owl/research_and_citation/apa_style/apa_style_introduction.html\n",
        "* https://psychology.ucsd.edu/undergraduate-program/undergraduate-resources/academic-writing-resources/writing-research-papers/research-paper-structure.html#:~:text=A%20complete%20research%20paper%20in,%2C%20Discussion%2C%20and%20References%20sections.\n",
        "* https://owl.purdue.edu/owl/research_and_citation/apa_style/apa_formatting_and_style_guide/general_format.html"
      ],
      "metadata": {
        "id": "PFxU8Jnov8_u"
      }
    },
    {
      "cell_type": "markdown",
      "source": [
        "## Prompt Engineering\n",
        "\n",
        "* https://help.openai.com/en/articles/6654000-best-practices-for-prompt-engineering-with-openai-api\n",
        "* https://www.kdnuggets.com/2023/07/chatgptpowered-data-exploration-unlock-hidden-insights-dataset.html"
      ],
      "metadata": {
        "id": "39D9yypL0gPh"
      }
    },
    {
      "cell_type": "markdown",
      "source": [
        "## Hello World\n",
        "\n",
        "* https://docs.github.com/en/get-started/quickstart/hello-world"
      ],
      "metadata": {
        "id": "CtG57sncDhh4"
      }
    },
    {
      "cell_type": "markdown",
      "source": [
        "## Create a Web Site from Github\n",
        "\n",
        "* https://github.com/Ovi/HTML-CSS-CV\n",
        "* https://github.com/topics/cv-template\n",
        "* https://docs.github.com/en/pages/getting-started-with-github-pages/configuring-a-publishing-source-for-your-github-pages-site"
      ],
      "metadata": {
        "id": "AcCg6U3VDxaA"
      }
    },
    {
      "cell_type": "markdown",
      "source": [
        "## Replit\n",
        "\n",
        "* https://www.freecodecamp.org/news/how-to-use-replit/"
      ],
      "metadata": {
        "id": "LrKJ3fCoCtoE"
      }
    },
    {
      "cell_type": "markdown",
      "source": [
        "## HTML Basics\n",
        "\n",
        "* https://replit.com/talk/learn/Full-HTML-Tutorial/78035"
      ],
      "metadata": {
        "id": "S5qeuxqfDpsY"
      }
    },
    {
      "cell_type": "markdown",
      "source": [
        "## Integrate Github and Replit\n",
        "\n",
        "* Fork https://github.com/Ovi/HTML-CSS-CVLinks and name it resume\n",
        "* https://docs.replit.com/category/using-git-on-replit\n",
        "* Personalize the html in your resume repository\n",
        "\n",
        "### Reset\n",
        "\n",
        "* https://myunt-my.sharepoint.com/:w:/r/personal/cliff_whitworth_unt_edu/_layouts/15/Doc.aspx?sourcedoc=%7B92DB08C5-4F81-442E-AF40-FE4DBA6B0DFF%7D&file=resetting%20github%20and%20replit%20for%20resume.docx&action=default&mobileredirect=true\n"
      ],
      "metadata": {
        "id": "_NUZyJ9GFIOu"
      }
    },
    {
      "cell_type": "markdown",
      "source": [
        "## Python Basics\n",
        "\n",
        "* https://www.youtube.com/watch?v=eWRfhZUzrAc"
      ],
      "metadata": {
        "id": "FPZW21H6E8cC"
      }
    },
    {
      "cell_type": "markdown",
      "source": [
        "## Wikipedia Example\n",
        "\n",
        "* See DSChunks Wikipedia"
      ],
      "metadata": {
        "id": "MeHz5UrL7dpy"
      }
    },
    {
      "cell_type": "markdown",
      "source": [
        "## Scraping Example\n",
        "\n",
        "* https://www.kdnuggets.com/2023/04/stepbystep-guide-web-scraping-python-beautiful-soup.html"
      ],
      "metadata": {
        "id": "VV_FXZAGIOEp"
      }
    },
    {
      "cell_type": "code",
      "source": [
        "# get table of contents\n",
        "from bs4 import BeautifulSoup\n",
        "import pandas as pd\n",
        "import requests\n",
        "\n",
        "soup = BeautifulSoup(requests.get(\"https://en.wikipedia.org/wiki/Outline_of_the_history_of_Western_civilization\").text)\n",
        "s = soup.find_all('span', {'class' : 'mw-headline'})\n",
        "s_list = [x.get_text() for x in s]\n",
        "s_series = pd.Series(s_list)\n",
        "toc = s_series.to_frame()\n",
        "toc.columns = ['header']\n",
        "toc.head()\n",
        "toc.to_csv('toc.csv', index=False)"
      ],
      "metadata": {
        "id": "yavxYE8yIRZe"
      },
      "execution_count": null,
      "outputs": []
    },
    {
      "cell_type": "code",
      "source": [
        "# mount drive and move file\n",
        "import shutil\n",
        "\n",
        "file = \"/content/toc.csv\"\n",
        "folder = \"/content/drive/MyDrive/INFO4080/Week  01 - Introduction/\"\n",
        "shutil.move(file, folder)"
      ],
      "metadata": {
        "colab": {
          "base_uri": "https://localhost:8080/",
          "height": 35
        },
        "id": "1vFqyX-xMNag",
        "outputId": "08235c22-9643-4059-a3d2-61916438727b"
      },
      "execution_count": null,
      "outputs": [
        {
          "output_type": "execute_result",
          "data": {
            "text/plain": [
              "'/content/drive/MyDrive/INFO4080/Week  01 - Introduction/toc.csv'"
            ],
            "application/vnd.google.colaboratory.intrinsic+json": {
              "type": "string"
            }
          },
          "metadata": {},
          "execution_count": 11
        }
      ]
    },
    {
      "cell_type": "markdown",
      "source": [
        "## Advanced Search\n",
        "\n",
        "* https://www.google.com/advanced_search"
      ],
      "metadata": {
        "id": "NmD-cespCGZf"
      }
    }
  ]
}