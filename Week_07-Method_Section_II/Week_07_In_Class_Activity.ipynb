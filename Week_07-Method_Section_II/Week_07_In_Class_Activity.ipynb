{
  "nbformat": 4,
  "nbformat_minor": 0,
  "metadata": {
    "colab": {
      "provenance": [],
      "toc_visible": true,
      "authorship_tag": "ABX9TyOTRdw46UvS4GqjQpCjBqge",
      "include_colab_link": true
    },
    "kernelspec": {
      "name": "python3",
      "display_name": "Python 3"
    },
    "language_info": {
      "name": "python"
    }
  },
  "cells": [
    {
      "cell_type": "markdown",
      "metadata": {
        "id": "view-in-github",
        "colab_type": "text"
      },
      "source": [
        "<a href=\"https://colab.research.google.com/github/gitmystuff/INFO4080/blob/main/Week_07-Method_Section_II/Week_07_In_Class_Activity.ipynb\" target=\"_parent\"><img src=\"https://colab.research.google.com/assets/colab-badge.svg\" alt=\"Open In Colab\"/></a>"
      ]
    },
    {
      "cell_type": "markdown",
      "source": [
        "# Week 7: In-Class Activity\n",
        "\n",
        "Your Name"
      ],
      "metadata": {
        "id": "ghkm4G_Kan4q"
      }
    },
    {
      "cell_type": "markdown",
      "source": [
        "## Getting Started\n",
        "\n",
        "* Colab - get notebook from gitmystuff DTSC4080 repository\n",
        "* Save a Copy in Drive\n",
        "* Remove Copy of\n",
        "* Edit your name\n",
        "* Attendance\n",
        "* Clean up Colab Notebooks folder\n",
        "* Submit shared link"
      ],
      "metadata": {
        "id": "NNUOZnWEaqKv"
      }
    },
    {
      "cell_type": "markdown",
      "source": [
        "## Shared Research Paper Links"
      ],
      "metadata": {
        "id": "wOOG-h_F_sTq"
      }
    },
    {
      "cell_type": "markdown",
      "source": [
        "## Public Data\n",
        "\n",
        "* https://data.census.gov/\n",
        "* https://healthdata.gov/\n",
        "* Edgar: https://www.sec.gov/edgar\n",
        "* Bureau of Justice: https://bjs.ojp.gov/\n",
        "* IRS: https://www.irs.gov/statistics\n",
        "* Bureau of Economic Analysis: https://www.bea.gov/\n",
        "* Federal Reserve: https://www.federalreserve.gov/data.htm\n",
        "* DOE Data and Research: https://www2.ed.gov/rschstat/landing.jhtml?src=ft\n",
        "* Bureau of Labor Statistics: https://www.bls.gov/\n",
        "* US Patent and Trademark Office: https://www.uspto.gov/\n",
        "* National Centers for Environmental Information: https://www.ncei.noaa.gov/\n",
        "* World Bank: https://data.worldbank.org/\n",
        "* CIA World Factbook: https://www.cia.gov/the-world-factbook/\n",
        "* United Nations: https://data.un.org/\n",
        "* UNICEF: https://data.unicef.org/\n",
        "* Statistics Canada: https://www.statcan.gc.ca/\n",
        "* Eurostat: https://ec.europa.eu/eurostat\n",
        "* Organization for Economic Cooperation and Development: https://data.oecd.org/\n",
        "* UK National Health Service NHS Digital: https://digital.nhs.uk/\n",
        "* Google Finance: https://www.google.com/finance/\n",
        "* Google Trends: https://trends.google.com/trends/\n",
        "* Google Public Data Explorer: https://www.google.com/publicdata/directory\n",
        "* Amazon Web Services Public Data: https://registry.opendata.aws/\n",
        "* Data.gov: https://data.gov/\n",
        "* Google Ngram Viewer: https://books.google.com/ngrams/\n",
        "* The Corpus of Contemporary American English: https://www.english-corpora.org/coca/\n",
        "* University of California, Irvine, Center for Machine Learning: https://archive.ics.uci.edu/\n",
        "* Pew Research Center: https://www.pewresearch.org/\n",
        "* https://www.linkedin.com/learning/learning-public-data-sets-2/bureau-of-labor-statistics?resume=false&u=74650474\n",
        "\n"
      ],
      "metadata": {
        "id": "3bNQM76dx1AI"
      }
    },
    {
      "cell_type": "markdown",
      "source": [
        "## BigQuery\n",
        "\n",
        "* https://console.cloud.google.com/marketplace/product/google/bigquery.googleapis.com?_ga=2.211298837.1868925152.1707340152-1299486709.1704991752&project=studynotes-prod&returnUrl=%2Fbigquery%3F_ga%3D2.211298837.1868925152.1707340152-1299486709.1704991752%26project%3Dstudynotes-prod\n",
        "\n",
        "<pre>\n",
        "SELECT\n",
        "  *\n",
        "FROM\n",
        "  `bigquery-public-data.usa_names.usa_1910_current`\n",
        "LIMIT 100\n",
        "</pre>\n",
        "\n",
        "<pre>\n",
        "SELECT\n",
        "  *\n",
        "FROM\n",
        "  `bigquery-public-data.usa_names.usa_1910_current`\n",
        "WHERE\n",
        "  state = 'TX'\n",
        "LIMIT 100\n",
        "</pre>\n",
        "\n",
        "<pre>\n",
        "SELECT\n",
        "  MIN(year), MAX(year)\n",
        "FROM\n",
        "  `bigquery-public-data.usa_names.usa_1910_current`\n",
        "</pre>\n",
        "\n",
        "<pre>\n",
        "SELECT\n",
        "  name, COUNT(name) as cnt\n",
        "FROM\n",
        "  `bigquery-public-data.usa_names.usa_1910_current`\n",
        "GROUP BY name\n",
        "ORDER BY cnt DESC\n",
        "LIMIT 1\n",
        "</pre>\n",
        "\n",
        "<pre>\n",
        "SELECT\n",
        "  *\n",
        "FROM\n",
        "  `bigquery-public-data.usa_names.usa_1910_current`\n",
        "WHERE\n",
        "  state = 'TX'\n",
        "AND\n",
        "  year = 2020\n",
        "LIMIT 100\n",
        "</pre>\n",
        "\n"
      ],
      "metadata": {
        "id": "wVhHy57pd1-K"
      }
    },
    {
      "cell_type": "markdown",
      "source": [
        "Public datasets\n",
        "\n",
        "* Add\n",
        "* Search for public datasets\n",
        "* Search of World Bank\n",
        "\n",
        "World Bank\n",
        "* https://databank.worldbank.org/metadataglossary/jobs/series/SI.POV.GINI"
      ],
      "metadata": {
        "id": "U61OtIl3VLsu"
      }
    },
    {
      "cell_type": "markdown",
      "source": [
        "<pre>\n",
        "\n",
        "SELECT acs.geo_id, acs.total_pop, fips.state_name\n",
        "FROM\n",
        "`bigquery-public-data.census_bureau_acs.state_2010_1yr` as acs,\n",
        "`bigquery-public-data.census_utility.fips_codes_states` as fips\n",
        "WHERE acs.geo_id = fips.state_fips_code\n",
        "AND fips.state_name = 'Texas'\n",
        "\n",
        "</pre>\n",
        "\n",
        "<pre>\n",
        "SELECT *\n",
        "FROM `bigquery-public-data.census_bureau_acs.state_2010_1yr` as acs\n",
        "INNER JOIN  `bigquery-public-data.census_utility.fips_codes_states` as fips\n",
        "ON acs.geo_id = fips.state_fips_code\n",
        "</pre>"
      ],
      "metadata": {
        "id": "k7WC8zTRg-Mr"
      }
    },
    {
      "cell_type": "markdown",
      "source": [
        "## Dataset Challenges\n",
        "\n",
        "* https://www.kaggle.com/code/iomili/gini-coefficient-models-with-wdi-data-on-bigquery\n"
      ],
      "metadata": {
        "id": "Sgz4UIlKmrMd"
      }
    },
    {
      "cell_type": "markdown",
      "source": [
        "## Research in the Age of Reason (1600 - 1800s)\n",
        "\n",
        "See other notes\n",
        "\n",
        "https://ecampusontario.pressbooks.pub/criticalthinking/chapter/unit-3-part-2-history-of-reasoning/\n",
        "\n",
        "Research in the Age of Reason (Gambling, Politics, and Occam's Razor)\n",
        "- Occam's Razor and biological parsimony\n",
        "- Scraping a Wikipedia Page and doing some NLP stuff\n",
        "\n",
        "Research in the Enlightment (Water and Births)\n",
        "- Word, Citation, Bibliographies, and Microsoft Research\n",
        "\n",
        "Scientific Revolution (consisted of)\n",
        "- late Scholastic methods (the universities)\n",
        "- abstractive mathematics (Kepler and Galileo)\n",
        "- emperical methods (Paraclesians)\n",
        "- modeling methods (Gilbert)\n",
        "- natural magic (Agrippa and Dee)\n",
        "- natural history method (Baconians)\n",
        "- Mechanical Philosophy (everything runs like clockwork (chapter 31, History of Science: Antiquity to 1700)\n",
        "- atomism\n",
        "- Desacartes embraced mechanical philosophy, was not an experimenter\n",
        "- Action at a distance https://en.wikipedia.org/wiki/Action_at_a_distance\n",
        "- Torricellian Experiment by Evangilista Torrecelli\n",
        "- vitalism\n",
        "- Van Helmont\n",
        "\n",
        "Newton\n",
        "- Calculus\n",
        "- Optics\n",
        "- Gravity\n",
        "- Alchemy\n",
        "- Theology (his beliefs considered heresy) https://en.wikipedia.org/wiki/Religious_views_of_Isaac_Newton (prophecy)\n",
        "- Prisca Sapientia and Prisca Theologia\n",
        "- Alchemy and Theology was covered up by Cambridge because it wasn't in keeping with the image Cambridge wanted for itself and Newton\n",
        "\n",
        "- Enlightenment\n",
        "- https://en.wikipedia.org/wiki/Ancien_r%C3%A9gime\n",
        "- https://en.wikipedia.org/wiki/Philosophes\n",
        "- Pamphlet writers that were widely disseminated\n",
        "- Locke, Hobbes, Hume, Kant\n",
        "- France, Voltair (1733 - Letters on England, launched the Enlightenment), Montesquieu, Rousseau\n",
        "- Joseph II (everyone, of stature, hated his enlightened reforms)\n",
        "\n",
        "- Revolutions\n",
        "- Agricultural II\n",
        "- American\n",
        "- French\n",
        "- Throughout (East?) Europe in 1800s\n",
        "- https://en.wikipedia.org/wiki/Revolutions_of_1848\n",
        "- Industrial\n",
        "- Romanticism\n",
        "- Socialism\n",
        "- Science\n",
        "- Feminism\n",
        "\n",
        "- World War I The Great War Setting the Table\n",
        "- https://en.wikipedia.org/wiki/Franco-Prussian_War Rise of the 2nd Reich and unified Germany with Emperor (Kaiser)\n",
        "- 1rst Reich was considered Holy Roman Empire https://en.wikipedia.org/wiki/Reich\n",
        "- Trade (British)\n",
        "- Opium Wars\n",
        "- Rebellion of India https://en.wikipedia.org/wiki/Indian_Rebellion_of_1857\n",
        "- Check Lecture 30, Imperial Rivalry, Foundations of Western Civilization II, Bucholz\n",
        "- The Great War was applauded, everybody cheered for and embraced the war\n",
        "- https://en.wikipedia.org/wiki/Emily_Davison\n",
        "\n",
        "The Titanic\n",
        "- http://writing.engr.psu.edu/uer/bassett.html\n"
      ],
      "metadata": {
        "id": "cLBAbR0zauI7"
      }
    },
    {
      "cell_type": "markdown",
      "source": [
        "## Scraping and Summarizing Web Pages\n",
        "\n",
        "* https://www.techtarget.com/whatis/feature/How-to-scrape-data-from-a-website\n",
        "* https://towardsdatascience.com/web-scraping-basics-82f8b5acd45c\n",
        "* https://www.termsfeed.com/blog/web-scraping-laws/\n",
        "* https://webscraper.io/\n",
        "\n",
        "Terms and Conditions\n",
        "\n",
        "* https://futureplc.com/terms-conditions/\n",
        "* https://www.quora.com/What-are-the-websites-that-allow-web-scraping\n",
        "* https://www.linkedin.com/pulse/need-new-renaissance-lise-kingo"
      ],
      "metadata": {
        "id": "czfMK6RwbBrO"
      }
    },
    {
      "cell_type": "markdown",
      "source": [
        "## Research Paper Method Section\n",
        "\n",
        "From Gemini\n",
        "\n",
        "**Prompt**: I am writing a research paper and want to know what elements go in the method section\n",
        "\n",
        "**Response**:\n",
        "\n",
        "The methods section of your research paper is crucial, as it details how you conducted your research and allows readers to assess its validity and replicability. Here are the key elements you should include:\n",
        "\n",
        "**1. Research Design:**\n",
        "\n",
        "* Briefly explain the type of research design you employed (e.g., experiment, survey, case study).\n",
        "* Justify your choice of design and how it aligns with your research question and objectives.\n",
        "\n",
        "**2. Participants or Subjects:**\n",
        "\n",
        "* Describe the characteristics of your participants or subjects, including demographics, selection criteria, and sample size.\n",
        "* Explain how you recruited participants and ensure ethical considerations were addressed (e.g., informed consent).\n",
        "\n",
        "**3. Materials and Equipment:**\n",
        "\n",
        "* List all the materials and equipment used in your research, including specific details like brand names, models, and software versions.\n",
        "* Describe any specific procedures or preparations undertaken for the materials or equipment.\n",
        "\n",
        "**4. Procedure:**\n",
        "\n",
        "* Provide a step-by-step explanation of how you conducted your research, ensuring clarity and conciseness.\n",
        "* Include details on data collection methods (e.g., surveys, interviews, observations) and any manipulations or interventions involved.\n",
        "*  If applicable, describe the order of events and any control measures implemented.\n",
        "\n",
        "**5. Data Analysis:**\n",
        "\n",
        "* Explain how you analyzed your data, including the specific statistical tests or qualitative analysis methods used.\n",
        "* Briefly justify your choice of analysis methods and their appropriateness for your research question and data type.\n",
        "\n",
        "**Additional Considerations:**\n",
        "\n",
        "* **Ethical Approval:** If your research involved human subjects or animals, mention the ethical approval process and the body that granted approval.\n",
        "* **Data Management:** Briefly describe how you stored and managed your data throughout the research process.\n",
        "* **Clarity and Conciseness:** Use clear and concise language, avoiding jargon and unnecessary details.\n",
        "* **Logical Organization:**  Structure the section logically, often using subheadings to present information in a clear and organized manner.\n",
        "\n",
        "Remember, the specific elements and level of detail required in your methods section may vary depending on your field of study and specific research question. It's always recommended to consult your research style guide or professor for specific formatting and content requirements.\n"
      ],
      "metadata": {
        "id": "7NZ4_SknF-fX"
      }
    },
    {
      "cell_type": "markdown",
      "source": [
        "## Academic Research Foundations\n",
        "\n",
        "* https://www.linkedin.com/learning/academic-research-foundations-quantitative/\n",
        "* Outline Research Proposal\n",
        "* Quantitative Methodology\n",
        "  * Sampling\n",
        "  * Pre existing data\n",
        "  * Questionnaires / Surveys - https://www.pewresearch.org/our-methods/u-s-surveys/writing-survey-questions/"
      ],
      "metadata": {
        "id": "mLDy4D90jFTJ"
      }
    },
    {
      "cell_type": "markdown",
      "source": [
        "## Gini Index and World Happiness\n",
        "\n",
        "* https://medium.com/foundational-data-science-interview-questions/q-91-income-inequality-and-happiness-fb25b54e3df9\n",
        "* https://raw.githubusercontent.com/erood/interviewqs.com_code_snippets/master/Datasets/happiness_index.csv\n",
        "* https://raw.githubusercontent.com/erood/interviewqs.com_code_snippets/master/Datasets/gini_index.csv\n",
        "* https://data.worldbank.org/indicator/SI.POV.GINI\n",
        "* https://worldhappiness.report/data/\n",
        "* https://github.com/crystalrood?tab=repositories\n",
        "* https://github.com/erood"
      ],
      "metadata": {
        "id": "IpI21uyVGmWD"
      }
    },
    {
      "cell_type": "markdown",
      "source": [
        "### Python\n",
        "\n",
        "* https://medium.com/foundational-data-science-interview-questions/q-91-income-inequality-and-happiness-fb25b54e3df9"
      ],
      "metadata": {
        "id": "P2ddBZYakYQT"
      }
    },
    {
      "cell_type": "code",
      "source": [
        "import pandas as pd\n",
        "import seaborn as sns\n",
        "import matplotlib.pyplot as plt\n",
        "\n",
        "gini_index = pd.read_csv('https://raw.githubusercontent.com/erood/interviewqs.com_code_snippets/master/Datasets/gini_index.csv')\n",
        "happiness_index = pd.read_csv('https://raw.githubusercontent.com/erood/interviewqs.com_code_snippets/master/Datasets/happiness_index.csv')\n",
        "\n",
        "# Inner join the data\n",
        "combined_df = pd.merge(gini_index, happiness_index, left_on='country', right_on='country_or_region', how='inner')\n",
        "\n",
        "# Calculate the correlation coefficient\n",
        "correlation_coefficient = combined_df['current'].corr(combined_df['overall_score'])\n",
        "\n",
        "# Create a scatter plot with a correlation line\n",
        "plt.figure(figsize=(10, 6))\n",
        "sns.scatterplot(data=combined_df, x='current', y='overall_score')\n",
        "\n",
        "# Add a regression line (correlation line) to the scatter plot\n",
        "sns.regplot(data=combined_df, x='current', y='overall_score', scatter=False, color='red')\n",
        "\n",
        "# Set plot title and labels\n",
        "plt.title(f'Scatter Plot of Gini Coefficient vs Happiness Score\\nCorrelation: {correlation_coefficient:.2f}')\n",
        "plt.xlabel('Gini Coefficient')\n",
        "plt.ylabel('Happiness Score')\n",
        "\n",
        "# Display the plot\n",
        "plt.show()"
      ],
      "metadata": {
        "colab": {
          "base_uri": "https://localhost:8080/",
          "height": 557
        },
        "id": "NmhSo9YuQHel",
        "outputId": "f8670752-2904-4624-b4df-c24a7057e3be"
      },
      "execution_count": null,
      "outputs": [
        {
          "output_type": "display_data",
          "data": {
            "text/plain": [
              "<Figure size 1000x600 with 1 Axes>"
            ],
            "image/png": "[encoded data removed]"
          },
          "metadata": {}
        }
      ]
    },
    {
      "cell_type": "markdown",
      "source": [
        "### Excel\n",
        "\n",
        "* https://support.microsoft.com/en-us/office/correl-function-995dcef7-0c0a-4bed-a3fb-239d7b68ca92\n",
        "* https://www.excel-easy.com/examples/scatter-plot.html#google_vignette\n",
        "* https://www.excel-easy.com/examples/trendline.html"
      ],
      "metadata": {
        "id": "nh-1VwfUkOp1"
      }
    },
    {
      "cell_type": "markdown",
      "source": [
        "## Dashboard"
      ],
      "metadata": {
        "id": "qMYw2Bd5EK8X"
      }
    },
    {
      "cell_type": "markdown",
      "source": [
        "## References and Bibliography\n",
        "\n",
        "* https://www.mybib.com/"
      ],
      "metadata": {
        "id": "3Qxdf7KHbZFx"
      }
    }
  ]
}