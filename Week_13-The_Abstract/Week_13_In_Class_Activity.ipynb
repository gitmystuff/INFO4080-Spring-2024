{
  "cells": [
    {
      "cell_type": "markdown",
      "metadata": {
        "id": "view-in-github",
        "colab_type": "text"
      },
      "source": [
        "<a href=\"https://colab.research.google.com/github/gitmystuff/INFO4080/blob/main/Week_13-The_Abstract/Week_13_In_Class_Activity.ipynb\" target=\"_parent\"><img src=\"https://colab.research.google.com/assets/colab-badge.svg\" alt=\"Open In Colab\"/></a>"
      ]
    },
    {
      "cell_type": "markdown",
      "metadata": {
        "id": "ghkm4G_Kan4q"
      },
      "source": [
        "# Week 12: In-Class Activity\n",
        "\n",
        "Your Name"
      ]
    },
    {
      "cell_type": "markdown",
      "metadata": {
        "id": "NNUOZnWEaqKv"
      },
      "source": [
        "## Getting Started\n",
        "\n",
        "* Colab - get notebook from gitmystuff DTSC4080 repository\n",
        "* Save a Copy in Drive\n",
        "* Remove Copy of\n",
        "* Edit your name\n",
        "* Attendance\n",
        "* Clean up Colab Notebooks folder\n",
        "* Submit shared link"
      ]
    },
    {
      "cell_type": "markdown",
      "metadata": {
        "id": "h5qwpGQH6Ner"
      },
      "source": [
        "## Bayesian Analysis\n",
        "\n",
        "* Bayes' Theorem Notebook"
      ]
    },
    {
      "cell_type": "markdown",
      "metadata": {
        "id": "HGH7TxHIBXe6"
      },
      "source": [
        "## SQL"
      ]
    },
    {
      "cell_type": "markdown",
      "metadata": {
        "id": "3bNQM76dx1AI"
      },
      "source": [
        "### Public Data\n",
        "\n",
        "* https://data.census.gov/\n",
        "* https://healthdata.gov/\n",
        "* Edgar: https://www.sec.gov/edgar\n",
        "* Bureau of Justice: https://bjs.ojp.gov/\n",
        "* IRS: https://www.irs.gov/statistics\n",
        "* Bureau of Economic Analysis: https://www.bea.gov/\n",
        "* Federal Reserve: https://www.federalreserve.gov/data.htm\n",
        "* DOE Data and Research: https://www2.ed.gov/rschstat/landing.jhtml?src=ft\n",
        "* Bureau of Labor Statistics: https://www.bls.gov/\n",
        "* US Patent and Trademark Office: https://www.uspto.gov/\n",
        "* National Centers for Environmental Information: https://www.ncei.noaa.gov/\n",
        "* World Bank: https://data.worldbank.org/\n",
        "* CIA World Factbook: https://www.cia.gov/the-world-factbook/\n",
        "* United Nations: https://data.un.org/\n",
        "* UNICEF: https://data.unicef.org/\n",
        "* Statistics Canada: https://www.statcan.gc.ca/\n",
        "* Eurostat: https://ec.europa.eu/eurostat\n",
        "* Organization for Economic Cooperation and Development: https://data.oecd.org/\n",
        "* UK National Health Service NHS Digital: https://digital.nhs.uk/\n",
        "* Google Finance: https://www.google.com/finance/\n",
        "* Google Trends: https://trends.google.com/trends/\n",
        "* Google Public Data Explorer: https://www.google.com/publicdata/directory\n",
        "* Amazon Web Services Public Data: https://registry.opendata.aws/\n",
        "* Data.gov: https://data.gov/\n",
        "* Google Ngram Viewer: https://books.google.com/ngrams/\n",
        "* The Corpus of Contemporary American English: https://www.english-corpora.org/coca/\n",
        "* University of California, Irvine, Center for Machine Learning: https://archive.ics.uci.edu/\n",
        "* Pew Research Center: https://www.pewresearch.org/\n",
        "* https://www.linkedin.com/learning/learning-public-data-sets-2/bureau-of-labor-statistics?resume=false&u=74650474\n",
        "\n"
      ]
    },
    {
      "cell_type": "markdown",
      "metadata": {
        "id": "wVhHy57pd1-K"
      },
      "source": [
        "### BigQuery\n",
        "\n",
        "* https://console.cloud.google.com/marketplace/product/google/bigquery.googleapis.com?_ga=2.211298837.1868925152.1707340152-1299486709.1704991752&project=studynotes-prod&returnUrl=%2Fbigquery%3F_ga%3D2.211298837.1868925152.1707340152-1299486709.1704991752%26project%3Dstudynotes-prod\n",
        "\n",
        "<pre>\n",
        "SELECT\n",
        "  *\n",
        "FROM\n",
        "  `bigquery-public-data.usa_names.usa_1910_current`\n",
        "LIMIT 100\n",
        "</pre>\n",
        "\n",
        "<pre>\n",
        "SELECT\n",
        "  *\n",
        "FROM\n",
        "  `bigquery-public-data.usa_names.usa_1910_current`\n",
        "WHERE\n",
        "  state = 'TX'\n",
        "LIMIT 100\n",
        "</pre>\n",
        "\n",
        "<pre>\n",
        "SELECT\n",
        "  MIN(year), MAX(year)\n",
        "FROM\n",
        "  `bigquery-public-data.usa_names.usa_1910_current`\n",
        "</pre>\n",
        "\n",
        "<pre>\n",
        "SELECT\n",
        "  name, COUNT(name) as cnt\n",
        "FROM\n",
        "  `bigquery-public-data.usa_names.usa_1910_current`\n",
        "GROUP BY name\n",
        "ORDER BY cnt DESC\n",
        "LIMIT 1\n",
        "</pre>\n",
        "\n",
        "<pre>\n",
        "SELECT\n",
        "  *\n",
        "FROM\n",
        "  `bigquery-public-data.usa_names.usa_1910_current`\n",
        "WHERE\n",
        "  state = 'TX'\n",
        "AND\n",
        "  year = 2020\n",
        "LIMIT 100\n",
        "</pre>\n",
        "\n"
      ]
    },
    {
      "cell_type": "markdown",
      "metadata": {
        "id": "U61OtIl3VLsu"
      },
      "source": [
        "Public Datasets\n",
        "\n",
        "* Add\n",
        "* Search for public datasets\n",
        "* Search of World Bank\n",
        "\n",
        "World Bank\n",
        "* https://databank.worldbank.org/metadataglossary/jobs/series/SI.POV.GINI"
      ]
    },
    {
      "cell_type": "markdown",
      "metadata": {
        "id": "k7WC8zTRg-Mr"
      },
      "source": [
        "<pre>\n",
        "\n",
        "SELECT acs.geo_id, acs.total_pop, fips.state_name\n",
        "FROM\n",
        "`bigquery-public-data.census_bureau_acs.state_2010_1yr` as acs,\n",
        "`bigquery-public-data.census_utility.fips_codes_states` as fips\n",
        "WHERE acs.geo_id = fips.state_fips_code\n",
        "AND fips.state_name = 'Texas'\n",
        "\n",
        "</pre>\n",
        "\n",
        "<pre>\n",
        "SELECT *\n",
        "FROM `bigquery-public-data.census_bureau_acs.state_2010_1yr` as acs\n",
        "INNER JOIN  `bigquery-public-data.census_utility.fips_codes_states` as fips\n",
        "ON acs.geo_id = fips.state_fips_code\n",
        "</pre>"
      ]
    },
    {
      "cell_type": "markdown",
      "metadata": {
        "id": "iEY2fVOJ5PKg"
      },
      "source": [
        "### SQL Notebook"
      ]
    },
    {
      "cell_type": "markdown",
      "metadata": {
        "id": "BB8WWk-B5HXn"
      },
      "source": [
        "### Setting Up Databases\n",
        "\n",
        "* https://www3.ntu.edu.sg/home/ehchua/programming/sql/SampleDatabases.html\n",
        "* https://learnsql.com/blog/free-online-datasets-to-practice-sql/\n",
        "* https://realpython.com/python-sql-libraries/\n",
        "\n"
      ]
    },
    {
      "cell_type": "code",
      "execution_count": null,
      "metadata": {
        "id": "bY4DlTsdIiFi"
      },
      "outputs": [],
      "source": [
        "import sqlite3\n",
        "from sqlite3 import Error\n",
        "\n",
        "def create_connection(path):\n",
        "    connection = None\n",
        "    try:\n",
        "        connection = sqlite3.connect(path)\n",
        "        print(\"Connection to SQLite DB successful\")\n",
        "    except Error as e:\n",
        "        print(f\"The error '{e}' occurred\")\n",
        "\n",
        "    return connection"
      ]
    },
    {
      "cell_type": "code",
      "execution_count": null,
      "metadata": {
        "colab": {
          "base_uri": "https://localhost:8080/"
        },
        "id": "-vumKlOTIkDv",
        "outputId": "0469d706-8ef6-4ac6-9c68-1587095cd23f"
      },
      "outputs": [
        {
          "name": "stdout",
          "output_type": "stream",
          "text": [
            "Connection to SQLite DB successful\n"
          ]
        }
      ],
      "source": [
        "connection = create_connection(\"sm_app.sqlite\")"
      ]
    },
    {
      "cell_type": "code",
      "execution_count": null,
      "metadata": {
        "id": "8INwjzthIzMa"
      },
      "outputs": [],
      "source": [
        "def execute_query(connection, query):\n",
        "    cursor = connection.cursor()\n",
        "    try:\n",
        "        cursor.execute(query)\n",
        "        connection.commit()\n",
        "        print(\"Query executed successfully\")\n",
        "    except Error as e:\n",
        "        print(f\"The error '{e}' occurred\")"
      ]
    },
    {
      "cell_type": "code",
      "execution_count": null,
      "metadata": {
        "colab": {
          "base_uri": "https://localhost:8080/"
        },
        "id": "6I4NG3wEI5ma",
        "outputId": "55a60b56-0333-49b7-e430-4d549e556f18"
      },
      "outputs": [
        {
          "name": "stdout",
          "output_type": "stream",
          "text": [
            "Query executed successfully\n",
            "Query executed successfully\n",
            "Query executed successfully\n",
            "Query executed successfully\n"
          ]
        }
      ],
      "source": [
        "create_users_table = \"\"\"\n",
        "CREATE TABLE IF NOT EXISTS users (\n",
        "  id INTEGER PRIMARY KEY AUTOINCREMENT,\n",
        "  name TEXT NOT NULL,\n",
        "  age INTEGER,\n",
        "  gender TEXT,\n",
        "  nationality TEXT\n",
        ");\n",
        "\"\"\"\n",
        "\n",
        "create_posts_table = \"\"\"\n",
        "CREATE TABLE IF NOT EXISTS posts(\n",
        "  id INTEGER PRIMARY KEY AUTOINCREMENT,\n",
        "  title TEXT NOT NULL,\n",
        "  description TEXT NOT NULL,\n",
        "  user_id INTEGER NOT NULL,\n",
        "  FOREIGN KEY (user_id) REFERENCES users (id)\n",
        ");\n",
        "\"\"\"\n",
        "\n",
        "create_comments_table = \"\"\"\n",
        "CREATE TABLE IF NOT EXISTS comments (\n",
        "  id INTEGER PRIMARY KEY AUTOINCREMENT,\n",
        "  text TEXT NOT NULL,\n",
        "  user_id INTEGER NOT NULL,\n",
        "  post_id INTEGER NOT NULL,\n",
        "  FOREIGN KEY (user_id) REFERENCES users (id) FOREIGN KEY (post_id) REFERENCES posts (id)\n",
        ");\n",
        "\"\"\"\n",
        "\n",
        "create_likes_table = \"\"\"\n",
        "CREATE TABLE IF NOT EXISTS likes (\n",
        "  id INTEGER PRIMARY KEY AUTOINCREMENT,\n",
        "  user_id INTEGER NOT NULL,\n",
        "  post_id integer NOT NULL,\n",
        "  FOREIGN KEY (user_id) REFERENCES users (id) FOREIGN KEY (post_id) REFERENCES posts (id)\n",
        ");\n",
        "\"\"\"\n",
        "\n",
        "execute_query(connection, create_users_table)\n",
        "execute_query(connection, create_posts_table)\n",
        "execute_query(connection, create_comments_table)\n",
        "execute_query(connection, create_likes_table)"
      ]
    },
    {
      "cell_type": "markdown",
      "metadata": {
        "id": "xjY4Ai24JwdB"
      },
      "source": [
        "### CRUD"
      ]
    },
    {
      "cell_type": "code",
      "execution_count": null,
      "metadata": {
        "colab": {
          "base_uri": "https://localhost:8080/"
        },
        "id": "7E081dgipPhp",
        "outputId": "ff5e7c4e-42bd-4cdf-f8de-70e7aab61417"
      },
      "outputs": [
        {
          "name": "stdout",
          "output_type": "stream",
          "text": [
            "Query executed successfully\n"
          ]
        }
      ],
      "source": [
        "create_users = \"\"\"\n",
        "INSERT INTO\n",
        "  users (name, age, gender, nationality)\n",
        "VALUES\n",
        "  ('James', 25, 'male', 'USA'),\n",
        "  ('Leila', 32, 'female', 'France'),\n",
        "  ('Brigitte', 35, 'female', 'England'),\n",
        "  ('Mike', 40, 'male', 'Denmark'),\n",
        "  ('Elizabeth', 21, 'female', 'Canada');\n",
        "\"\"\"\n",
        "\n",
        "execute_query(connection, create_users)"
      ]
    },
    {
      "cell_type": "code",
      "execution_count": null,
      "metadata": {
        "colab": {
          "base_uri": "https://localhost:8080/"
        },
        "id": "pI566eiOpUZS",
        "outputId": "67f99ac2-4ea1-4e6f-9702-01693aeb02fa"
      },
      "outputs": [
        {
          "name": "stdout",
          "output_type": "stream",
          "text": [
            "Query executed successfully\n"
          ]
        }
      ],
      "source": [
        "create_posts = \"\"\"\n",
        "INSERT INTO\n",
        "  posts (title, description, user_id)\n",
        "VALUES\n",
        "  (\"Happy\", \"I am feeling very happy today\", 1),\n",
        "  (\"Hot Weather\", \"The weather is very hot today\", 2),\n",
        "  (\"Help\", \"I need some help with my work\", 2),\n",
        "  (\"Great News\", \"I am getting married\", 1),\n",
        "  (\"Interesting Game\", \"It was a fantastic game of tennis\", 5),\n",
        "  (\"Party\", \"Anyone up for a late-night party today?\", 3);\n",
        "\"\"\"\n",
        "\n",
        "execute_query(connection, create_posts)"
      ]
    },
    {
      "cell_type": "code",
      "execution_count": null,
      "metadata": {
        "colab": {
          "base_uri": "https://localhost:8080/"
        },
        "id": "wfIZ8fg9peDr",
        "outputId": "554c6305-30f9-48bf-bbd6-c1b02e468006"
      },
      "outputs": [
        {
          "name": "stdout",
          "output_type": "stream",
          "text": [
            "Query executed successfully\n",
            "Query executed successfully\n"
          ]
        }
      ],
      "source": [
        "create_comments = \"\"\"\n",
        "INSERT INTO\n",
        "  comments (text, user_id, post_id)\n",
        "VALUES\n",
        "  ('Count me in', 1, 6),\n",
        "  ('What sort of help?', 5, 3),\n",
        "  ('Congrats buddy', 2, 4),\n",
        "  ('I was rooting for Nadal though', 4, 5),\n",
        "  ('Help with your thesis?', 2, 3),\n",
        "  ('Many congratulations', 5, 4);\n",
        "\"\"\"\n",
        "\n",
        "create_likes = \"\"\"\n",
        "INSERT INTO\n",
        "  likes (user_id, post_id)\n",
        "VALUES\n",
        "  (1, 6),\n",
        "  (2, 3),\n",
        "  (1, 5),\n",
        "  (5, 4),\n",
        "  (2, 4),\n",
        "  (4, 2),\n",
        "  (3, 6);\n",
        "\"\"\"\n",
        "\n",
        "execute_query(connection, create_comments)\n",
        "execute_query(connection, create_likes)"
      ]
    },
    {
      "cell_type": "code",
      "execution_count": null,
      "metadata": {
        "id": "W-NPgTRaqJEi"
      },
      "outputs": [],
      "source": [
        "def execute_read_query(connection, query):\n",
        "    cursor = connection.cursor()\n",
        "    result = None\n",
        "    try:\n",
        "        cursor.execute(query)\n",
        "        result = cursor.fetchall()\n",
        "        return result\n",
        "    except Error as e:\n",
        "        print(f\"The error '{e}' occurred\")"
      ]
    },
    {
      "cell_type": "code",
      "execution_count": null,
      "metadata": {
        "colab": {
          "base_uri": "https://localhost:8080/"
        },
        "id": "SpSk9XUVqMr5",
        "outputId": "bc2b8c15-0898-4766-e183-193980edb37c"
      },
      "outputs": [
        {
          "name": "stdout",
          "output_type": "stream",
          "text": [
            "(1, 'James', 25, 'male', 'USA')\n",
            "(2, 'Leila', 32, 'female', 'France')\n",
            "(3, 'Brigitte', 35, 'female', 'England')\n",
            "(4, 'Mike', 40, 'male', 'Denmark')\n",
            "(5, 'Elizabeth', 21, 'female', 'Canada')\n"
          ]
        }
      ],
      "source": [
        "select_users = \"SELECT * from users\"\n",
        "users = execute_read_query(connection, select_users)\n",
        "\n",
        "for user in users:\n",
        "    print(user)"
      ]
    },
    {
      "cell_type": "code",
      "execution_count": null,
      "metadata": {
        "colab": {
          "base_uri": "https://localhost:8080/"
        },
        "id": "kBjPBmaWqYeq",
        "outputId": "3b97f584-08a9-4bb4-d2a3-dd162d4e989c"
      },
      "outputs": [
        {
          "name": "stdout",
          "output_type": "stream",
          "text": [
            "(1, 'Happy', 'I am feeling very happy today', 1)\n",
            "(2, 'Hot Weather', 'The weather is very hot today', 2)\n",
            "(3, 'Help', 'I need some help with my work', 2)\n",
            "(4, 'Great News', 'I am getting married', 1)\n",
            "(5, 'Interesting Game', 'It was a fantastic game of tennis', 5)\n",
            "(6, 'Party', 'Anyone up for a late-night party today?', 3)\n"
          ]
        }
      ],
      "source": [
        "select_posts = \"SELECT * FROM posts\"\n",
        "posts = execute_read_query(connection, select_posts)\n",
        "\n",
        "for post in posts:\n",
        "    print(post)"
      ]
    },
    {
      "cell_type": "code",
      "execution_count": null,
      "metadata": {
        "colab": {
          "base_uri": "https://localhost:8080/"
        },
        "id": "d1wMsC4hqpwt",
        "outputId": "c5ccb738-22ac-4ab5-bbb6-a84fbcf5311c"
      },
      "outputs": [
        {
          "name": "stdout",
          "output_type": "stream",
          "text": [
            "(1, 'James', 'I am feeling very happy today')\n",
            "(2, 'Leila', 'The weather is very hot today')\n",
            "(2, 'Leila', 'I need some help with my work')\n",
            "(1, 'James', 'I am getting married')\n",
            "(5, 'Elizabeth', 'It was a fantastic game of tennis')\n",
            "(3, 'Brigitte', 'Anyone up for a late-night party today?')\n"
          ]
        }
      ],
      "source": [
        "select_users_posts = \"\"\"\n",
        "SELECT\n",
        "  users.id,\n",
        "  users.name,\n",
        "  posts.description\n",
        "FROM\n",
        "  posts\n",
        "  INNER JOIN users ON users.id = posts.user_id\n",
        "\"\"\"\n",
        "\n",
        "users_posts = execute_read_query(connection, select_users_posts)\n",
        "\n",
        "for users_post in users_posts:\n",
        "    print(users_post)"
      ]
    },
    {
      "cell_type": "code",
      "execution_count": null,
      "metadata": {
        "colab": {
          "base_uri": "https://localhost:8080/"
        },
        "id": "_tBrHyPKrDwI",
        "outputId": "faa1f70b-910b-481e-a5b0-5972f40cda10"
      },
      "outputs": [
        {
          "name": "stdout",
          "output_type": "stream",
          "text": [
            "('Anyone up for a late-night party today?', 'Count me in', 'James')\n",
            "('I need some help with my work', 'What sort of help?', 'Elizabeth')\n",
            "('I am getting married', 'Congrats buddy', 'Leila')\n",
            "('It was a fantastic game of tennis', 'I was rooting for Nadal though', 'Mike')\n",
            "('I need some help with my work', 'Help with your thesis?', 'Leila')\n",
            "('I am getting married', 'Many congratulations', 'Elizabeth')\n"
          ]
        }
      ],
      "source": [
        "select_posts_comments_users = \"\"\"\n",
        "SELECT\n",
        "  posts.description as post,\n",
        "  text as comment,\n",
        "  name\n",
        "FROM\n",
        "  posts\n",
        "  INNER JOIN comments ON posts.id = comments.post_id\n",
        "  INNER JOIN users ON users.id = comments.user_id\n",
        "\"\"\"\n",
        "\n",
        "posts_comments_users = execute_read_query(\n",
        "    connection, select_posts_comments_users\n",
        ")\n",
        "\n",
        "for posts_comments_user in posts_comments_users:\n",
        "    print(posts_comments_user)"
      ]
    },
    {
      "cell_type": "code",
      "execution_count": null,
      "metadata": {
        "colab": {
          "base_uri": "https://localhost:8080/"
        },
        "id": "CHOIJqR2rZO9",
        "outputId": "dc686907-48b8-4a39-cd38-3f5dfb60fc13"
      },
      "outputs": [
        {
          "name": "stdout",
          "output_type": "stream",
          "text": [
            "('The weather is very hot today',)\n"
          ]
        }
      ],
      "source": [
        "select_post_description = \"SELECT description FROM posts WHERE id = 2\"\n",
        "\n",
        "post_description = execute_read_query(connection, select_post_description)\n",
        "\n",
        "for description in post_description:\n",
        "    print(description)"
      ]
    },
    {
      "cell_type": "code",
      "execution_count": null,
      "metadata": {
        "colab": {
          "base_uri": "https://localhost:8080/"
        },
        "id": "ibz6IOQIrouK",
        "outputId": "7755577c-62dd-4179-d6b2-052459f72acd"
      },
      "outputs": [
        {
          "name": "stdout",
          "output_type": "stream",
          "text": [
            "Query executed successfully\n"
          ]
        }
      ],
      "source": [
        "update_post_description = \"\"\"\n",
        "UPDATE\n",
        "  posts\n",
        "SET\n",
        "  description = \"The weather has become pleasant now\"\n",
        "WHERE\n",
        "  id = 2\n",
        "\"\"\"\n",
        "\n",
        "execute_query(connection, update_post_description)"
      ]
    },
    {
      "cell_type": "code",
      "execution_count": null,
      "metadata": {
        "colab": {
          "base_uri": "https://localhost:8080/"
        },
        "id": "KEoLUOqbrzGa",
        "outputId": "42156118-d664-4475-dbc0-8c67c98ea66d"
      },
      "outputs": [
        {
          "name": "stdout",
          "output_type": "stream",
          "text": [
            "('The weather has become pleasant now',)\n"
          ]
        }
      ],
      "source": [
        "select_post_description = \"SELECT description FROM posts WHERE id = 2\"\n",
        "\n",
        "post_description = execute_read_query(connection, select_post_description)\n",
        "\n",
        "for description in post_description:\n",
        "    print(description)"
      ]
    },
    {
      "cell_type": "code",
      "execution_count": null,
      "metadata": {
        "colab": {
          "base_uri": "https://localhost:8080/"
        },
        "id": "uJC_4ZUGsNqI",
        "outputId": "fb54453a-8594-41de-dfb3-89c5cd016186"
      },
      "outputs": [
        {
          "name": "stdout",
          "output_type": "stream",
          "text": [
            "(1, 'Count me in', 1, 6)\n",
            "(2, 'What sort of help?', 5, 3)\n",
            "(3, 'Congrats buddy', 2, 4)\n",
            "(4, 'I was rooting for Nadal though', 4, 5)\n",
            "(5, 'Help with your thesis?', 2, 3)\n",
            "(6, 'Many congratulations', 5, 4)\n"
          ]
        }
      ],
      "source": [
        "select_posts = \"SELECT * FROM comments\"\n",
        "posts = execute_read_query(connection, select_posts)\n",
        "\n",
        "for post in posts:\n",
        "    print(post)"
      ]
    },
    {
      "cell_type": "code",
      "execution_count": null,
      "metadata": {
        "colab": {
          "base_uri": "https://localhost:8080/"
        },
        "id": "N0WA99SCsBY-",
        "outputId": "20aff083-9911-4baf-c674-0aa982c5f8d3"
      },
      "outputs": [
        {
          "name": "stdout",
          "output_type": "stream",
          "text": [
            "Query executed successfully\n"
          ]
        }
      ],
      "source": [
        "delete_comment = \"DELETE FROM comments WHERE id = 5\"\n",
        "execute_query(connection, delete_comment)"
      ]
    },
    {
      "cell_type": "code",
      "execution_count": null,
      "metadata": {
        "colab": {
          "base_uri": "https://localhost:8080/"
        },
        "id": "DVPxGwLHsaYD",
        "outputId": "a54182c3-a086-441d-ffd6-7eef1afa8506"
      },
      "outputs": [
        {
          "name": "stdout",
          "output_type": "stream",
          "text": [
            "(1, 'Count me in', 1, 6)\n",
            "(2, 'What sort of help?', 5, 3)\n",
            "(3, 'Congrats buddy', 2, 4)\n",
            "(4, 'I was rooting for Nadal though', 4, 5)\n",
            "(6, 'Many congratulations', 5, 4)\n"
          ]
        }
      ],
      "source": [
        "select_posts = \"SELECT * FROM comments\"\n",
        "posts = execute_read_query(connection, select_posts)\n",
        "\n",
        "for post in posts:\n",
        "    print(post)"
      ]
    },
    {
      "cell_type": "markdown",
      "metadata": {
        "id": "cHN5svccaGaV"
      },
      "source": [
        "### Aggregate Functions\n",
        "\n",
        "* Aggregate Functions -  https://www.simplilearn.com/tutorials/sql-tutorial/sql-aggregate-functions"
      ]
    },
    {
      "cell_type": "code",
      "execution_count": null,
      "metadata": {
        "colab": {
          "base_uri": "https://localhost:8080/"
        },
        "id": "zJfpUxrRtBOG",
        "outputId": "c09ab642-81da-4d3c-e2a3-ce3cab30688f"
      },
      "outputs": [
        {
          "data": {
            "text/plain": [
              "[(3, 5)]"
            ]
          },
          "execution_count": 26,
          "metadata": {},
          "output_type": "execute_result"
        }
      ],
      "source": [
        "select_posts = \"SELECT MIN(post_id), MAX(user_id) FROM comments\"\n",
        "agg = execute_read_query(connection, select_posts)\n",
        "\n",
        "agg"
      ]
    },
    {
      "cell_type": "markdown",
      "metadata": {
        "id": "bWM9DGLOKFTU"
      },
      "source": [
        "### MySQL to SQLite\n",
        "\n",
        "* https://www3.ntu.edu.sg/home/ehchua/programming/sql/SampleDatabases.html\n",
        "* https://dev.mysql.com/doc/employee/en/employees-installation.html\n",
        "* https://github.com/datacharmer/test_db\n",
        "* https://dev.mysql.com/doc/employee/en/sakila-structure.html\n"
      ]
    },
    {
      "cell_type": "code",
      "execution_count": null,
      "metadata": {
        "id": "OZJufEpPJt5J"
      },
      "outputs": [],
      "source": [
        "# load sql and use sqlite as our database\n",
        "%load_ext sql\n",
        "%sql sqlite://"
      ]
    },
    {
      "cell_type": "code",
      "execution_count": null,
      "metadata": {
        "colab": {
          "base_uri": "https://localhost:8080/"
        },
        "id": "qWXXxW2g9rBL",
        "outputId": "dd9d19c2-4d1b-475b-f02a-82b6f4c4e2e6"
      },
      "outputs": [
        {
          "name": "stdout",
          "output_type": "stream",
          "text": [
            " * sqlite://\n",
            "Done.\n",
            "Done.\n",
            "Done.\n",
            "Done.\n",
            "Done.\n",
            "Done.\n",
            "Done.\n",
            "Done.\n"
          ]
        },
        {
          "data": {
            "text/plain": [
              "[]"
            ]
          },
          "execution_count": 2,
          "metadata": {},
          "output_type": "execute_result"
        }
      ],
      "source": [
        "%%sql\n",
        "CREATE TABLE IF NOT EXISTS employees (\n",
        "    emp_no      INT             NOT NULL,\n",
        "    birth_date  DATE            NOT NULL,\n",
        "    first_name  VARCHAR(14)     NOT NULL,\n",
        "    last_name   VARCHAR(16)     NOT NULL,\n",
        "    gender      CHAR(4)         NOT NULL,\n",
        "    hire_date   DATE            NOT NULL,\n",
        "    PRIMARY KEY (emp_no)\n",
        ");\n",
        "\n",
        "CREATE TABLE IF NOT EXISTS departments (\n",
        "    dept_no     CHAR(4)         NOT NULL,\n",
        "    dept_name   VARCHAR(40)     NOT NULL,\n",
        "    PRIMARY KEY (dept_no)\n",
        ");\n",
        "\n",
        "CREATE TABLE IF NOT EXISTS dept_manager (\n",
        "   emp_no       INT             NOT NULL,\n",
        "   dept_no      CHAR(4)         NOT NULL,\n",
        "   from_date    DATE            NOT NULL,\n",
        "   to_date      DATE            NOT NULL,\n",
        "   FOREIGN KEY (emp_no)  REFERENCES employees (emp_no)    ON DELETE CASCADE,\n",
        "   FOREIGN KEY (dept_no) REFERENCES departments (dept_no) ON DELETE CASCADE,\n",
        "   PRIMARY KEY (emp_no,dept_no)\n",
        ");\n",
        "\n",
        "CREATE TABLE IF NOT EXISTS dept_emp (\n",
        "    emp_no      INT             NOT NULL,\n",
        "    dept_no     CHAR(4)         NOT NULL,\n",
        "    from_date   DATE            NOT NULL,\n",
        "    to_date     DATE            NOT NULL,\n",
        "    FOREIGN KEY (emp_no)  REFERENCES employees   (emp_no)  ON DELETE CASCADE,\n",
        "    FOREIGN KEY (dept_no) REFERENCES departments (dept_no) ON DELETE CASCADE,\n",
        "    PRIMARY KEY (emp_no,dept_no)\n",
        ");\n",
        "\n",
        "CREATE TABLE IF NOT EXISTS titles (\n",
        "    emp_no      INT             NOT NULL,\n",
        "    title       VARCHAR(50)     NOT NULL,\n",
        "    from_date   DATE            NOT NULL,\n",
        "    to_date     DATE,\n",
        "    FOREIGN KEY (emp_no) REFERENCES employees (emp_no) ON DELETE CASCADE,\n",
        "    PRIMARY KEY (emp_no,title, from_date)\n",
        ")\n",
        ";\n",
        "\n",
        "CREATE TABLE IF NOT EXISTS salaries (\n",
        "    emp_no      INT             NOT NULL,\n",
        "    salary      INT             NOT NULL,\n",
        "    from_date   DATE            NOT NULL,\n",
        "    to_date     DATE            NOT NULL,\n",
        "    FOREIGN KEY (emp_no) REFERENCES employees (emp_no) ON DELETE CASCADE,\n",
        "    PRIMARY KEY (emp_no, from_date)\n",
        ")\n",
        ";\n",
        "\n",
        "CREATE VIEW IF NOT EXISTS dept_emp_latest_date AS\n",
        "    SELECT emp_no, MAX(from_date) AS from_date, MAX(to_date) AS to_date\n",
        "    FROM dept_emp\n",
        "    GROUP BY emp_no;\n",
        "\n",
        "CREATE VIEW IF NOT EXISTS current_dept_emp AS\n",
        "    SELECT l.emp_no, dept_no, l.from_date, l.to_date\n",
        "    FROM dept_emp d\n",
        "        INNER JOIN dept_emp_latest_date l\n",
        "        ON d.emp_no=l.emp_no AND d.from_date=l.from_date AND l.to_date = d.to_date;"
      ]
    },
    {
      "cell_type": "code",
      "execution_count": null,
      "metadata": {
        "colab": {
          "base_uri": "https://localhost:8080/",
          "height": 1000
        },
        "id": "Eh0sU4iS988K",
        "outputId": "5a63d808-b38c-4066-dc28-247d63a22330"
      },
      "outputs": [
        {
          "name": "stdout",
          "output_type": "stream",
          "text": [
            " * sqlite://\n",
            "Done.\n"
          ]
        },
        {
          "data": {
            "text/html": [
              "<table>\n",
              "    <thead>\n",
              "        <tr>\n",
              "            <th>type</th>\n",
              "            <th>name</th>\n",
              "            <th>tbl_name</th>\n",
              "            <th>rootpage</th>\n",
              "            <th>sql</th>\n",
              "        </tr>\n",
              "    </thead>\n",
              "    <tbody>\n",
              "        <tr>\n",
              "            <td>table</td>\n",
              "            <td>employees</td>\n",
              "            <td>employees</td>\n",
              "            <td>2</td>\n",
              "            <td>CREATE TABLE employees (<br>    emp_no      INT             NOT NULL,<br>    birth_date  DATE            NOT NULL,<br>    first_name  VARCHAR(14)     NOT NULL,<br>    last_name   VARCHAR(16)     NOT NULL,<br>    gender      CHAR(4)         NOT NULL,<br>    hire_date   DATE            NOT NULL,<br>    PRIMARY KEY (emp_no)<br>)</td>\n",
              "        </tr>\n",
              "        <tr>\n",
              "            <td>index</td>\n",
              "            <td>sqlite_autoindex_employees_1</td>\n",
              "            <td>employees</td>\n",
              "            <td>3</td>\n",
              "            <td>None</td>\n",
              "        </tr>\n",
              "        <tr>\n",
              "            <td>table</td>\n",
              "            <td>departments</td>\n",
              "            <td>departments</td>\n",
              "            <td>4</td>\n",
              "            <td>CREATE TABLE departments (<br>    dept_no     CHAR(4)         NOT NULL,<br>    dept_name   VARCHAR(40)     NOT NULL,<br>    PRIMARY KEY (dept_no)<br>)</td>\n",
              "        </tr>\n",
              "        <tr>\n",
              "            <td>index</td>\n",
              "            <td>sqlite_autoindex_departments_1</td>\n",
              "            <td>departments</td>\n",
              "            <td>5</td>\n",
              "            <td>None</td>\n",
              "        </tr>\n",
              "        <tr>\n",
              "            <td>table</td>\n",
              "            <td>dept_manager</td>\n",
              "            <td>dept_manager</td>\n",
              "            <td>6</td>\n",
              "            <td>CREATE TABLE dept_manager (<br>   emp_no       INT             NOT NULL,<br>   dept_no      CHAR(4)         NOT NULL,<br>   from_date    DATE            NOT NULL,<br>   to_date      DATE            NOT NULL,<br>   FOREIGN KEY (emp_no)  REFERENCES employees (emp_no)    ON DELETE CASCADE,<br>   FOREIGN KEY (dept_no) REFERENCES departments (dept_no) ON DELETE CASCADE,<br>   PRIMARY KEY (emp_no,dept_no)<br>)</td>\n",
              "        </tr>\n",
              "        <tr>\n",
              "            <td>index</td>\n",
              "            <td>sqlite_autoindex_dept_manager_1</td>\n",
              "            <td>dept_manager</td>\n",
              "            <td>7</td>\n",
              "            <td>None</td>\n",
              "        </tr>\n",
              "        <tr>\n",
              "            <td>table</td>\n",
              "            <td>dept_emp</td>\n",
              "            <td>dept_emp</td>\n",
              "            <td>8</td>\n",
              "            <td>CREATE TABLE dept_emp (<br>    emp_no      INT             NOT NULL,<br>    dept_no     CHAR(4)         NOT NULL,<br>    from_date   DATE            NOT NULL,<br>    to_date     DATE            NOT NULL,<br>    FOREIGN KEY (emp_no)  REFERENCES employees   (emp_no)  ON DELETE CASCADE,<br>    FOREIGN KEY (dept_no) REFERENCES departments (dept_no) ON DELETE CASCADE,<br>    PRIMARY KEY (emp_no,dept_no)<br>)</td>\n",
              "        </tr>\n",
              "        <tr>\n",
              "            <td>index</td>\n",
              "            <td>sqlite_autoindex_dept_emp_1</td>\n",
              "            <td>dept_emp</td>\n",
              "            <td>9</td>\n",
              "            <td>None</td>\n",
              "        </tr>\n",
              "        <tr>\n",
              "            <td>table</td>\n",
              "            <td>titles</td>\n",
              "            <td>titles</td>\n",
              "            <td>10</td>\n",
              "            <td>CREATE TABLE titles (<br>    emp_no      INT             NOT NULL,<br>    title       VARCHAR(50)     NOT NULL,<br>    from_date   DATE            NOT NULL,<br>    to_date     DATE,<br>    FOREIGN KEY (emp_no) REFERENCES employees (emp_no) ON DELETE CASCADE,<br>    PRIMARY KEY (emp_no,title, from_date)<br>)</td>\n",
              "        </tr>\n",
              "        <tr>\n",
              "            <td>index</td>\n",
              "            <td>sqlite_autoindex_titles_1</td>\n",
              "            <td>titles</td>\n",
              "            <td>11</td>\n",
              "            <td>None</td>\n",
              "        </tr>\n",
              "        <tr>\n",
              "            <td>table</td>\n",
              "            <td>salaries</td>\n",
              "            <td>salaries</td>\n",
              "            <td>12</td>\n",
              "            <td>CREATE TABLE salaries (<br>    emp_no      INT             NOT NULL,<br>    salary      INT             NOT NULL,<br>    from_date   DATE            NOT NULL,<br>    to_date     DATE            NOT NULL,<br>    FOREIGN KEY (emp_no) REFERENCES employees (emp_no) ON DELETE CASCADE,<br>    PRIMARY KEY (emp_no, from_date)<br>)</td>\n",
              "        </tr>\n",
              "        <tr>\n",
              "            <td>index</td>\n",
              "            <td>sqlite_autoindex_salaries_1</td>\n",
              "            <td>salaries</td>\n",
              "            <td>13</td>\n",
              "            <td>None</td>\n",
              "        </tr>\n",
              "        <tr>\n",
              "            <td>view</td>\n",
              "            <td>dept_emp_latest_date</td>\n",
              "            <td>dept_emp_latest_date</td>\n",
              "            <td>0</td>\n",
              "            <td>CREATE VIEW dept_emp_latest_date AS<br>    SELECT emp_no, MAX(from_date) AS from_date, MAX(to_date) AS to_date<br>    FROM dept_emp<br>    GROUP BY emp_no</td>\n",
              "        </tr>\n",
              "        <tr>\n",
              "            <td>view</td>\n",
              "            <td>current_dept_emp</td>\n",
              "            <td>current_dept_emp</td>\n",
              "            <td>0</td>\n",
              "            <td>CREATE VIEW current_dept_emp AS<br>    SELECT l.emp_no, dept_no, l.from_date, l.to_date<br>    FROM dept_emp d<br>        INNER JOIN dept_emp_latest_date l<br>        ON d.emp_no=l.emp_no AND d.from_date=l.from_date AND l.to_date = d.to_date</td>\n",
              "        </tr>\n",
              "    </tbody>\n",
              "</table>"
            ],
            "text/plain": [
              "[('table', 'employees', 'employees', 2, 'CREATE TABLE employees (\\n    emp_no      INT             NOT NULL,\\n    birth_date  DATE            NOT NULL,\\n    first_name  VARCHAR(14)     NOT N ... (13 characters truncated) ... t_name   VARCHAR(16)     NOT NULL,\\n    gender      CHAR(4)         NOT NULL,\\n    hire_date   DATE            NOT NULL,\\n    PRIMARY KEY (emp_no)\\n)'),\n",
              " ('index', 'sqlite_autoindex_employees_1', 'employees', 3, None),\n",
              " ('table', 'departments', 'departments', 4, 'CREATE TABLE departments (\\n    dept_no     CHAR(4)         NOT NULL,\\n    dept_name   VARCHAR(40)     NOT NULL,\\n    PRIMARY KEY (dept_no)\\n)'),\n",
              " ('index', 'sqlite_autoindex_departments_1', 'departments', 5, None),\n",
              " ('table', 'dept_manager', 'dept_manager', 6, 'CREATE TABLE dept_manager (\\n   emp_no       INT             NOT NULL,\\n   dept_no      CHAR(4)         NOT NULL,\\n   from_date    DATE            NO ... (93 characters truncated) ... yees (emp_no)    ON DELETE CASCADE,\\n   FOREIGN KEY (dept_no) REFERENCES departments (dept_no) ON DELETE CASCADE,\\n   PRIMARY KEY (emp_no,dept_no)\\n)'),\n",
              " ('index', 'sqlite_autoindex_dept_manager_1', 'dept_manager', 7, None),\n",
              " ('table', 'dept_emp', 'dept_emp', 8, 'CREATE TABLE dept_emp (\\n    emp_no      INT             NOT NULL,\\n    dept_no     CHAR(4)         NOT NULL,\\n    from_date   DATE            NOT NU ... (92 characters truncated) ... es   (emp_no)  ON DELETE CASCADE,\\n    FOREIGN KEY (dept_no) REFERENCES departments (dept_no) ON DELETE CASCADE,\\n    PRIMARY KEY (emp_no,dept_no)\\n)'),\n",
              " ('index', 'sqlite_autoindex_dept_emp_1', 'dept_emp', 9, None),\n",
              " ('table', 'titles', 'titles', 10, 'CREATE TABLE titles (\\n    emp_no      INT             NOT NULL,\\n    title       VARCHAR(50)     NOT NULL,\\n    from_date   DATE            NOT NULL,\\n    to_date     DATE,\\n    FOREIGN KEY (emp_no) REFERENCES employees (emp_no) ON DELETE CASCADE,\\n    PRIMARY KEY (emp_no,title, from_date)\\n)'),\n",
              " ('index', 'sqlite_autoindex_titles_1', 'titles', 11, None),\n",
              " ('table', 'salaries', 'salaries', 12, 'CREATE TABLE salaries (\\n    emp_no      INT             NOT NULL,\\n    salary      INT             NOT NULL,\\n    from_date   DATE            NOT NU ... (12 characters truncated) ... date     DATE            NOT NULL,\\n    FOREIGN KEY (emp_no) REFERENCES employees (emp_no) ON DELETE CASCADE,\\n    PRIMARY KEY (emp_no, from_date)\\n)'),\n",
              " ('index', 'sqlite_autoindex_salaries_1', 'salaries', 13, None),\n",
              " ('view', 'dept_emp_latest_date', 'dept_emp_latest_date', 0, 'CREATE VIEW dept_emp_latest_date AS\\n    SELECT emp_no, MAX(from_date) AS from_date, MAX(to_date) AS to_date\\n    FROM dept_emp\\n    GROUP BY emp_no'),\n",
              " ('view', 'current_dept_emp', 'current_dept_emp', 0, 'CREATE VIEW current_dept_emp AS\\n    SELECT l.emp_no, dept_no, l.from_date, l.to_date\\n    FROM dept_emp d\\n        INNER JOIN dept_emp_latest_date l\\n        ON d.emp_no=l.emp_no AND d.from_date=l.from_date AND l.to_date = d.to_date')]"
            ]
          },
          "execution_count": 3,
          "metadata": {},
          "output_type": "execute_result"
        }
      ],
      "source": [
        "%%sql\n",
        "SELECT * FROM sqlite_master;"
      ]
    },
    {
      "cell_type": "code",
      "execution_count": null,
      "metadata": {
        "colab": {
          "base_uri": "https://localhost:8080/"
        },
        "id": "B_J8GHhaNO6i",
        "outputId": "8986c918-7bfb-4b25-c991-143f63397810"
      },
      "outputs": [
        {
          "name": "stdout",
          "output_type": "stream",
          "text": [
            " * sqlite://\n",
            "36 rows affected.\n"
          ]
        },
        {
          "data": {
            "text/plain": [
              "[]"
            ]
          },
          "execution_count": 4,
          "metadata": {},
          "output_type": "execute_result"
        }
      ],
      "source": [
        "%%sql\n",
        "INSERT INTO `employees` VALUES (10001,'1953-09-02','Georgi','Facello','M','1986-06-26'),\n",
        "(10002,'1964-06-02','Bezalel','Simmel','F','1985-11-21'),\n",
        "(10003,'1959-12-03','Parto','Bamford','M','1986-08-28'),\n",
        "(10004,'1954-05-01','Chirstian','Koblick','M','1986-12-01'),\n",
        "(10005,'1955-01-21','Kyoichi','Maliniak','M','1989-09-12'),\n",
        "(10006,'1953-04-20','Anneke','Preusig','F','1989-06-02'),\n",
        "(10007,'1957-05-23','Tzvetan','Zielinski','F','1989-02-10'),\n",
        "(10008,'1958-02-19','Saniya','Kalloufi','M','1994-09-15'),\n",
        "(10009,'1952-04-19','Sumant','Peac','F','1985-02-18'),\n",
        "(10010,'1963-06-01','Duangkaew','Piveteau','F','1989-08-24'),\n",
        "(10011,'1953-11-07','Mary','Sluis','F','1990-01-22'),\n",
        "(10012,'1960-10-04','Patricio','Bridgland','M','1992-12-18'),\n",
        "(10013,'1963-06-07','Eberhardt','Terkki','M','1985-10-20'),\n",
        "(10014,'1956-02-12','Berni','Genin','M','1987-03-11'),\n",
        "(10015,'1959-08-19','Guoxiang','Nooteboom','M','1987-07-02'),\n",
        "(10016,'1961-05-02','Kazuhito','Cappelletti','M','1995-01-27'),\n",
        "(10017,'1958-07-06','Cristinel','Bouloucos','F','1993-08-03'),\n",
        "(10018,'1954-06-19','Kazuhide','Peha','F','1987-04-03'),\n",
        "(10019,'1953-01-23','Lillian','Haddadi','M','1999-04-30'),\n",
        "(10020,'1952-12-24','Mayuko','Warwick','M','1991-01-26'),\n",
        "(10021,'1960-02-20','Ramzi','Erde','M','1988-02-10'),\n",
        "(10022,'1952-07-08','Shahaf','Famili','M','1995-08-22'),\n",
        "(10023,'1953-09-29','Bojan','Montemayor','F','1989-12-17'),\n",
        "(10024,'1958-09-05','Suzette','Pettey','F','1997-05-19'),\n",
        "(10025,'1958-10-31','Prasadram','Heyers','M','1987-08-17'),\n",
        "(10026,'1953-04-03','Yongqiao','Berztiss','M','1995-03-20'),\n",
        "(10027,'1962-07-10','Divier','Reistad','F','1989-07-07'),\n",
        "(10028,'1963-11-26','Domenick','Tempesti','M','1991-10-22'),\n",
        "(10029,'1956-12-13','Otmar','Herbst','M','1985-11-20'),\n",
        "(10030,'1958-07-14','Elvis','Demeyer','M','1994-02-17'),\n",
        "(10031,'1959-01-27','Karsten','Joslin','M','1991-09-01'),\n",
        "(10032,'1960-08-09','Jeong','Reistad','F','1990-06-20'),\n",
        "(10033,'1956-11-14','Arif','Merlo','M','1987-03-18'),\n",
        "(10034,'1962-12-29','Bader','Swan','M','1988-09-21'),\n",
        "(10035,'1953-02-08','Alain','Chappelet','M','1988-09-05'),\n",
        "(10036,'1959-08-10','Adamantios','Portugali','M','1992-01-03');"
      ]
    },
    {
      "cell_type": "code",
      "execution_count": null,
      "metadata": {
        "colab": {
          "base_uri": "https://localhost:8080/",
          "height": 181
        },
        "id": "P7K_YfMcNgiO",
        "outputId": "9a4494a6-1a9e-4d98-ce92-09b0341df7db"
      },
      "outputs": [
        {
          "name": "stdout",
          "output_type": "stream",
          "text": [
            " * sqlite://\n",
            "Done.\n"
          ]
        },
        {
          "data": {
            "text/html": [
              "<table>\n",
              "    <thead>\n",
              "        <tr>\n",
              "            <th>emp_no</th>\n",
              "            <th>birth_date</th>\n",
              "            <th>first_name</th>\n",
              "            <th>last_name</th>\n",
              "            <th>gender</th>\n",
              "            <th>hire_date</th>\n",
              "        </tr>\n",
              "    </thead>\n",
              "    <tbody>\n",
              "        <tr>\n",
              "            <td>10001</td>\n",
              "            <td>1953-09-02</td>\n",
              "            <td>Georgi</td>\n",
              "            <td>Facello</td>\n",
              "            <td>M</td>\n",
              "            <td>1986-06-26</td>\n",
              "        </tr>\n",
              "        <tr>\n",
              "            <td>10002</td>\n",
              "            <td>1964-06-02</td>\n",
              "            <td>Bezalel</td>\n",
              "            <td>Simmel</td>\n",
              "            <td>F</td>\n",
              "            <td>1985-11-21</td>\n",
              "        </tr>\n",
              "        <tr>\n",
              "            <td>10003</td>\n",
              "            <td>1959-12-03</td>\n",
              "            <td>Parto</td>\n",
              "            <td>Bamford</td>\n",
              "            <td>M</td>\n",
              "            <td>1986-08-28</td>\n",
              "        </tr>\n",
              "        <tr>\n",
              "            <td>10004</td>\n",
              "            <td>1954-05-01</td>\n",
              "            <td>Chirstian</td>\n",
              "            <td>Koblick</td>\n",
              "            <td>M</td>\n",
              "            <td>1986-12-01</td>\n",
              "        </tr>\n",
              "        <tr>\n",
              "            <td>10005</td>\n",
              "            <td>1955-01-21</td>\n",
              "            <td>Kyoichi</td>\n",
              "            <td>Maliniak</td>\n",
              "            <td>M</td>\n",
              "            <td>1989-09-12</td>\n",
              "        </tr>\n",
              "    </tbody>\n",
              "</table>"
            ],
            "text/plain": [
              "[(10001, '1953-09-02', 'Georgi', 'Facello', 'M', '1986-06-26'),\n",
              " (10002, '1964-06-02', 'Bezalel', 'Simmel', 'F', '1985-11-21'),\n",
              " (10003, '1959-12-03', 'Parto', 'Bamford', 'M', '1986-08-28'),\n",
              " (10004, '1954-05-01', 'Chirstian', 'Koblick', 'M', '1986-12-01'),\n",
              " (10005, '1955-01-21', 'Kyoichi', 'Maliniak', 'M', '1989-09-12')]"
            ]
          },
          "execution_count": 9,
          "metadata": {},
          "output_type": "execute_result"
        }
      ],
      "source": [
        "%%sql\n",
        "SELECT * FROM employees LIMIT 5;"
      ]
    },
    {
      "cell_type": "code",
      "execution_count": null,
      "metadata": {
        "colab": {
          "base_uri": "https://localhost:8080/"
        },
        "id": "8zg1tjnqdGBS",
        "outputId": "dbba7e3f-2732-4c6f-8fc5-b146319ffb93"
      },
      "outputs": [
        {
          "name": "stdout",
          "output_type": "stream",
          "text": [
            " * sqlite://\n",
            "39 rows affected.\n"
          ]
        },
        {
          "data": {
            "text/plain": [
              "[]"
            ]
          },
          "execution_count": 6,
          "metadata": {},
          "output_type": "execute_result"
        }
      ],
      "source": [
        "%%sql\n",
        "INSERT INTO `dept_emp` VALUES (10001,'d005','1986-06-26','9999-01-01'),\n",
        "(10002,'d007','1996-08-03','9999-01-01'),\n",
        "(10003,'d004','1995-12-03','9999-01-01'),\n",
        "(10004,'d004','1986-12-01','9999-01-01'),\n",
        "(10005,'d003','1989-09-12','9999-01-01'),\n",
        "(10006,'d005','1990-08-05','9999-01-01'),\n",
        "(10007,'d008','1989-02-10','9999-01-01'),\n",
        "(10008,'d005','1998-03-11','2000-07-31'),\n",
        "(10009,'d006','1985-02-18','9999-01-01'),\n",
        "(10010,'d004','1996-11-24','2000-06-26'),\n",
        "(10010,'d006','2000-06-26','9999-01-01'),\n",
        "(10011,'d009','1990-01-22','1996-11-09'),\n",
        "(10012,'d005','1992-12-18','9999-01-01'),\n",
        "(10013,'d003','1985-10-20','9999-01-01'),\n",
        "(10014,'d005','1993-12-29','9999-01-01'),\n",
        "(10015,'d008','1992-09-19','1993-08-22'),\n",
        "(10016,'d007','1998-02-11','9999-01-01'),\n",
        "(10017,'d001','1993-08-03','9999-01-01'),\n",
        "(10018,'d004','1992-07-29','9999-01-01'),\n",
        "(10018,'d005','1987-04-03','1992-07-29'),\n",
        "(10019,'d008','1999-04-30','9999-01-01'),\n",
        "(10020,'d004','1997-12-30','9999-01-01'),\n",
        "(10021,'d005','1988-02-10','2002-07-15'),\n",
        "(10022,'d005','1999-09-03','9999-01-01'),\n",
        "(10023,'d005','1999-09-27','9999-01-01'),\n",
        "(10024,'d004','1998-06-14','9999-01-01'),\n",
        "(10025,'d005','1987-08-17','1997-10-15'),\n",
        "(10026,'d004','1995-03-20','9999-01-01'),\n",
        "(10027,'d005','1995-04-02','9999-01-01'),\n",
        "(10028,'d005','1991-10-22','1998-04-06'),\n",
        "(10029,'d004','1991-09-18','1999-07-08'),\n",
        "(10029,'d006','1999-07-08','9999-01-01'),\n",
        "(10030,'d004','1994-02-17','9999-01-01'),\n",
        "(10031,'d005','1991-09-01','9999-01-01'),\n",
        "(10032,'d004','1990-06-20','9999-01-01'),\n",
        "(10033,'d006','1987-03-18','1993-03-24'),\n",
        "(10034,'d007','1995-04-12','1999-10-31'),\n",
        "(10035,'d004','1988-09-05','9999-01-01'),\n",
        "(10036,'d003','1992-04-28','9999-01-01');"
      ]
    },
    {
      "cell_type": "code",
      "execution_count": null,
      "metadata": {
        "colab": {
          "base_uri": "https://localhost:8080/",
          "height": 181
        },
        "id": "DQZ2_kUCeNkI",
        "outputId": "e5e39478-f7c0-4774-9a37-e2328ff09ea2"
      },
      "outputs": [
        {
          "name": "stdout",
          "output_type": "stream",
          "text": [
            " * sqlite://\n",
            "Done.\n"
          ]
        },
        {
          "data": {
            "text/html": [
              "<table>\n",
              "    <thead>\n",
              "        <tr>\n",
              "            <th>emp_no</th>\n",
              "            <th>dept_no</th>\n",
              "            <th>from_date</th>\n",
              "            <th>to_date</th>\n",
              "        </tr>\n",
              "    </thead>\n",
              "    <tbody>\n",
              "        <tr>\n",
              "            <td>10001</td>\n",
              "            <td>d005</td>\n",
              "            <td>1986-06-26</td>\n",
              "            <td>9999-01-01</td>\n",
              "        </tr>\n",
              "        <tr>\n",
              "            <td>10002</td>\n",
              "            <td>d007</td>\n",
              "            <td>1996-08-03</td>\n",
              "            <td>9999-01-01</td>\n",
              "        </tr>\n",
              "        <tr>\n",
              "            <td>10003</td>\n",
              "            <td>d004</td>\n",
              "            <td>1995-12-03</td>\n",
              "            <td>9999-01-01</td>\n",
              "        </tr>\n",
              "        <tr>\n",
              "            <td>10004</td>\n",
              "            <td>d004</td>\n",
              "            <td>1986-12-01</td>\n",
              "            <td>9999-01-01</td>\n",
              "        </tr>\n",
              "        <tr>\n",
              "            <td>10005</td>\n",
              "            <td>d003</td>\n",
              "            <td>1989-09-12</td>\n",
              "            <td>9999-01-01</td>\n",
              "        </tr>\n",
              "    </tbody>\n",
              "</table>"
            ],
            "text/plain": [
              "[(10001, 'd005', '1986-06-26', '9999-01-01'),\n",
              " (10002, 'd007', '1996-08-03', '9999-01-01'),\n",
              " (10003, 'd004', '1995-12-03', '9999-01-01'),\n",
              " (10004, 'd004', '1986-12-01', '9999-01-01'),\n",
              " (10005, 'd003', '1989-09-12', '9999-01-01')]"
            ]
          },
          "execution_count": 10,
          "metadata": {},
          "output_type": "execute_result"
        }
      ],
      "source": [
        "%%sql\n",
        "SELECT * FROM dept_emp LIMIT 5;"
      ]
    },
    {
      "cell_type": "code",
      "execution_count": null,
      "metadata": {
        "colab": {
          "base_uri": "https://localhost:8080/"
        },
        "id": "rHfi3sncdcLH",
        "outputId": "e02d56ba-7dfe-400d-a597-5b002dda7de2"
      },
      "outputs": [
        {
          "name": "stdout",
          "output_type": "stream",
          "text": [
            " * sqlite://\n",
            "9 rows affected.\n"
          ]
        },
        {
          "data": {
            "text/plain": [
              "[]"
            ]
          },
          "execution_count": 7,
          "metadata": {},
          "output_type": "execute_result"
        }
      ],
      "source": [
        "%%sql\n",
        "INSERT INTO `departments` VALUES\n",
        "('d001','Marketing'),\n",
        "('d002','Finance'),\n",
        "('d003','Human Resources'),\n",
        "('d004','Production'),\n",
        "('d005','Development'),\n",
        "('d006','Quality Management'),\n",
        "('d007','Sales'),\n",
        "('d008','Research'),\n",
        "('d009','Customer Service');"
      ]
    },
    {
      "cell_type": "code",
      "execution_count": null,
      "metadata": {
        "colab": {
          "base_uri": "https://localhost:8080/"
        },
        "id": "lmwXRJVjd4uq",
        "outputId": "1a2aae43-fb5c-4fe1-dbbe-79b7a9081b5f"
      },
      "outputs": [
        {
          "name": "stdout",
          "output_type": "stream",
          "text": [
            " * sqlite://\n",
            "337 rows affected.\n"
          ]
        },
        {
          "data": {
            "text/plain": [
              "[]"
            ]
          },
          "execution_count": 8,
          "metadata": {},
          "output_type": "execute_result"
        }
      ],
      "source": [
        "%%sql\n",
        "INSERT INTO `salaries` VALUES (10001,60117,'1986-06-26','1987-06-26'),\n",
        "(10001,62102,'1987-06-26','1988-06-25'),\n",
        "(10001,66074,'1988-06-25','1989-06-25'),\n",
        "(10001,66596,'1989-06-25','1990-06-25'),\n",
        "(10001,66961,'1990-06-25','1991-06-25'),\n",
        "(10001,71046,'1991-06-25','1992-06-24'),\n",
        "(10001,74333,'1992-06-24','1993-06-24'),\n",
        "(10001,75286,'1993-06-24','1994-06-24'),\n",
        "(10001,75994,'1994-06-24','1995-06-24'),\n",
        "(10001,76884,'1995-06-24','1996-06-23'),\n",
        "(10001,80013,'1996-06-23','1997-06-23'),\n",
        "(10001,81025,'1997-06-23','1998-06-23'),\n",
        "(10001,81097,'1998-06-23','1999-06-23'),\n",
        "(10001,84917,'1999-06-23','2000-06-22'),\n",
        "(10001,85112,'2000-06-22','2001-06-22'),\n",
        "(10001,85097,'2001-06-22','2002-06-22'),\n",
        "(10001,88958,'2002-06-22','9999-01-01'),\n",
        "(10002,65828,'1996-08-03','1997-08-03'),\n",
        "(10002,65909,'1997-08-03','1998-08-03'),\n",
        "(10002,67534,'1998-08-03','1999-08-03'),\n",
        "(10002,69366,'1999-08-03','2000-08-02'),\n",
        "(10002,71963,'2000-08-02','2001-08-02'),\n",
        "(10002,72527,'2001-08-02','9999-01-01'),\n",
        "(10003,40006,'1995-12-03','1996-12-02'),\n",
        "(10003,43616,'1996-12-02','1997-12-02'),\n",
        "(10003,43466,'1997-12-02','1998-12-02'),\n",
        "(10003,43636,'1998-12-02','1999-12-02'),\n",
        "(10003,43478,'1999-12-02','2000-12-01'),\n",
        "(10003,43699,'2000-12-01','2001-12-01'),\n",
        "(10003,43311,'2001-12-01','9999-01-01'),\n",
        "(10004,40054,'1986-12-01','1987-12-01'),\n",
        "(10004,42283,'1987-12-01','1988-11-30'),\n",
        "(10004,42542,'1988-11-30','1989-11-30'),\n",
        "(10004,46065,'1989-11-30','1990-11-30'),\n",
        "(10004,48271,'1990-11-30','1991-11-30'),\n",
        "(10004,50594,'1991-11-30','1992-11-29'),\n",
        "(10004,52119,'1992-11-29','1993-11-29'),\n",
        "(10004,54693,'1993-11-29','1994-11-29'),\n",
        "(10004,58326,'1994-11-29','1995-11-29'),\n",
        "(10004,60770,'1995-11-29','1996-11-28'),\n",
        "(10004,62566,'1996-11-28','1997-11-28'),\n",
        "(10004,64340,'1997-11-28','1998-11-28'),\n",
        "(10004,67096,'1998-11-28','1999-11-28'),\n",
        "(10004,69722,'1999-11-28','2000-11-27'),\n",
        "(10004,70698,'2000-11-27','2001-11-27'),\n",
        "(10004,74057,'2001-11-27','9999-01-01'),\n",
        "(10005,78228,'1989-09-12','1990-09-12'),\n",
        "(10005,82621,'1990-09-12','1991-09-12'),\n",
        "(10005,83735,'1991-09-12','1992-09-11'),\n",
        "(10005,85572,'1992-09-11','1993-09-11'),\n",
        "(10005,85076,'1993-09-11','1994-09-11'),\n",
        "(10005,86050,'1994-09-11','1995-09-11'),\n",
        "(10005,88448,'1995-09-11','1996-09-10'),\n",
        "(10005,88063,'1996-09-10','1997-09-10'),\n",
        "(10005,89724,'1997-09-10','1998-09-10'),\n",
        "(10005,90392,'1998-09-10','1999-09-10'),\n",
        "(10005,90531,'1999-09-10','2000-09-09'),\n",
        "(10005,91453,'2000-09-09','2001-09-09'),\n",
        "(10005,94692,'2001-09-09','9999-01-01'),\n",
        "(10006,40000,'1990-08-05','1991-08-05'),\n",
        "(10006,42085,'1991-08-05','1992-08-04'),\n",
        "(10006,42629,'1992-08-04','1993-08-04'),\n",
        "(10006,45844,'1993-08-04','1994-08-04'),\n",
        "(10006,47518,'1994-08-04','1995-08-04'),\n",
        "(10006,47917,'1995-08-04','1996-08-03'),\n",
        "(10006,52255,'1996-08-03','1997-08-03'),\n",
        "(10006,53747,'1997-08-03','1998-08-03'),\n",
        "(10006,56032,'1998-08-03','1999-08-03'),\n",
        "(10006,58299,'1999-08-03','2000-08-02'),\n",
        "(10006,60098,'2000-08-02','2001-08-02'),\n",
        "(10006,59755,'2001-08-02','9999-01-01'),\n",
        "(10007,56724,'1989-02-10','1990-02-10'),\n",
        "(10007,60740,'1990-02-10','1991-02-10'),\n",
        "(10007,62745,'1991-02-10','1992-02-10'),\n",
        "(10007,63475,'1992-02-10','1993-02-09'),\n",
        "(10007,63208,'1993-02-09','1994-02-09'),\n",
        "(10007,64563,'1994-02-09','1995-02-09'),\n",
        "(10007,68833,'1995-02-09','1996-02-09'),\n",
        "(10007,70220,'1996-02-09','1997-02-08'),\n",
        "(10007,73362,'1997-02-08','1998-02-08'),\n",
        "(10007,75582,'1998-02-08','1999-02-08'),\n",
        "(10007,79513,'1999-02-08','2000-02-08'),\n",
        "(10007,80083,'2000-02-08','2001-02-07'),\n",
        "(10007,84456,'2001-02-07','2002-02-07'),\n",
        "(10007,88070,'2002-02-07','9999-01-01'),\n",
        "(10008,46671,'1998-03-11','1999-03-11'),\n",
        "(10008,48584,'1999-03-11','2000-03-10'),\n",
        "(10008,52668,'2000-03-10','2000-07-31'),\n",
        "(10009,60929,'1985-02-18','1986-02-18'),\n",
        "(10009,64604,'1986-02-18','1987-02-18'),\n",
        "(10009,64780,'1987-02-18','1988-02-18'),\n",
        "(10009,66302,'1988-02-18','1989-02-17'),\n",
        "(10009,69042,'1989-02-17','1990-02-17'),\n",
        "(10009,70889,'1990-02-17','1991-02-17'),\n",
        "(10009,71434,'1991-02-17','1992-02-17'),\n",
        "(10009,74612,'1992-02-17','1993-02-16'),\n",
        "(10009,76518,'1993-02-16','1994-02-16'),\n",
        "(10009,78335,'1994-02-16','1995-02-16'),\n",
        "(10009,80944,'1995-02-16','1996-02-16'),\n",
        "(10009,82507,'1996-02-16','1997-02-15'),\n",
        "(10009,85875,'1997-02-15','1998-02-15'),\n",
        "(10009,89324,'1998-02-15','1999-02-15'),\n",
        "(10009,90668,'1999-02-15','2000-02-15'),\n",
        "(10009,93507,'2000-02-15','2001-02-14'),\n",
        "(10009,94443,'2001-02-14','2002-02-14'),\n",
        "(10009,94409,'2002-02-14','9999-01-01'),\n",
        "(10010,72488,'1996-11-24','1997-11-24'),\n",
        "(10010,74347,'1997-11-24','1998-11-24'),\n",
        "(10010,75405,'1998-11-24','1999-11-24'),\n",
        "(10010,78194,'1999-11-24','2000-11-23'),\n",
        "(10010,79580,'2000-11-23','2001-11-23'),\n",
        "(10010,80324,'2001-11-23','9999-01-01'),\n",
        "(10011,42365,'1990-01-22','1991-01-22'),\n",
        "(10011,44200,'1991-01-22','1992-01-22'),\n",
        "(10011,48214,'1992-01-22','1993-01-21'),\n",
        "(10011,50927,'1993-01-21','1994-01-21'),\n",
        "(10011,51470,'1994-01-21','1995-01-21'),\n",
        "(10011,54545,'1995-01-21','1996-01-21'),\n",
        "(10011,56753,'1996-01-21','1996-11-09'),\n",
        "(10012,40000,'1992-12-18','1993-12-18'),\n",
        "(10012,41867,'1993-12-18','1994-12-18'),\n",
        "(10012,42318,'1994-12-18','1995-12-18'),\n",
        "(10012,44195,'1995-12-18','1996-12-17'),\n",
        "(10012,46460,'1996-12-17','1997-12-17'),\n",
        "(10012,46485,'1997-12-17','1998-12-17'),\n",
        "(10012,47364,'1998-12-17','1999-12-17'),\n",
        "(10012,51122,'1999-12-17','2000-12-16'),\n",
        "(10012,54794,'2000-12-16','2001-12-16'),\n",
        "(10012,54423,'2001-12-16','9999-01-01'),\n",
        "(10013,40000,'1985-10-20','1986-10-20'),\n",
        "(10013,40623,'1986-10-20','1987-10-20'),\n",
        "(10013,40561,'1987-10-20','1988-10-19'),\n",
        "(10013,40306,'1988-10-19','1989-10-19'),\n",
        "(10013,43569,'1989-10-19','1990-10-19'),\n",
        "(10013,46305,'1990-10-19','1991-10-19'),\n",
        "(10013,47118,'1991-10-19','1992-10-18'),\n",
        "(10013,50351,'1992-10-18','1993-10-18'),\n",
        "(10013,49887,'1993-10-18','1994-10-18'),\n",
        "(10013,53957,'1994-10-18','1995-10-18'),\n",
        "(10013,57590,'1995-10-18','1996-10-17'),\n",
        "(10013,59228,'1996-10-17','1997-10-17'),\n",
        "(10013,59571,'1997-10-17','1998-10-17'),\n",
        "(10013,63274,'1998-10-17','1999-10-17'),\n",
        "(10013,63352,'1999-10-17','2000-10-16'),\n",
        "(10013,66744,'2000-10-16','2001-10-16'),\n",
        "(10013,68901,'2001-10-16','9999-01-01'),\n",
        "(10014,46168,'1993-12-29','1994-12-29'),\n",
        "(10014,48242,'1994-12-29','1995-12-29'),\n",
        "(10014,47921,'1995-12-29','1996-12-28'),\n",
        "(10014,50715,'1996-12-28','1997-12-28'),\n",
        "(10014,53228,'1997-12-28','1998-12-28'),\n",
        "(10014,53962,'1998-12-28','1999-12-28'),\n",
        "(10014,56937,'1999-12-28','2000-12-27'),\n",
        "(10014,59142,'2000-12-27','2001-12-27'),\n",
        "(10014,60598,'2001-12-27','9999-01-01'),\n",
        "(10015,40000,'1992-09-19','1993-08-22'),\n",
        "(10016,70889,'1998-02-11','1999-02-11'),\n",
        "(10016,72946,'1999-02-11','2000-02-11'),\n",
        "(10016,76826,'2000-02-11','2001-02-10'),\n",
        "(10016,76381,'2001-02-10','2002-02-10'),\n",
        "(10016,77935,'2002-02-10','9999-01-01'),\n",
        "(10017,71380,'1993-08-03','1994-08-03'),\n",
        "(10017,75538,'1994-08-03','1995-08-03'),\n",
        "(10017,79510,'1995-08-03','1996-08-02'),\n",
        "(10017,82163,'1996-08-02','1997-08-02'),\n",
        "(10017,86157,'1997-08-02','1998-08-02'),\n",
        "(10017,89619,'1998-08-02','1999-08-02'),\n",
        "(10017,91985,'1999-08-02','2000-08-01'),\n",
        "(10017,96122,'2000-08-01','2001-08-01'),\n",
        "(10017,98522,'2001-08-01','2002-08-01'),\n",
        "(10017,99651,'2002-08-01','9999-01-01'),\n",
        "(10018,55881,'1987-04-03','1988-04-02'),\n",
        "(10018,59206,'1988-04-02','1989-04-02'),\n",
        "(10018,61361,'1989-04-02','1990-04-02'),\n",
        "(10018,61648,'1990-04-02','1991-04-02'),\n",
        "(10018,61217,'1991-04-02','1992-04-01'),\n",
        "(10018,61244,'1992-04-01','1993-04-01'),\n",
        "(10018,63286,'1993-04-01','1994-04-01'),\n",
        "(10018,65739,'1994-04-01','1995-04-01'),\n",
        "(10018,67519,'1995-04-01','1996-03-31'),\n",
        "(10018,69276,'1996-03-31','1997-03-31'),\n",
        "(10018,72585,'1997-03-31','1998-03-31'),\n",
        "(10018,72804,'1998-03-31','1999-03-31'),\n",
        "(10018,76957,'1999-03-31','2000-03-30'),\n",
        "(10018,80305,'2000-03-30','2001-03-30'),\n",
        "(10018,84541,'2001-03-30','2002-03-30'),\n",
        "(10018,84672,'2002-03-30','9999-01-01'),\n",
        "(10019,44276,'1999-04-30','2000-04-29'),\n",
        "(10019,46946,'2000-04-29','2001-04-29'),\n",
        "(10019,46775,'2001-04-29','2002-04-29'),\n",
        "(10019,50032,'2002-04-29','9999-01-01'),\n",
        "(10020,40000,'1997-12-30','1998-12-30'),\n",
        "(10020,40647,'1998-12-30','1999-12-30'),\n",
        "(10020,43800,'1999-12-30','2000-12-29'),\n",
        "(10020,44927,'2000-12-29','2001-12-29'),\n",
        "(10020,47017,'2001-12-29','9999-01-01'),\n",
        "(10021,55025,'1988-02-10','1989-02-09'),\n",
        "(10021,56399,'1989-02-09','1990-02-09'),\n",
        "(10021,59700,'1990-02-09','1991-02-09'),\n",
        "(10021,60851,'1991-02-09','1992-02-09'),\n",
        "(10021,61117,'1992-02-09','1993-02-08'),\n",
        "(10021,60708,'1993-02-08','1994-02-08'),\n",
        "(10021,63514,'1994-02-08','1995-02-08'),\n",
        "(10021,66249,'1995-02-08','1996-02-08'),\n",
        "(10021,70570,'1996-02-08','1997-02-07'),\n",
        "(10021,74759,'1997-02-07','1998-02-07'),\n",
        "(10021,77519,'1998-02-07','1999-02-07'),\n",
        "(10021,77237,'1999-02-07','2000-02-07'),\n",
        "(10021,79631,'2000-02-07','2001-02-06'),\n",
        "(10021,82295,'2001-02-06','2002-02-06'),\n",
        "(10021,84169,'2002-02-06','2002-07-15'),\n",
        "(10022,40000,'1999-09-03','2000-09-02'),\n",
        "(10022,39935,'2000-09-02','2001-09-02'),\n",
        "(10022,41348,'2001-09-02','9999-01-01'),\n",
        "(10023,47883,'1999-09-27','2000-09-26'),\n",
        "(10023,50319,'2000-09-26','2001-09-26'),\n",
        "(10023,50113,'2001-09-26','9999-01-01'),\n",
        "(10024,83733,'1998-06-14','1999-06-14'),\n",
        "(10024,86715,'1999-06-14','2000-06-13'),\n",
        "(10024,91067,'2000-06-13','2001-06-13'),\n",
        "(10024,94701,'2001-06-13','2002-06-13'),\n",
        "(10024,96646,'2002-06-13','9999-01-01'),\n",
        "(10025,40000,'1987-08-17','1988-08-16'),\n",
        "(10025,44416,'1988-08-16','1989-08-16'),\n",
        "(10025,48680,'1989-08-16','1990-08-16'),\n",
        "(10025,50120,'1990-08-16','1991-08-16'),\n",
        "(10025,50980,'1991-08-16','1992-08-15'),\n",
        "(10025,54459,'1992-08-15','1993-08-15'),\n",
        "(10025,54395,'1993-08-15','1994-08-15'),\n",
        "(10025,56643,'1994-08-15','1995-08-15'),\n",
        "(10025,57585,'1995-08-15','1996-08-14'),\n",
        "(10025,57110,'1996-08-14','1997-08-14'),\n",
        "(10025,57157,'1997-08-14','1997-10-15'),\n",
        "(10026,47585,'1995-03-20','1996-03-19'),\n",
        "(10026,51730,'1996-03-19','1997-03-19'),\n",
        "(10026,53682,'1997-03-19','1998-03-19'),\n",
        "(10026,56769,'1998-03-19','1999-03-19'),\n",
        "(10026,60397,'1999-03-19','2000-03-18'),\n",
        "(10026,64132,'2000-03-18','2001-03-18'),\n",
        "(10026,65415,'2001-03-18','2002-03-18'),\n",
        "(10026,66313,'2002-03-18','9999-01-01'),\n",
        "(10027,40000,'1995-04-02','1996-04-01'),\n",
        "(10027,39520,'1996-04-01','1997-04-01'),\n",
        "(10027,42382,'1997-04-01','1998-04-01'),\n",
        "(10027,43654,'1998-04-01','1999-04-01'),\n",
        "(10027,43925,'1999-04-01','2000-03-31'),\n",
        "(10027,45157,'2000-03-31','2001-03-31'),\n",
        "(10027,45771,'2001-03-31','2002-03-31'),\n",
        "(10027,46145,'2002-03-31','9999-01-01'),\n",
        "(10028,48859,'1991-10-22','1992-10-21'),\n",
        "(10028,50805,'1992-10-21','1993-10-21'),\n",
        "(10028,52082,'1993-10-21','1994-10-21'),\n",
        "(10028,54949,'1994-10-21','1995-10-21'),\n",
        "(10028,55963,'1995-10-21','1996-10-20'),\n",
        "(10028,57831,'1996-10-20','1997-10-20'),\n",
        "(10028,58502,'1997-10-20','1998-04-06'),\n",
        "(10029,63163,'1991-09-18','1992-09-17'),\n",
        "(10029,66877,'1992-09-17','1993-09-17'),\n",
        "(10029,69211,'1993-09-17','1994-09-17'),\n",
        "(10029,70624,'1994-09-17','1995-09-17'),\n",
        "(10029,70294,'1995-09-17','1996-09-16'),\n",
        "(10029,70671,'1996-09-16','1997-09-16'),\n",
        "(10029,73510,'1997-09-16','1998-09-16'),\n",
        "(10029,75773,'1998-09-16','1999-09-16'),\n",
        "(10029,76067,'1999-09-16','2000-09-15'),\n",
        "(10029,76608,'2000-09-15','2001-09-15'),\n",
        "(10029,77777,'2001-09-15','9999-01-01'),\n",
        "(10030,66956,'1994-02-17','1995-02-17'),\n",
        "(10030,68393,'1995-02-17','1996-02-17'),\n",
        "(10030,72795,'1996-02-17','1997-02-16'),\n",
        "(10030,76453,'1997-02-16','1998-02-16'),\n",
        "(10030,79290,'1998-02-16','1999-02-16'),\n",
        "(10030,83327,'1999-02-16','2000-02-16'),\n",
        "(10030,86634,'2000-02-16','2001-02-15'),\n",
        "(10030,87027,'2001-02-15','2002-02-15'),\n",
        "(10030,88806,'2002-02-15','9999-01-01'),\n",
        "(10031,40000,'1991-09-01','1992-08-31'),\n",
        "(10031,40859,'1992-08-31','1993-08-31'),\n",
        "(10031,41881,'1993-08-31','1994-08-31'),\n",
        "(10031,44191,'1994-08-31','1995-08-31'),\n",
        "(10031,47202,'1995-08-31','1996-08-30'),\n",
        "(10031,47606,'1996-08-30','1997-08-30'),\n",
        "(10031,50810,'1997-08-30','1998-08-30'),\n",
        "(10031,52675,'1998-08-30','1999-08-30'),\n",
        "(10031,54177,'1999-08-30','2000-08-29'),\n",
        "(10031,53873,'2000-08-29','2001-08-29'),\n",
        "(10031,56689,'2001-08-29','9999-01-01'),\n",
        "(10032,48426,'1990-06-20','1991-06-20'),\n",
        "(10032,49389,'1991-06-20','1992-06-19'),\n",
        "(10032,52000,'1992-06-19','1993-06-19'),\n",
        "(10032,53038,'1993-06-19','1994-06-19'),\n",
        "(10032,54336,'1994-06-19','1995-06-19'),\n",
        "(10032,53978,'1995-06-19','1996-06-18'),\n",
        "(10032,55090,'1996-06-18','1997-06-18'),\n",
        "(10032,57110,'1997-06-18','1998-06-18'),\n",
        "(10032,57926,'1998-06-18','1999-06-18'),\n",
        "(10032,57876,'1999-06-18','2000-06-17'),\n",
        "(10032,61709,'2000-06-17','2001-06-17'),\n",
        "(10032,65820,'2001-06-17','2002-06-17'),\n",
        "(10032,69539,'2002-06-17','9999-01-01'),\n",
        "(10033,51258,'1987-03-18','1988-03-17'),\n",
        "(10033,54972,'1988-03-17','1989-03-17'),\n",
        "(10033,55410,'1989-03-17','1990-03-17'),\n",
        "(10033,56095,'1990-03-17','1991-03-17'),\n",
        "(10033,56038,'1991-03-17','1992-03-16'),\n",
        "(10033,57712,'1992-03-16','1993-03-16'),\n",
        "(10033,60433,'1993-03-16','1993-03-24'),\n",
        "(10034,47561,'1995-04-12','1996-04-11'),\n",
        "(10034,51192,'1996-04-11','1997-04-11'),\n",
        "(10034,52687,'1997-04-11','1998-04-11'),\n",
        "(10034,53112,'1998-04-11','1999-04-11'),\n",
        "(10034,53164,'1999-04-11','1999-10-31'),\n",
        "(10035,41538,'1988-09-05','1989-09-05'),\n",
        "(10035,45131,'1989-09-05','1990-09-05'),\n",
        "(10035,45629,'1990-09-05','1991-09-05'),\n",
        "(10035,48360,'1991-09-05','1992-09-04'),\n",
        "(10035,50664,'1992-09-04','1993-09-04'),\n",
        "(10035,53060,'1993-09-04','1994-09-04'),\n",
        "(10035,56640,'1994-09-04','1995-09-04'),\n",
        "(10035,57621,'1995-09-04','1996-09-03'),\n",
        "(10035,59291,'1996-09-03','1997-09-03'),\n",
        "(10035,61793,'1997-09-03','1998-09-03'),\n",
        "(10035,62285,'1998-09-03','1999-09-03'),\n",
        "(10035,65332,'1999-09-03','2000-09-02'),\n",
        "(10035,66584,'2000-09-02','2001-09-02'),\n",
        "(10035,68755,'2001-09-02','9999-01-01'),\n",
        "(10036,42819,'1992-04-28','1993-04-28'),\n",
        "(10036,46756,'1993-04-28','1994-04-28'),\n",
        "(10036,51084,'1994-04-28','1995-04-28'),\n",
        "(10036,52308,'1995-04-28','1996-04-27'),\n",
        "(10036,53828,'1996-04-27','1997-04-27'),\n",
        "(10036,54408,'1997-04-27','1998-04-27'),\n",
        "(10036,53929,'1998-04-27','1999-04-27'),\n",
        "(10036,56579,'1999-04-27','2000-04-26'),\n",
        "(10036,60478,'2000-04-26','2001-04-26'),\n",
        "(10036,60520,'2001-04-26','2002-04-26'),\n",
        "(10036,63053,'2002-04-26','9999-01-01');"
      ]
    },
    {
      "cell_type": "code",
      "execution_count": null,
      "metadata": {
        "colab": {
          "base_uri": "https://localhost:8080/",
          "height": 181
        },
        "id": "TQJOL5IPeZwg",
        "outputId": "a273e54a-62a2-4ea4-a675-4b5b9bb434e4"
      },
      "outputs": [
        {
          "name": "stdout",
          "output_type": "stream",
          "text": [
            " * sqlite://\n",
            "Done.\n"
          ]
        },
        {
          "data": {
            "text/html": [
              "<table>\n",
              "    <thead>\n",
              "        <tr>\n",
              "            <th>emp_no</th>\n",
              "            <th>salary</th>\n",
              "            <th>from_date</th>\n",
              "            <th>to_date</th>\n",
              "        </tr>\n",
              "    </thead>\n",
              "    <tbody>\n",
              "        <tr>\n",
              "            <td>10001</td>\n",
              "            <td>60117</td>\n",
              "            <td>1986-06-26</td>\n",
              "            <td>1987-06-26</td>\n",
              "        </tr>\n",
              "        <tr>\n",
              "            <td>10001</td>\n",
              "            <td>62102</td>\n",
              "            <td>1987-06-26</td>\n",
              "            <td>1988-06-25</td>\n",
              "        </tr>\n",
              "        <tr>\n",
              "            <td>10001</td>\n",
              "            <td>66074</td>\n",
              "            <td>1988-06-25</td>\n",
              "            <td>1989-06-25</td>\n",
              "        </tr>\n",
              "        <tr>\n",
              "            <td>10001</td>\n",
              "            <td>66596</td>\n",
              "            <td>1989-06-25</td>\n",
              "            <td>1990-06-25</td>\n",
              "        </tr>\n",
              "        <tr>\n",
              "            <td>10001</td>\n",
              "            <td>66961</td>\n",
              "            <td>1990-06-25</td>\n",
              "            <td>1991-06-25</td>\n",
              "        </tr>\n",
              "    </tbody>\n",
              "</table>"
            ],
            "text/plain": [
              "[(10001, 60117, '1986-06-26', '1987-06-26'),\n",
              " (10001, 62102, '1987-06-26', '1988-06-25'),\n",
              " (10001, 66074, '1988-06-25', '1989-06-25'),\n",
              " (10001, 66596, '1989-06-25', '1990-06-25'),\n",
              " (10001, 66961, '1990-06-25', '1991-06-25')]"
            ]
          },
          "execution_count": 12,
          "metadata": {},
          "output_type": "execute_result"
        }
      ],
      "source": [
        "%%sql\n",
        "SELECT * FROM salaries LIMIT 5;"
      ]
    },
    {
      "cell_type": "markdown",
      "metadata": {
        "id": "T5nMXkgBSnSo"
      },
      "source": [
        "### Statistics\n",
        "\n",
        "* https://www1.udel.edu/evelyn/SQL-Class3/SQL3_Stat.html\n",
        "* https://www.statology.org/convert-z-scores-percentiles-excel/"
      ]
    },
    {
      "cell_type": "code",
      "execution_count": null,
      "metadata": {
        "colab": {
          "base_uri": "https://localhost:8080/",
          "height": 181
        },
        "id": "zjg5-d72epfI",
        "outputId": "ee930419-c18e-4a28-dc9e-4b691bd1d93a"
      },
      "outputs": [
        {
          "name": "stdout",
          "output_type": "stream",
          "text": [
            " * sqlite://\n",
            "Done.\n"
          ]
        },
        {
          "data": {
            "text/html": [
              "<table>\n",
              "    <thead>\n",
              "        <tr>\n",
              "            <th>emp_no</th>\n",
              "            <th>Frequency</th>\n",
              "        </tr>\n",
              "    </thead>\n",
              "    <tbody>\n",
              "        <tr>\n",
              "            <td>10009</td>\n",
              "            <td>18</td>\n",
              "        </tr>\n",
              "        <tr>\n",
              "            <td>10001</td>\n",
              "            <td>17</td>\n",
              "        </tr>\n",
              "        <tr>\n",
              "            <td>10013</td>\n",
              "            <td>17</td>\n",
              "        </tr>\n",
              "        <tr>\n",
              "            <td>10004</td>\n",
              "            <td>16</td>\n",
              "        </tr>\n",
              "        <tr>\n",
              "            <td>10018</td>\n",
              "            <td>16</td>\n",
              "        </tr>\n",
              "    </tbody>\n",
              "</table>"
            ],
            "text/plain": [
              "[(10009, 18), (10001, 17), (10013, 17), (10004, 16), (10018, 16)]"
            ]
          },
          "execution_count": 14,
          "metadata": {},
          "output_type": "execute_result"
        }
      ],
      "source": [
        "%%sql\n",
        "SELECT salaries.emp_no, Count(*) AS Frequency\n",
        "FROM salaries\n",
        "GROUP BY salaries.emp_no\n",
        "ORDER BY Count(*) DESC, emp_no LIMIT 5;"
      ]
    },
    {
      "cell_type": "code",
      "execution_count": null,
      "metadata": {
        "colab": {
          "base_uri": "https://localhost:8080/",
          "height": 139
        },
        "id": "BdPxdJG4fcKf",
        "outputId": "4b883c79-57d1-4e47-96e5-05a3e607fc5e"
      },
      "outputs": [
        {
          "name": "stdout",
          "output_type": "stream",
          "text": [
            " * sqlite://\n",
            "Done.\n"
          ]
        },
        {
          "data": {
            "text/html": [
              "<table>\n",
              "    <thead>\n",
              "        <tr>\n",
              "            <th>emp_no</th>\n",
              "            <th>Frequency</th>\n",
              "        </tr>\n",
              "    </thead>\n",
              "    <tbody>\n",
              "        <tr>\n",
              "            <td>10001</td>\n",
              "            <td>17</td>\n",
              "        </tr>\n",
              "        <tr>\n",
              "            <td>10009</td>\n",
              "            <td>18</td>\n",
              "        </tr>\n",
              "        <tr>\n",
              "            <td>10013</td>\n",
              "            <td>17</td>\n",
              "        </tr>\n",
              "    </tbody>\n",
              "</table>"
            ],
            "text/plain": [
              "[(10001, 17), (10009, 18), (10013, 17)]"
            ]
          },
          "execution_count": 16,
          "metadata": {},
          "output_type": "execute_result"
        }
      ],
      "source": [
        "%%sql\n",
        "SELECT emp_no, Count(*) AS Frequency\n",
        "FROM salaries\n",
        "GROUP BY emp_no\n",
        "HAVING Count(*) >= (\n",
        "  SELECT Count(*)\n",
        "  FROM salaries\n",
        "  GROUP BY emp_no);"
      ]
    },
    {
      "cell_type": "code",
      "execution_count": null,
      "metadata": {
        "colab": {
          "base_uri": "https://localhost:8080/"
        },
        "id": "IVoNgfS3l3dk",
        "outputId": "fc69f0c1-654d-4940-f002-b358aaf6c9dc"
      },
      "outputs": [
        {
          "name": "stdout",
          "output_type": "stream",
          "text": [
            " * sqlite://\n",
            "Done.\n"
          ]
        },
        {
          "data": {
            "text/plain": [
              "[]"
            ]
          },
          "execution_count": 25,
          "metadata": {},
          "output_type": "execute_result"
        }
      ],
      "source": [
        "%%sql\n",
        "CREATE TEMPORARY TABLE temp_sal AS\n",
        "  SELECT emp_no, MAX(salary) as salary\n",
        "  FROM salaries\n",
        "  GROUP BY emp_no;"
      ]
    },
    {
      "cell_type": "code",
      "execution_count": null,
      "metadata": {
        "colab": {
          "base_uri": "https://localhost:8080/",
          "height": 181
        },
        "id": "df25Gnfemxnt",
        "outputId": "93fa7690-6c0f-4002-9749-47769cb0b2df"
      },
      "outputs": [
        {
          "name": "stdout",
          "output_type": "stream",
          "text": [
            " * sqlite://\n",
            "Done.\n"
          ]
        },
        {
          "data": {
            "text/html": [
              "<table>\n",
              "    <thead>\n",
              "        <tr>\n",
              "            <th>emp_no</th>\n",
              "            <th>salary</th>\n",
              "        </tr>\n",
              "    </thead>\n",
              "    <tbody>\n",
              "        <tr>\n",
              "            <td>10001</td>\n",
              "            <td>88958</td>\n",
              "        </tr>\n",
              "        <tr>\n",
              "            <td>10002</td>\n",
              "            <td>72527</td>\n",
              "        </tr>\n",
              "        <tr>\n",
              "            <td>10003</td>\n",
              "            <td>43699</td>\n",
              "        </tr>\n",
              "        <tr>\n",
              "            <td>10004</td>\n",
              "            <td>74057</td>\n",
              "        </tr>\n",
              "        <tr>\n",
              "            <td>10005</td>\n",
              "            <td>94692</td>\n",
              "        </tr>\n",
              "    </tbody>\n",
              "</table>"
            ],
            "text/plain": [
              "[(10001, 88958),\n",
              " (10002, 72527),\n",
              " (10003, 43699),\n",
              " (10004, 74057),\n",
              " (10005, 94692)]"
            ]
          },
          "execution_count": 26,
          "metadata": {},
          "output_type": "execute_result"
        }
      ],
      "source": [
        "%%sql\n",
        "SELECT * FROM temp_sal LIMIT 5;"
      ]
    },
    {
      "cell_type": "code",
      "execution_count": null,
      "metadata": {
        "colab": {
          "base_uri": "https://localhost:8080/",
          "height": 181
        },
        "id": "OEhMknVPnnwz",
        "outputId": "a73b3bd1-be29-456c-9c33-ee08280deeaa"
      },
      "outputs": [
        {
          "name": "stdout",
          "output_type": "stream",
          "text": [
            " * sqlite://\n",
            "Done.\n"
          ]
        },
        {
          "data": {
            "text/html": [
              "<table>\n",
              "    <thead>\n",
              "        <tr>\n",
              "            <th>EmpNo</th>\n",
              "            <th>Frequency</th>\n",
              "            <th>salary</th>\n",
              "        </tr>\n",
              "    </thead>\n",
              "    <tbody>\n",
              "        <tr>\n",
              "            <td>10017</td>\n",
              "            <td>36</td>\n",
              "            <td>99651</td>\n",
              "        </tr>\n",
              "        <tr>\n",
              "            <td>10024</td>\n",
              "            <td>35</td>\n",
              "            <td>96646</td>\n",
              "        </tr>\n",
              "        <tr>\n",
              "            <td>10005</td>\n",
              "            <td>34</td>\n",
              "            <td>94692</td>\n",
              "        </tr>\n",
              "        <tr>\n",
              "            <td>10009</td>\n",
              "            <td>33</td>\n",
              "            <td>94443</td>\n",
              "        </tr>\n",
              "        <tr>\n",
              "            <td>10001</td>\n",
              "            <td>32</td>\n",
              "            <td>88958</td>\n",
              "        </tr>\n",
              "    </tbody>\n",
              "</table>"
            ],
            "text/plain": [
              "[(10017, 36, 99651),\n",
              " (10024, 35, 96646),\n",
              " (10005, 34, 94692),\n",
              " (10009, 33, 94443),\n",
              " (10001, 32, 88958)]"
            ]
          },
          "execution_count": 28,
          "metadata": {},
          "output_type": "execute_result"
        }
      ],
      "source": [
        "%%sql\n",
        "SELECT s1.emp_no as EmpNo, Count(s1.emp_no) as Frequency, s1.salary\n",
        "FROM temp_sal as s1\n",
        "  INNER JOIN temp_sal as s2\n",
        "  ON s1.salary >= s2.salary\n",
        "GROUP BY s1.emp_no\n",
        "ORDER BY s1.salary DESC\n",
        "LIMIT 5;"
      ]
    },
    {
      "cell_type": "code",
      "execution_count": null,
      "metadata": {
        "colab": {
          "base_uri": "https://localhost:8080/",
          "height": 96
        },
        "id": "MwgdYQzXjAvA",
        "outputId": "eccdc550-2cb8-48cf-c2af-cf92e993c6e8"
      },
      "outputs": [
        {
          "name": "stdout",
          "output_type": "stream",
          "text": [
            " * sqlite://\n",
            "Done.\n"
          ]
        },
        {
          "data": {
            "text/html": [
              "<table>\n",
              "    <thead>\n",
              "        <tr>\n",
              "            <th>MedianSalary</th>\n",
              "        </tr>\n",
              "    </thead>\n",
              "    <tbody>\n",
              "        <tr>\n",
              "            <td>63053.0</td>\n",
              "        </tr>\n",
              "    </tbody>\n",
              "</table>"
            ],
            "text/plain": [
              "[(63053.0,)]"
            ]
          },
          "execution_count": 30,
          "metadata": {},
          "output_type": "execute_result"
        }
      ],
      "source": [
        "%%sql\n",
        "SELECT Avg(salary) as MedianSalary FROM\n",
        "  (SELECT s1.emp_no as EmpNo, Count(s1.emp_no) as Frequency, s1.salary\n",
        "  FROM temp_sal as s1\n",
        "    INNER JOIN temp_sal as s2\n",
        "    ON s1.salary >= s2.salary\n",
        "  GROUP BY s1.emp_no\n",
        "  HAVING Count(s1.emp_no)\n",
        "    BETWEEN (SELECT (Count(emp_no)/2)-0.5 FROM temp_sal)\n",
        "    AND (SELECT (Count(emp_no)/2)+0.5 FROM temp_sal)\n",
        "  ORDER BY s1.salary);"
      ]
    },
    {
      "cell_type": "markdown",
      "metadata": {
        "id": "QH9EobxfbQhe"
      },
      "source": [
        "### Employees DB\n",
        "\n",
        "* https://github.com/fracpete/employees-db-sqlite\n",
        "* https://www3.ntu.edu.sg/home/ehchua/programming/sql/SampleDatabases.html\n",
        "* https://dev.mysql.com/doc/employee/en/employees-installation.html\n",
        "* https://github.com/datacharmer/test_db\n",
        "* https://dev.mysql.com/doc/employee/en/sakila-structure.html\n"
      ]
    },
    {
      "cell_type": "code",
      "execution_count": null,
      "metadata": {
        "colab": {
          "base_uri": "https://localhost:8080/"
        },
        "id": "aahgMlJTpwIF",
        "outputId": "988cf775-a44c-4280-e30f-dcc74604dfef"
      },
      "outputs": [
        {
          "output_type": "stream",
          "name": "stdout",
          "text": [
            "gzip: /content/drive/MyDrive/INFO4080/ is a directory -- ignored\n"
          ]
        }
      ],
      "source": [
        "!gunzip \"/content/drive/MyDrive/INFO4080/employees_db-full-1.0.6.db.gz\""
      ]
    },
    {
      "cell_type": "code",
      "source": [
        "# mount drive\n",
        "!gunzip \"/content/drive/MyDrive/INFO4080/employees_db-full-1.0.6.db.gz\" \"/content/drive/MyDrive/INFO4080/\""
      ],
      "metadata": {
        "id": "erVkqzWgwrqL"
      },
      "execution_count": null,
      "outputs": []
    },
    {
      "cell_type": "code",
      "source": [
        "import sqlite3\n",
        "\n",
        "connection = sqlite3.connect('/content/drive/MyDrive/INFO4080/employees_db-full-1.0.6.db')\n",
        "cursor = connection.cursor()"
      ],
      "metadata": {
        "id": "ZgRglEzQwxri"
      },
      "execution_count": null,
      "outputs": []
    },
    {
      "cell_type": "code",
      "source": [
        "results = cursor.execute(\"SELECT * FROM salaries LIMIT 5\").fetchall()\n",
        "print([d[0] for d in cursor.description])\n",
        "for record in results:\n",
        "  print(record)"
      ],
      "metadata": {
        "colab": {
          "base_uri": "https://localhost:8080/"
        },
        "id": "xVwafDATw30I",
        "outputId": "f023e158-0bfa-49dd-e4a7-9a361b689bd6"
      },
      "execution_count": null,
      "outputs": [
        {
          "output_type": "stream",
          "name": "stdout",
          "text": [
            "['emp_no', 'salary', 'from_date', 'to_date']\n",
            "(10001, 60117, '1986-06-26', '1987-06-26')\n",
            "(10001, 62102, '1987-06-26', '1988-06-25')\n",
            "(10001, 66074, '1988-06-25', '1989-06-25')\n",
            "(10001, 66596, '1989-06-25', '1990-06-25')\n",
            "(10001, 66961, '1990-06-25', '1991-06-25')\n"
          ]
        }
      ]
    },
    {
      "cell_type": "markdown",
      "metadata": {
        "id": "0rdxW_tCSjRQ"
      },
      "source": [
        "### Normal Curve\n",
        "\n",
        "* https://exceljet.net/functions/norm.s.dist-function\n",
        "*"
      ]
    },
    {
      "cell_type": "markdown",
      "metadata": {
        "id": "5AGQFc3O5-HL"
      },
      "source": [
        "## LLM Fine Tuning\n",
        "\n",
        "Sources:\n",
        "* https://huggingface.co/docs/transformers/en/training\n",
        "* https://youtu.be/OCNraV2Toa0?si=-0az6qyHlGLNdCTl\n",
        "* https://youtu.be/g-_lw944edU?si=ZjZkEjEn_O0lEbry\n",
        "* https://www.udemy.com/course/openai-python-api-bootcamp-learn-to-use-ai-gpt3-and-more"
      ]
    },
    {
      "cell_type": "markdown",
      "metadata": {
        "id": "7dk-jbiGPIZG"
      },
      "source": [
        "### Hugging Face\n",
        "\n",
        "Setup\n",
        "* Create account\n",
        "* Create a new Space\n",
        "* Select Docker... AutoTrain\n",
        "* Get HF_Token\n",
        "* Choose Public / Private\n",
        "\n",
        "Get HF_Token\n",
        "* Go to account\n",
        "* Settings\n",
        "* Access Tokens\n",
        "* Create new token with Write\n",
        "* Use for HF_Token in Space\n",
        "\n",
        "AutoTrain\n",
        "* Hardware\n",
        "* Task\n",
        "* Base Model (hardware must have enough space for that model)\n",
        "* Training Data\n",
        "* Column Mapping\n",
        "\n",
        "Training Parameters\n",
        "\n",
        "Terms\n",
        "* https://huggingface.co/docs/trl/main/en/sft_trainer (supervised fine tuning)\n",
        "* https://huggingface.co/docs/autotrain/en/llm_finetuning (check text format)\n",
        "* https://huggingface.co/blog/pref-tuning\n",
        "* https://huggingface.co/blog/rishiraj/finetune-llms"
      ]
    },
    {
      "cell_type": "markdown",
      "metadata": {
        "id": "1YpJicaOKMTy"
      },
      "source": [
        "### WikiScrape Summarizer"
      ]
    },
    {
      "cell_type": "markdown",
      "metadata": {
        "id": "65N3xNjkW8Il"
      },
      "source": [
        "The format might look like a list of dictionaries:\n",
        "\n",
        "    [{\"fulltext\": \"some prompt string\",\"summary\":\"the best completed text option given the prompt\"},]"
      ]
    },
    {
      "cell_type": "code",
      "execution_count": null,
      "metadata": {
        "id": "6POM3Rao5zMj"
      },
      "outputs": [],
      "source": [
        "# import pandas as pd\n",
        "\n",
        "# df = pd.read_csv('file.csv')"
      ]
    },
    {
      "cell_type": "code",
      "execution_count": null,
      "metadata": {
        "id": "SdZ5BqFDXHxf"
      },
      "outputs": [],
      "source": [
        "# # create json format\n",
        "# fulltext = df['txt']\n",
        "# ft_format = [{\"fulltext\" : f, \"summary\": f} for f, s in zip(fulltext, summary)]"
      ]
    },
    {
      "cell_type": "code",
      "execution_count": null,
      "metadata": {
        "id": "2oZTQoLiXolE"
      },
      "outputs": [],
      "source": [
        "# # example\n",
        "# print(len(ft_format))\n",
        "# ft_format[0]"
      ]
    },
    {
      "cell_type": "code",
      "execution_count": null,
      "metadata": {
        "id": "cX2gIa5kYj1O"
      },
      "outputs": [],
      "source": [
        "# # list to json\n",
        "# import json\n",
        "\n",
        "# training_data = json.dumps(ft_format, indent=2)"
      ]
    },
    {
      "cell_type": "markdown",
      "source": [
        "### Hugging Face AutoTrain\n",
        "\n",
        "* For LLM SFT and Generic: csv file should have one column named text followed by the actual text rows\n",
        "  * https://discuss.huggingface.co/t/autotrain-csv-data-format/63305\n",
        "  * https://github.com/huggingface/autotrain-example-datasets/blob/main/alpaca1k.csv\n",
        "  * https://huggingface.co/docs/autotrain/en/llm_finetuning\n",
        "  * https://www.kdnuggets.com/how-to-use-hugging-face-autotrain-to-finetune-llms"
      ],
      "metadata": {
        "id": "kzOGchjQPxR7"
      }
    },
    {
      "cell_type": "markdown",
      "metadata": {
        "id": "7bU0xi6mODIE"
      },
      "source": [
        "## APA Research Paper"
      ]
    },
    {
      "cell_type": "markdown",
      "metadata": {
        "id": "RwtS0AfqN3gh"
      },
      "source": [
        "### Abstract Section\n",
        "\n",
        "* ABSTRACT: The abstract needs to provide a brief but comprehensive summary of the contents of your paper.  It provides an overview of the paper and helps readers decide whether to read the full text. Limit your abstract to 250 words.\n",
        "* https://apastyle.apa.org/instructional-aids/abstract-keywords-guide.pdf"
      ]
    },
    {
      "cell_type": "markdown",
      "metadata": {
        "id": "uWTrcQvAN5fV"
      },
      "source": [
        "### Introduction Section\n",
        "\n",
        "* A good introduction will summarize, integrate, and critically evaluate the empirical knowledge in the relevant area(s) in a way that sets the stage for your study and why you conducted it. The introduction starts out broad (but not too broad!) and gets more focused toward the end.\n",
        "\n",
        "Example Prompt:\n",
        "\n",
        "My research question is To what extent and through what mechanisms does religion influence the formation and expression of ultra-nationalist ideologies and movements within Western civilization? I need to write an introduction to my research paper. Can you write an opening sentence that clearly conveys the relevance of the following text.\n",
        "\n",
        "[text]"
      ]
    },
    {
      "cell_type": "markdown",
      "metadata": {
        "id": "7NZ4_SknF-fX"
      },
      "source": [
        "### Method Section\n",
        "\n",
        "From Gemini\n",
        "\n",
        "**Prompt**: I am writing a research paper and want to know what elements go in the method section\n",
        "\n",
        "**Response**:\n",
        "\n",
        "**Method**\n",
        "\n",
        "The method section of your research paper is crucial, as it details how you conducted your research and allows readers to assess its validity and replicability. Here are the key elements you should include:\n",
        "\n",
        "**1. Research Design:**\n",
        "\n",
        "* https://library.cityu.edu/researchguides/researchmethods/litreview\n",
        "* Briefly explain the type of research design you employed (e.g., experiment, survey, case study).\n",
        "* Justify your choice of design and how it aligns with your research question and objectives.\n",
        "\n",
        "**2. Participants or Subjects:**\n",
        "\n",
        "* Describe the characteristics of your participants or subjects, including demographics, selection criteria, and sample size.\n",
        "* Explain how you recruited participants and ensure ethical considerations were addressed (e.g., informed consent).\n",
        "\n",
        "**3. Materials and Equipment:**\n",
        "\n",
        "* List all the materials and equipment used in your research, including specific details like brand names, models, and software versions.\n",
        "* Describe any specific procedures or preparations undertaken for the materials or equipment.\n",
        "\n",
        "**4. Procedure:**\n",
        "\n",
        "* Provide a step-by-step explanation of how you conducted your research, ensuring clarity and conciseness.\n",
        "* Include details on data collection methods (e.g., surveys, interviews, observations) and any manipulations or interventions involved.\n",
        "*  If applicable, describe the order of events and any control measures implemented.\n",
        "\n",
        "**5. Data Analysis:**\n",
        "\n",
        "* Explain how you analyzed your data, including the specific statistical tests or qualitative analysis methods used.\n",
        "* Briefly justify your choice of analysis methods and their appropriateness for your research question and data type.\n",
        "\n",
        "**Additional Considerations:**\n",
        "\n",
        "* **Ethical Approval:** If your research involved human subjects or animals, mention the ethical approval process and the body that granted approval.\n",
        "* **Data Management:** Briefly describe how you stored and managed your data throughout the research process.\n",
        "* **Clarity and Conciseness:** Use clear and concise language, avoiding jargon and unnecessary details.\n",
        "* **Logical Organization:**  Structure the section logically, often using subheadings to present information in a clear and organized manner.\n",
        "\n",
        "Remember, the specific elements and level of detail required in your methods section may vary depending on your field of study and specific research question. It's always recommended to consult your research style guide or professor for specific formatting and content requirements."
      ]
    },
    {
      "cell_type": "markdown",
      "metadata": {
        "id": "7QXMnzR6kaqA"
      },
      "source": [
        "### Results Section\n",
        "\n",
        "The results section of a research paper is all about presenting the cold, hard facts unearthed by your research. It acts like a bridge between the methodology you used and what you ultimately discovered. Here are the key points to remember:\n",
        "\n",
        "* **Focus on Findings:** It presents what you found, sticking to data and observations without interpretation or analysis. Think of it as laying out the evidence.\n",
        "* **Answer the Question:** The findings should directly address the research question(s) you posed at the outset of the paper.\n",
        "* **Logical Flow:** Organize your findings in a clear and logical sequence, often mirroring the structure of your methodology.\n",
        "* **Data Presentation:** Use tables, figures, and charts to effectively showcase your findings. Text descriptions should complement these visuals.\n",
        "* **Neutral Tone:** Avoid any bias or personal opinions in this section. Maintain a strictly objective and factual approach.\n",
        "* **Context is Key:** Briefly introduce the results section by reminding the reader of the research problem and the purpose of your study.\n",
        "* **Only Relevant Findings:** Include data directly connected to your research goals. Avoid cluttering the section with unnecessary details.\n",
        "\n",
        "Remember, the results section sets the stage for the discussion section, where you'll delve deeper into interpreting the meaning of your findings.\n",
        "\n",
        "The results section of a research paper is one of the most important parts, and it should only include the findings of the study. The results section should include:\n",
        "\n",
        "* Data: Data presented in tables, charts, graphs, and other figures\n",
        "* Contextual analysis: A sentence-based explanation of the meaning of the data\n",
        "* Secondary findings: Secondary outcomes, subgroup analyses, and more\n",
        "* Connection to research questions: How the data relates to the research questions\n",
        "\n",
        "The results section should not attempt to interpret or analyze the findings, only state the facts. The data may be placed into the text or on separate pages at the end of the manuscript.\n",
        "\n",
        "The results (or findings) section is one of the most important parts of a research paper, in which an author reports the findings of their study in connection to their research question(s). The results section should not attempt to interpret or analyze the findings, only state the facts.\n",
        "\n",
        "The Results section should include the findings of your study and ONLY the findings of your study. The findings include: Data presented in tables, charts, graphs, and other figures (may be placed into the text or on separate pages at the end of the manuscript) A contextual analysis of this data explaining its meaning in sentence form. All data that corresponds to the central research question(s) All secondary findings (secondary outcomes, subgroup analyses, etc.)\n"
      ]
    },
    {
      "cell_type": "markdown",
      "metadata": {
        "id": "OBmjzJ6eNl8q"
      },
      "source": [
        "### Discussion Section\n",
        "\n",
        "* Prompt: Hi, I am writing a APA 7 research paper and want to know the key elements of the discussion section. Please also provide and outline of the APA 7 discussion section.\n",
        "\n",
        "#### Key Elements of an APA 7 Discussion Section\n",
        "\n",
        "The discussion section is the heart of your research paper. Here's what you should cover:\n",
        "\n",
        "* **Interpretation of Findings:** Explain what your results mean in light of your research questions or hypotheses.  Discuss how your findings relate to existing research (mentioned in your literature review).\n",
        "* **Acknowledge Unexpected Results:**  Address any findings that didn't support your hypotheses.  Discuss possible explanations for these results.\n",
        "* **Limitations:** Discuss the weaknesses or limitations of your study.  How might these limitations have affected your results?\n",
        "* **Implications:**  Explain the broader significance of your research.  What are the real-world implications of your findings?\n",
        "* **Future Directions:**  Propose areas for future research based on your findings.  What questions remain unanswered?\n",
        "\n",
        "####  Outline of an APA 7 Discussion Section\n",
        "\n",
        "1. **Brief Re-state the Research Question/Hypothesis:**  Remind the reader of your research goals.\n",
        "2. **Summarize Key Findings:** Briefly mention the main results of your study.\n",
        "3. **Interpret Findings in Detail:**  Dive deeper into your results, explaining their meaning and how they relate to your research questions/hypotheses and the existing literature.\n",
        "    * Discuss any unexpected findings and offer possible explanations.\n",
        "4. **Limitations:** Acknowledge the weaknesses of your study and how they might have affected your results.\n",
        "5. **Implications:**  Explain the broader significance of your research.  What are the real-world implications of your findings?\n",
        "6. **Future Directions:**  Propose new research questions or areas for future investigation based on your findings.\n",
        "7. **Conclusion:**   Briefly summarize the main points of your discussion and reiterate the significance of your research.\n",
        "\n",
        "**Tips:**\n",
        "\n",
        "* Use the present tense to discuss your findings.\n",
        "*  Cite relevant sources throughout the discussion to support your interpretations.\n",
        "* Maintain a formal and objective writing style.\n"
      ]
    },
    {
      "cell_type": "markdown",
      "metadata": {
        "id": "f7tMMWnl5ky6"
      },
      "source": [
        "### Bibliography / References"
      ]
    },
    {
      "cell_type": "markdown",
      "metadata": {
        "id": "_8RA45bllgda"
      },
      "source": [
        "## PowerPoint Presentation\n",
        "\n",
        "* https://docs.google.com/document/d/1onb_1KS8RCDc2McbCDp1IewIXg47uwi1URTgDZFcLQY/edit?usp=sharing"
      ]
    },
    {
      "cell_type": "markdown",
      "metadata": {
        "id": "Gkkb6Os0YV43"
      },
      "source": [
        "## Github Pages"
      ]
    }
  ],
  "metadata": {
    "colab": {
      "provenance": [],
      "toc_visible": true,
      "authorship_tag": "ABX9TyNSnj95Cn/+A4DW8rtQiSaP",
      "include_colab_link": true
    },
    "kernelspec": {
      "display_name": "Python 3",
      "name": "python3"
    },
    "language_info": {
      "name": "python"
    }
  },
  "nbformat": 4,
  "nbformat_minor": 0
}