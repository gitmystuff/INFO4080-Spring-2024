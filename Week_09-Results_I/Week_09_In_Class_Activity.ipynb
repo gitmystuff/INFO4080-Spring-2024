{
  "nbformat": 4,
  "nbformat_minor": 0,
  "metadata": {
    "colab": {
      "provenance": [],
      "authorship_tag": "ABX9TyOJfrpIDfBlXPqfLpCJtp0G",
      "include_colab_link": true
    },
    "kernelspec": {
      "name": "python3",
      "display_name": "Python 3"
    },
    "language_info": {
      "name": "python"
    }
  },
  "cells": [
    {
      "cell_type": "markdown",
      "metadata": {
        "id": "view-in-github",
        "colab_type": "text"
      },
      "source": [
        "<a href=\"https://colab.research.google.com/github/gitmystuff/INFO4080/blob/main/Week_09-Results_I/Week_09_In_Class_Activity.ipynb\" target=\"_parent\"><img src=\"https://colab.research.google.com/assets/colab-badge.svg\" alt=\"Open In Colab\"/></a>"
      ]
    },
    {
      "cell_type": "markdown",
      "source": [
        "# Week 9: In-Class Activity\n",
        "\n",
        "Your Name"
      ],
      "metadata": {
        "id": "ghkm4G_Kan4q"
      }
    },
    {
      "cell_type": "markdown",
      "source": [
        "## Getting Started\n",
        "\n",
        "* Colab - get notebook from gitmystuff DTSC4080 repository\n",
        "* Save a Copy in Drive\n",
        "* Remove Copy of\n",
        "* Edit your name\n",
        "* Attendance\n",
        "* Clean up Colab Notebooks folder\n",
        "* Submit shared link"
      ],
      "metadata": {
        "id": "NNUOZnWEaqKv"
      }
    },
    {
      "cell_type": "markdown",
      "source": [
        "## Public Data\n",
        "\n",
        "* https://data.census.gov/\n",
        "* https://healthdata.gov/\n",
        "* Edgar: https://www.sec.gov/edgar\n",
        "* Bureau of Justice: https://bjs.ojp.gov/\n",
        "* IRS: https://www.irs.gov/statistics\n",
        "* Bureau of Economic Analysis: https://www.bea.gov/\n",
        "* Federal Reserve: https://www.federalreserve.gov/data.htm\n",
        "* DOE Data and Research: https://www2.ed.gov/rschstat/landing.jhtml?src=ft\n",
        "* Bureau of Labor Statistics: https://www.bls.gov/\n",
        "* US Patent and Trademark Office: https://www.uspto.gov/\n",
        "* National Centers for Environmental Information: https://www.ncei.noaa.gov/\n",
        "* World Bank: https://data.worldbank.org/\n",
        "* CIA World Factbook: https://www.cia.gov/the-world-factbook/\n",
        "* United Nations: https://data.un.org/\n",
        "* UNICEF: https://data.unicef.org/\n",
        "* Statistics Canada: https://www.statcan.gc.ca/\n",
        "* Eurostat: https://ec.europa.eu/eurostat\n",
        "* Organization for Economic Cooperation and Development: https://data.oecd.org/\n",
        "* UK National Health Service NHS Digital: https://digital.nhs.uk/\n",
        "* Google Finance: https://www.google.com/finance/\n",
        "* Google Trends: https://trends.google.com/trends/\n",
        "* Google Public Data Explorer: https://www.google.com/publicdata/directory\n",
        "* Amazon Web Services Public Data: https://registry.opendata.aws/\n",
        "* Data.gov: https://data.gov/\n",
        "* Google Ngram Viewer: https://books.google.com/ngrams/\n",
        "* The Corpus of Contemporary American English: https://www.english-corpora.org/coca/\n",
        "* University of California, Irvine, Center for Machine Learning: https://archive.ics.uci.edu/\n",
        "* Pew Research Center: https://www.pewresearch.org/\n",
        "* https://www.linkedin.com/learning/learning-public-data-sets-2/bureau-of-labor-statistics?resume=false&u=74650474\n",
        "\n"
      ],
      "metadata": {
        "id": "3bNQM76dx1AI"
      }
    },
    {
      "cell_type": "markdown",
      "source": [
        "## BigQuery\n",
        "\n",
        "* https://console.cloud.google.com/marketplace/product/google/bigquery.googleapis.com?_ga=2.211298837.1868925152.1707340152-1299486709.1704991752&project=studynotes-prod&returnUrl=%2Fbigquery%3F_ga%3D2.211298837.1868925152.1707340152-1299486709.1704991752%26project%3Dstudynotes-prod\n",
        "\n",
        "<pre>\n",
        "SELECT\n",
        "  *\n",
        "FROM\n",
        "  `bigquery-public-data.usa_names.usa_1910_current`\n",
        "LIMIT 100\n",
        "</pre>\n",
        "\n",
        "<pre>\n",
        "SELECT\n",
        "  *\n",
        "FROM\n",
        "  `bigquery-public-data.usa_names.usa_1910_current`\n",
        "WHERE\n",
        "  state = 'TX'\n",
        "LIMIT 100\n",
        "</pre>\n",
        "\n",
        "<pre>\n",
        "SELECT\n",
        "  MIN(year), MAX(year)\n",
        "FROM\n",
        "  `bigquery-public-data.usa_names.usa_1910_current`\n",
        "</pre>\n",
        "\n",
        "<pre>\n",
        "SELECT\n",
        "  name, COUNT(name) as cnt\n",
        "FROM\n",
        "  `bigquery-public-data.usa_names.usa_1910_current`\n",
        "GROUP BY name\n",
        "ORDER BY cnt DESC\n",
        "LIMIT 1\n",
        "</pre>\n",
        "\n",
        "<pre>\n",
        "SELECT\n",
        "  *\n",
        "FROM\n",
        "  `bigquery-public-data.usa_names.usa_1910_current`\n",
        "WHERE\n",
        "  state = 'TX'\n",
        "AND\n",
        "  year = 2020\n",
        "LIMIT 100\n",
        "</pre>\n",
        "\n"
      ],
      "metadata": {
        "id": "wVhHy57pd1-K"
      }
    },
    {
      "cell_type": "markdown",
      "source": [
        "Public datasets\n",
        "\n",
        "* Add\n",
        "* Search for public datasets\n",
        "* Search of World Bank\n",
        "\n",
        "World Bank\n",
        "* https://databank.worldbank.org/metadataglossary/jobs/series/SI.POV.GINI"
      ],
      "metadata": {
        "id": "U61OtIl3VLsu"
      }
    },
    {
      "cell_type": "markdown",
      "source": [
        "<pre>\n",
        "\n",
        "SELECT acs.geo_id, acs.total_pop, fips.state_name\n",
        "FROM\n",
        "`bigquery-public-data.census_bureau_acs.state_2010_1yr` as acs,\n",
        "`bigquery-public-data.census_utility.fips_codes_states` as fips\n",
        "WHERE acs.geo_id = fips.state_fips_code\n",
        "AND fips.state_name = 'Texas'\n",
        "\n",
        "</pre>\n",
        "\n",
        "<pre>\n",
        "SELECT *\n",
        "FROM `bigquery-public-data.census_bureau_acs.state_2010_1yr` as acs\n",
        "INNER JOIN  `bigquery-public-data.census_utility.fips_codes_states` as fips\n",
        "ON acs.geo_id = fips.state_fips_code\n",
        "</pre>"
      ],
      "metadata": {
        "id": "k7WC8zTRg-Mr"
      }
    },
    {
      "cell_type": "markdown",
      "source": [
        "## Research Paper Method Section\n",
        "\n",
        "From Gemini\n",
        "\n",
        "**Prompt**: I am writing a research paper and want to know what elements go in the method section\n",
        "\n",
        "**Response**:\n",
        "\n",
        "**Method**\n",
        "\n",
        "The method section of your research paper is crucial, as it details how you conducted your research and allows readers to assess its validity and replicability. Here are the key elements you should include:\n",
        "\n",
        "**1. Research Design:**\n",
        "\n",
        "* https://library.cityu.edu/researchguides/researchmethods/litreview\n",
        "* Briefly explain the type of research design you employed (e.g., experiment, survey, case study).\n",
        "* Justify your choice of design and how it aligns with your research question and objectives.\n",
        "\n",
        "**2. Participants or Subjects:**\n",
        "\n",
        "* Describe the characteristics of your participants or subjects, including demographics, selection criteria, and sample size.\n",
        "* Explain how you recruited participants and ensure ethical considerations were addressed (e.g., informed consent).\n",
        "\n",
        "**3. Materials and Equipment:**\n",
        "\n",
        "* List all the materials and equipment used in your research, including specific details like brand names, models, and software versions.\n",
        "* Describe any specific procedures or preparations undertaken for the materials or equipment.\n",
        "\n",
        "**4. Procedure:**\n",
        "\n",
        "* Provide a step-by-step explanation of how you conducted your research, ensuring clarity and conciseness.\n",
        "* Include details on data collection methods (e.g., surveys, interviews, observations) and any manipulations or interventions involved.\n",
        "*  If applicable, describe the order of events and any control measures implemented.\n",
        "\n",
        "**5. Data Analysis:**\n",
        "\n",
        "* Explain how you analyzed your data, including the specific statistical tests or qualitative analysis methods used.\n",
        "* Briefly justify your choice of analysis methods and their appropriateness for your research question and data type.\n",
        "\n",
        "**Additional Considerations:**\n",
        "\n",
        "* **Ethical Approval:** If your research involved human subjects or animals, mention the ethical approval process and the body that granted approval.\n",
        "* **Data Management:** Briefly describe how you stored and managed your data throughout the research process.\n",
        "* **Clarity and Conciseness:** Use clear and concise language, avoiding jargon and unnecessary details.\n",
        "* **Logical Organization:**  Structure the section logically, often using subheadings to present information in a clear and organized manner.\n",
        "\n",
        "Remember, the specific elements and level of detail required in your methods section may vary depending on your field of study and specific research question. It's always recommended to consult your research style guide or professor for specific formatting and content requirements."
      ],
      "metadata": {
        "id": "7NZ4_SknF-fX"
      }
    },
    {
      "cell_type": "markdown",
      "source": [
        "## Results Section\n",
        "\n",
        "The results section of a research paper is all about presenting the cold, hard facts unearthed by your research. It acts like a bridge between the methodology you used and what you ultimately discovered. Here are the key points to remember:\n",
        "\n",
        "* **Focus on Findings:** It presents what you found, sticking to data and observations without interpretation or analysis. Think of it as laying out the evidence.\n",
        "* **Answer the Question:** The findings should directly address the research question(s) you posed at the outset of the paper.\n",
        "* **Logical Flow:** Organize your findings in a clear and logical sequence, often mirroring the structure of your methodology.\n",
        "* **Data Presentation:** Use tables, figures, and charts to effectively showcase your findings. Text descriptions should complement these visuals.\n",
        "* **Neutral Tone:** Avoid any bias or personal opinions in this section. Maintain a strictly objective and factual approach.\n",
        "* **Context is Key:** Briefly introduce the results section by reminding the reader of the research problem and the purpose of your study.\n",
        "* **Only Relevant Findings:** Include data directly connected to your research goals. Avoid cluttering the section with unnecessary details.\n",
        "\n",
        "Remember, the results section sets the stage for the discussion section, where you'll delve deeper into interpreting the meaning of your findings.\n",
        "\n",
        "The results section of a research paper is one of the most important parts, and it should only include the findings of the study. The results section should include:\n",
        "\n",
        "* Data: Data presented in tables, charts, graphs, and other figures\n",
        "* Contextual analysis: A sentence-based explanation of the meaning of the data\n",
        "* Secondary findings: Secondary outcomes, subgroup analyses, and more\n",
        "* Connection to research questions: How the data relates to the research questions\n",
        "\n",
        "The results section should not attempt to interpret or analyze the findings, only state the facts. The data may be placed into the text or on separate pages at the end of the manuscript.\n",
        "\n",
        "The results (or findings) section is one of the most important parts of a research paper, in which an author reports the findings of their study in connection to their research question(s). The results section should not attempt to interpret or analyze the findings, only state the facts.\n",
        "\n",
        "The Results section should include the findings of your study and ONLY the findings of your study. The findings include: Data presented in tables, charts, graphs, and other figures (may be placed into the text or on separate pages at the end of the manuscript) A contextual analysis of this data explaining its meaning in sentence form. All data that corresponds to the central research question(s) All secondary findings (secondary outcomes, subgroup analyses, etc.)\n"
      ],
      "metadata": {
        "id": "7QXMnzR6kaqA"
      }
    },
    {
      "cell_type": "markdown",
      "source": [
        "## Research Datasets Example\n",
        "\n",
        "* https://console.cloud.google.com/marketplace/browse?filter=solution-type:dataset&_ga=2.130334793.770505259.1711051101-842379299.1707340435\n",
        "\n",
        "I am writing a research paper titled To what extent and through what mechanisms does religion influence the formation and expression of ultra-nationalist ideologies and movements within Western civilization? I am looking for some datasets to support this.\n",
        "\n",
        "Finding a direct causal link between religion and ultra-nationalism is complex, and datasets will likely reflect correlations that need further analysis. Here are some resources to explore for your research paper:\n",
        "\n",
        "**Datasets:**\n",
        "\n",
        "* World Values Survey (WVS): [https://www.worldvaluessurvey.org/](https://www.worldvaluessurvey.org/)\n",
        "    * Conducts surveys in many countries, including measures of religious beliefs and national pride.\n",
        "* Varieties of Democracy (V-Dem) Project: [https://www.v-dem.net/data/the-v-dem-dataset/](https://www.v-dem.net/data/the-v-dem-dataset/)\n",
        "    * Dataset on democracy and political regimes, including measures of nationalism. Might require coding religious variables yourself.\n",
        "* Pew Research Center: [https://www.pewresearch.org/](https://www.pewresearch.org/)\n",
        "    * Conducts surveys on religion and public opinion, some including national identity.\n",
        "\n",
        "**Additional Resources:**\n",
        "\n",
        "* Religion and State Conflict Dataset (RASCOD): [https://history.dartmouth.edu/recent-publications](https://history.dartmouth.edu/recent-publications)\n",
        "    * Focuses on religious violence, but might offer insights into how religion interacts with nationalism.\n",
        "* The Geospatial Analysis of Religion and Society (GARS): [https://www.e-education.psu.edu/sites/default/files/ethics/mapping-muslim-neighbors-case.pdf](https://www.e-education.psu.edu/sites/default/files/ethics/mapping-muslim-neighbors-case.pdf)\n",
        "    * Provides spatial data on religion around the world.\n",
        "\n",
        "**Considerations:**\n",
        "\n",
        "* **Correlations vs. Causation:** Datasets will likely show correlations between religious beliefs and nationalist attitudes. You will need to analyze these correlations carefully to avoid causal misinterpretations.\n",
        "* **Control Variables:**  Consider factors like economic inequality, political history, and ethnic composition that might influence both religion and nationalism.\n",
        "* **Religious Diversity:** Explore how different religions or denominations might relate to ultra-nationalism.\n",
        "* **Historical Context:**  Nationalism and religious expression have evolved over time. Consider historical periods relevant to your research.\n",
        "\n",
        "**Remember:** Datasets are just one piece of the puzzle. Analyze them alongside qualitative research (case studies, historical analysis) to build a strong argument about the relationship between religion and ultra-nationalism.\n"
      ],
      "metadata": {
        "id": "NxdQRHt_6b0R"
      }
    },
    {
      "cell_type": "markdown",
      "source": [
        "## Terms Related to Research\n",
        "\n",
        "* https://docs.google.com/document/d/1a_lCcwkEhuolVEWumeGRRzBHnEQGgiTJmyjJuF3z3Pw/edit?usp=sharing"
      ],
      "metadata": {
        "id": "6yridgHAlUZ1"
      }
    },
    {
      "cell_type": "markdown",
      "source": [
        "## PowerPoint Project\n",
        "\n",
        "* https://docs.google.com/document/d/1onb_1KS8RCDc2McbCDp1IewIXg47uwi1URTgDZFcLQY/edit?usp=sharing"
      ],
      "metadata": {
        "id": "_8RA45bllgda"
      }
    }
  ]
}