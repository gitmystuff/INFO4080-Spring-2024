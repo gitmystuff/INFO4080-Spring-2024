{
  "nbformat": 4,
  "nbformat_minor": 0,
  "metadata": {
    "colab": {
      "provenance": [],
      "authorship_tag": "ABX9TyMk+swfmnZ0Sw2mbsao4UBC",
      "include_colab_link": true
    },
    "kernelspec": {
      "name": "python3",
      "display_name": "Python 3"
    },
    "language_info": {
      "name": "python"
    }
  },
  "cells": [
    {
      "cell_type": "markdown",
      "metadata": {
        "id": "view-in-github",
        "colab_type": "text"
      },
      "source": [
        "<a href=\"https://colab.research.google.com/github/gitmystuff/INFO4080/blob/main/Week_05-Introduction_Section/NER.ipynb\" target=\"_parent\"><img src=\"https://colab.research.google.com/assets/colab-badge.svg\" alt=\"Open In Colab\"/></a>"
      ]
    },
    {
      "cell_type": "markdown",
      "source": [
        "# Named Entity Recognition\n",
        "\n",
        "* https://en.m.wikipedia.org/wiki/History_of_science_and_technology_in_the_Indian_subcontinent"
      ],
      "metadata": {
        "id": "2a89UwZv2HIo"
      }
    },
    {
      "cell_type": "code",
      "execution_count": null,
      "metadata": {
        "colab": {
          "base_uri": "https://localhost:8080/"
        },
        "id": "QOuidMhj2D7G",
        "outputId": "5d2fa7f9-cb68-4d21-da97-b6edfb59cd51"
      },
      "outputs": [
        {
          "output_type": "execute_result",
          "data": {
            "text/plain": [
              "0                                  Contents\n",
              "1                                Prehistory\n",
              "2                            Early kingdoms\n",
              "3       Middle Kingdoms (230 BCE – 1206 CE)\n",
              "4                Late Medieval  (1206–1527)\n",
              "5       Early Modern period  (1527–1857 CE)\n",
              "6               Colonial era (1858–1947 CE)\n",
              "7     Post-Independence (1947 CE – present)\n",
              "8                                  See also\n",
              "9                                     Notes\n",
              "10                               References\n",
              "11                          Further reading\n",
              "12                           External links\n",
              "dtype: object"
            ]
          },
          "metadata": {},
          "execution_count": 5
        }
      ],
      "source": [
        "# get table of contents\n",
        "from bs4 import BeautifulSoup\n",
        "import pandas as pd\n",
        "import requests\n",
        "\n",
        "soup = BeautifulSoup(requests.get('https://en.m.wikipedia.org/wiki/History_of_science_and_technology_in_the_Indian_subcontinent').text)\n",
        "s = soup.find_all('h2')\n",
        "# s_list = [x.get_text() for x in s]\n",
        "s_list = [x.get_text().strip().replace('edit', '').strip() for x in s]\n",
        "pd.Series(s_list)"
      ]
    },
    {
      "cell_type": "code",
      "source": [
        "import re\n",
        "import textwrap\n",
        "\n",
        "CLEANR = re.compile('<.*?>')\n",
        "def cleanhtml(raw_html):\n",
        "  cleantext = re.sub(CLEANR, '', raw_html)\n",
        "  return cleantext\n",
        "\n",
        "heading1 = s_list[4].replace(' ', '_')\n",
        "heading1 = re.sub(' +', '_', s_list[4])\n",
        "txt = ''\n",
        "target = soup.find('span', attrs={'id': heading1.replace(' ', '_')}).parent\n",
        "for sib in target.find_next_siblings():\n",
        "    if sib.name=='h2':\n",
        "        break\n",
        "    else:\n",
        "        txt += str(sib)\n",
        "\n",
        "# convert string to html\n",
        "# soup2 = BeautifulSoup(txt)\n",
        "print(textwrap.fill(soup2.text))"
      ],
      "metadata": {
        "colab": {
          "base_uri": "https://localhost:8080/"
        },
        "id": "PaL2750h3mSl",
        "outputId": "090ed33e-4e90-4c2c-d8d4-9ae45f4aaacb"
      },
      "execution_count": null,
      "outputs": [
        {
          "output_type": "stream",
          "name": "stdout",
          "text": [
            " Madhava of Sangamagrama (c. 1340 – 1425) and his Kerala school of\n",
            "astronomy and mathematics developed and founded mathematical\n",
            "analysis.[106] The infinite series for π was stated by him, and he\n",
            "made use of the series expansion of     arctan ⁡ x   {\\displaystyle\n",
            "\\arctan x}   to obtain an infinite series expression, now known as the\n",
            "Madhava-Gregory series, for     π   {\\displaystyle \\pi }  . Their\n",
            "rational approximation of the error for the finite sum of their series\n",
            "are of particular interest. They manipulated the error term to derive\n",
            "a faster converging series for     π   {\\displaystyle \\pi }  . They\n",
            "used the improved series to derive a rational expression,[107]\n",
            "104348  /  33215   {\\displaystyle 104348/33215}   for     π\n",
            "{\\displaystyle \\pi }   correct up to nine decimal places, i.e.\n",
            "3.141592653   {\\displaystyle 3.141592653}   (of\n",
            "3.1415926535897...).[107] The development of the series expansions for\n",
            "trigonometric functions (sine, cosine, and arc tangent) was carried\n",
            "out by mathematicians of the Kerala School in the 15th century\n",
            "CE.[108] Their work, completed two centuries before the invention of\n",
            "calculus in Europe, provided what is now considered the first example\n",
            "of a power series (apart from geometric series).[108]Mathmatation\n",
            "Narayana Pandit wrote two works, an arithmetical treatise called\n",
            "Ganita Kaumudi and an algebraic treatise called Bijaganita Vatamsa.\n",
            "Narayana is also made contributions to algebra and magic\n",
            "squares.Narayana's other major works contain a variety of\n",
            "investigations into the second order indeterminate equation nq2 + 1 =\n",
            "p2 (Pell's equation), solutions of indeterminate higher-order\n",
            "equations Narayana has also made contributions to the topic of cyclic\n",
            "quadrilaterals.  The Navya Nyaya school began around eastern India and\n",
            "Bengal, and developed theories resembling modern logic, such as\n",
            "Gottlob Frege's \"distinction between sense and reference of proper\n",
            "names\" and his \"definition of number,\" as well as the Navya-Nyaya\n",
            "theory of \"restrictive conditions for universals\" anticipating some of\n",
            "the developments in modern set theory.[109] Udayana in particular\n",
            "developed theories on \"restrictive conditions for universals\" and\n",
            "\"infinite regress\" that anticipated aspects of modern set theory.\n",
            "According to Kisor Kumar Chakrabarti:[110]The Navya-Nyāya or Neo-\n",
            "Logical darśana (school) of Indian philosophy was founded in the 13th\n",
            "century CE by the philosopher Gangesha Upadhyaya of Mithila. It was a\n",
            "development of the classical Nyāya darśana. Other influences on Navya-\n",
            "Nyāya were the work of earlier philosophers Vācaspati Miśra (900–980\n",
            "CE) and Udayana (late 10th century).Navya-Nyāya developed a\n",
            "sophisticated language and conceptual scheme that allowed it to raise,\n",
            "analyse, and solve problems in logic and epistemology. It systematised\n",
            "all the Nyāya concepts into four main categories: sense or perception\n",
            "(pratyakşa), inference (anumāna), comparison or similarity (upamāna),\n",
            "and testimony (sound or word; śabda). Shēr Shāh of northern India\n",
            "issued silver currency bearing Islamic motifs, later imitated by the\n",
            "Mughal Empire.[43] The Chinese merchant Ma Huan (1413–51) noted that\n",
            "gold coins, known as fanam, were issued in Cochin and weighed a total\n",
            "of one fen and one li according to the Chinese standards.[111] They\n",
            "were of fine quality and could be exchanged in China for 15 silver\n",
            "coins of four-li weight each.[111]  Jahangir holding a seamless\n",
            "celestial globe. This was one of the first examples of Seamless hollow\n",
            "Metallurgy.In 1500, Nilakantha Somayaji of the Kerala school of\n",
            "astronomy and mathematics, in his Tantrasangraha, revised Aryabhata's\n",
            "elliptical model for the planets Mercury and Venus. His equation of\n",
            "the centre for these planets remained the most accurate until the time\n",
            "of Johannes Kepler in the 17th century.[112]Gunpowder and gunpowder\n",
            "weapons were transmitted to India through the Mongol invasions of\n",
            "India.[113][need quotation to verify][114] The Mongols were defeated\n",
            "by Alauddin Khalji of the Delhi Sultanate, and some of the Mongol\n",
            "soldiers remained in northern India after their conversion to\n",
            "Islam.[114] It was written in the Tarikh-i Firishta (1606–1607) that\n",
            "the envoy of the Mongol ruler Hulagu Khan was presented with a\n",
            "pyrotechnics display upon his arrival in Delhi in 1258 CE.[115] As a\n",
            "part of an embassy to India by Timurid leader Shah Rukh (1405–1447),\n",
            "'Abd al-Razzaq mentioned naphtha-throwers mounted on elephants and a\n",
            "variety of pyrotechnics put on display.[116] Firearms known as top-o-\n",
            "tufak also existed in the Vijayanagara Empire by as early as 1366\n",
            "CE.[115] From then on the employment of gunpowder warfare in the\n",
            "region was prevalent, with events such as the siege of Belgaum in 1473\n",
            "CE by the Sultan Muhammad Shah Bahmani.[117]\n"
          ]
        }
      ]
    },
    {
      "cell_type": "code",
      "source": [
        "# uncomment to download\n",
        "import spacy.cli\n",
        "\n",
        "spacy.cli.download('en_core_web_sm')"
      ],
      "metadata": {
        "colab": {
          "base_uri": "https://localhost:8080/"
        },
        "id": "S06l4DNz8XZ4",
        "outputId": "b67a4f21-8926-46b2-e721-e4310c76158d"
      },
      "execution_count": null,
      "outputs": [
        {
          "output_type": "stream",
          "name": "stdout",
          "text": [
            "\u001b[38;5;2m✔ Download and installation successful\u001b[0m\n",
            "You can now load the package via spacy.load('en_core_web_sm')\n"
          ]
        }
      ]
    },
    {
      "cell_type": "code",
      "source": [
        "import spacy\n",
        "\n",
        "nlp = spacy.load('en_core_web_sm')\n",
        "\n",
        "doc = nlp(soup2.text)\n",
        "for ent in doc.ents:\n",
        "    print(ent.label_, ent.text)"
      ],
      "metadata": {
        "colab": {
          "base_uri": "https://localhost:8080/"
        },
        "id": "52xwpsgj7uP3",
        "outputId": "36341aef-d37c-4671-c0ed-ae60bf4090d3"
      },
      "execution_count": null,
      "outputs": [
        {
          "output_type": "stream",
          "name": "stdout",
          "text": [
            "ORG Madhava\n",
            "PERSON Sangamagrama\n",
            "GPE Kerala\n",
            "ORG Madhava-Gregory\n",
            "DATE 104348\n",
            "CARDINAL 33215\n",
            "DATE \\displaystyle 104348/33215\n",
            "CARDINAL up to nine\n",
            "CARDINAL 3.141592653\n",
            "CARDINAL 3.141592653\n",
            "CARDINAL 3.1415926535897\n",
            "ORG the Kerala School\n",
            "DATE the 15th century\n",
            "PERSON CE.[108] Their\n",
            "DATE two centuries\n",
            "LOC Europe\n",
            "ORDINAL first\n",
            "ORG Narayana Pandit\n",
            "CARDINAL two\n",
            "PERSON Ganita Kaumudi\n",
            "ORG Bijaganita Vatamsa\n",
            "ORG Narayana\n",
            "ORG Narayana\n",
            "ORDINAL second\n",
            "DATE + 1\n",
            "PERSON Pell\n",
            "ORG Narayana\n",
            "ORG The Navya Nyaya school\n",
            "GPE India\n",
            "GPE Bengal\n",
            "PERSON Gottlob Frege's\n",
            "ORG the Navya-Nyaya\n",
            "GPE Udayana\n",
            "PERSON Kisor Kumar\n",
            "ORG Neo-Logical\n",
            "NORP Indian\n",
            "DATE the 13th century\n",
            "PERSON Gangesha Upadhyaya\n",
            "GPE Mithila\n",
            "GPE Nyāya\n",
            "ORG Navya-Nyāya\n",
            "PERSON Vācaspati Miśra\n",
            "CARDINAL 900–980\n",
            "GPE Udayana\n",
            "ORDINAL 10th\n",
            "ORG Nyāya\n",
            "CARDINAL four\n",
            "PERSON Shēr Shāh\n",
            "GPE India\n",
            "NORP Islamic\n",
            "NORP Chinese\n",
            "PERSON Ma Huan\n",
            "PERSON Cochin\n",
            "CARDINAL one\n",
            "CARDINAL one\n",
            "NORP Chinese\n",
            "GPE China\n",
            "CARDINAL 15\n",
            "CARDINAL four\n",
            "ORG Jahangir\n",
            "CARDINAL one\n",
            "ORDINAL first\n",
            "ORG Seamless hollow Metallurgy\n",
            "CARDINAL 1500\n",
            "PERSON Nilakantha Somayaji\n",
            "PERSON Kerala\n",
            "ORG Tantrasangraha\n",
            "ORG Aryabhata\n",
            "ORG Mercury\n",
            "LOC Venus\n",
            "ORG Johannes Kepler\n",
            "DATE the 17th\n",
            "GPE India\n",
            "NORP Mongol\n",
            "PERSON Alauddin Khalji\n",
            "GPE the Delhi Sultanate\n",
            "NORP Mongol\n",
            "GPE India\n",
            "CARDINAL 1606–1607\n",
            "NORP Mongol\n",
            "PERSON Hulagu Khan\n",
            "GPE Delhi\n",
            "DATE 1258\n",
            "GPE India\n",
            "NORP Timurid\n",
            "PERSON Shah Rukh\n",
            "PERSON Abd al-Razzaq\n",
            "GPE the Vijayanagara Empire\n",
            "DATE as early as 1366\n",
            "FAC Belgaum\n",
            "DATE 1473\n",
            "PERSON Muhammad Shah\n"
          ]
        }
      ]
    },
    {
      "cell_type": "code",
      "source": [
        "soup2.text"
      ],
      "metadata": {
        "colab": {
          "base_uri": "https://localhost:8080/",
          "height": 156
        },
        "id": "RWwEEtfe-fTU",
        "outputId": "88d1a57e-02e6-4ed6-bb95-3b53a305ade3"
      },
      "execution_count": null,
      "outputs": [
        {
          "output_type": "execute_result",
          "data": {
            "text/plain": [
              "'\\nMadhava of Sangamagrama (c. 1340 – 1425) and his Kerala school of astronomy and mathematics developed and founded mathematical analysis.[106] The infinite series for π was stated by him, and he made use of the series expansion of \\n\\n\\n\\narctan\\n\\u2061\\nx\\n\\n\\n{\\\\displaystyle \\\\arctan x}\\n\\xa0 to obtain an infinite series expression, now known as the Madhava-Gregory series, for \\n\\n\\n\\nπ\\n\\n\\n{\\\\displaystyle \\\\pi }\\n\\xa0. Their rational approximation of the error for the finite sum of their series are of particular interest. They manipulated the error term to derive a faster converging series for \\n\\n\\n\\nπ\\n\\n\\n{\\\\displaystyle \\\\pi }\\n\\xa0. They used the improved series to derive a rational expression,[107] \\n\\n\\n\\n104348\\n\\n/\\n\\n33215\\n\\n\\n{\\\\displaystyle 104348/33215}\\n\\xa0 for \\n\\n\\n\\nπ\\n\\n\\n{\\\\displaystyle \\\\pi }\\n\\xa0 correct up to nine decimal places, i.e. \\n\\n\\n\\n3.141592653\\n\\n\\n{\\\\displaystyle 3.141592653}\\n\\xa0 (of 3.1415926535897...).[107]\\nThe development of the series expansions for trigonometric functions (sine, cosine, and arc tangent) was carried out by mathematicians of the Kerala School in the 15th century CE.[108] Their work, completed two centuries before the invention of calculus in Europe, provided what is now considered the first example of a power series (apart from geometric series).[108]Mathmatation Narayana Pandit wrote two works, an arithmetical treatise called Ganita Kaumudi and an algebraic treatise called Bijaganita Vatamsa. Narayana is also made contributions to algebra and magic squares.Narayana\\'s other major works contain a variety of investigations into the second order indeterminate equation nq2 + 1 = p2 (Pell\\'s equation), solutions of indeterminate higher-order equations Narayana has also made contributions to the topic of cyclic quadrilaterals. \\nThe Navya Nyaya school began around eastern India and Bengal, and developed theories resembling modern logic, such as Gottlob Frege\\'s \"distinction between sense and reference of proper names\" and his \"definition of number,\" as well as the Navya-Nyaya theory of \"restrictive conditions for universals\" anticipating some of the developments in modern set theory.[109] Udayana in particular developed theories on \"restrictive conditions for universals\" and \"infinite regress\" that anticipated aspects of modern set theory. According to Kisor Kumar Chakrabarti:[110]The Navya-Nyāya or Neo-Logical darśana (school) of Indian philosophy was founded in the 13th century CE by the philosopher Gangesha Upadhyaya of Mithila. It was a development of the classical Nyāya darśana. Other influences on Navya-Nyāya were the work of earlier philosophers Vācaspati Miśra (900–980 CE) and Udayana (late 10th century).Navya-Nyāya developed a sophisticated language and conceptual scheme that allowed it to raise, analyse, and solve problems in logic and epistemology. It systematised all the Nyāya concepts into four main categories: sense or perception (pratyakşa), inference (anumāna), comparison or similarity (upamāna), and testimony (sound or word; śabda).\\nShēr Shāh of northern India issued silver currency bearing Islamic motifs, later imitated by the Mughal Empire.[43] The Chinese merchant Ma Huan (1413–51) noted that gold coins, known as fanam, were issued in Cochin and weighed a total of one fen and one li according to the Chinese standards.[111] They were of fine quality and could be exchanged in China for 15 silver coins of four-li weight each.[111]\\n\\xa0Jahangir holding a seamless celestial globe. This was one of the first examples of Seamless hollow Metallurgy.In 1500, Nilakantha Somayaji of the Kerala school of astronomy and mathematics, in his Tantrasangraha, revised Aryabhata\\'s elliptical model for the planets Mercury and Venus. His equation of the centre for these planets remained the most accurate until the time of Johannes Kepler in the 17th century.[112]Gunpowder and gunpowder weapons were transmitted to India through the Mongol invasions of India.[113][need quotation to verify][114] The Mongols were defeated by Alauddin Khalji of the Delhi Sultanate, and some of the Mongol soldiers remained in northern India after their conversion to Islam.[114] It was written in the Tarikh-i Firishta (1606–1607) that the envoy of the Mongol ruler Hulagu Khan was presented with a pyrotechnics display upon his arrival in Delhi in 1258 CE.[115] As a part of an embassy to India by Timurid leader Shah Rukh (1405–1447), \\'Abd al-Razzaq mentioned naphtha-throwers mounted on elephants and a variety of pyrotechnics put on display.[116] Firearms known as top-o-tufak also existed in the Vijayanagara Empire by as early as 1366 CE.[115] From then on the employment of gunpowder warfare in the region was prevalent, with events such as the siege of Belgaum in 1473 CE by the Sultan Muhammad Shah Bahmani.[117]\\n'"
            ],
            "application/vnd.google.colaboratory.intrinsic+json": {
              "type": "string"
            }
          },
          "metadata": {},
          "execution_count": 28
        }
      ]
    },
    {
      "cell_type": "code",
      "source": [
        "from sklearn.decomposition import LatentDirichletAllocation\n",
        "from sklearn.feature_extraction.text import TfidfVectorizer\n",
        "\n",
        "# results = 10\n",
        "components = 1\n",
        "topics = 100\n",
        "\n",
        "vectorizer = TfidfVectorizer(stop_words='english')\n",
        "vectors = vectorizer.fit_transform([soup2.text])\n",
        "\n",
        "model = LatentDirichletAllocation(n_components=components)\n",
        "model.fit(vectors)\n",
        "\n",
        "topics_dictionary = {}\n",
        "for index, topic in enumerate(model.components_):\n",
        "    # print(f'Topic {index} top words: {[vectorizer.get_feature_names_out()[i] for i in topic.argsort()[-topics:]]}')\n",
        "    topics_dictionary[index] = [vectorizer.get_feature_names_out()[i] for i in topic.argsort()[-topics:]]\n",
        "\n",
        "topics_dictionary"
      ],
      "metadata": {
        "colab": {
          "base_uri": "https://localhost:8080/"
        },
        "id": "UpC_G5gJ-N7f",
        "outputId": "35fbe600-3d05-4dd2-c1e6-a01c21ff2d4a"
      },
      "execution_count": null,
      "outputs": [
        {
          "output_type": "stream",
          "name": "stdout",
          "text": [
            "Topic 0 top words: ['distinction', 'example', 'earlier', 'early', 'events', 'europe', 'equations', 'epistemology', 'envoy', 'elephants', 'employment', 'decimal', 'faster', 'embassy', 'cyclic', 'conversion', 'fen', 'firishta', 'correct', 'cosine', 'firearms', 'converging', 'frege', 'considered', 'functions', 'currency', 'finite', 'fine', 'contain', 'work', 'according', '33215', 'works', '107', 'issued', 'error', '111', 'founded', 'theories', '114', '141592653', 'expression', 'treatise', 'indeterminate', '115', 'udayana', 'variety', '108', 'universals', 'conditions', '104348', 'darśana', 'called', 'pyrotechnics', 'delhi', 'derive', 'mathematics', 'empire', 'rational', 'astronomy', 'development', 'particular', 'display', 'chinese', 'remained', 'planets', 'set', 'arctan', 'madhava', 'order', 'seamless', 'logic', 'sense', 'nyaya', 'restrictive', 'silver', 'coins', 'contributions', 'shah', 'li', 'northern', 'modern', 'mongol', 'gunpowder', 'known', 'infinite', 'theory', 'equation', 'kerala', 'pi', 'developed', 'century', 'narayana', 'school', 'nyāya', 'navya', 'ce', 'displaystyle', 'india', 'series']\n"
          ]
        },
        {
          "output_type": "execute_result",
          "data": {
            "text/plain": [
              "{0: ['distinction',\n",
              "  'example',\n",
              "  'earlier',\n",
              "  'early',\n",
              "  'events',\n",
              "  'europe',\n",
              "  'equations',\n",
              "  'epistemology',\n",
              "  'envoy',\n",
              "  'elephants',\n",
              "  'employment',\n",
              "  'decimal',\n",
              "  'faster',\n",
              "  'embassy',\n",
              "  'cyclic',\n",
              "  'conversion',\n",
              "  'fen',\n",
              "  'firishta',\n",
              "  'correct',\n",
              "  'cosine',\n",
              "  'firearms',\n",
              "  'converging',\n",
              "  'frege',\n",
              "  'considered',\n",
              "  'functions',\n",
              "  'currency',\n",
              "  'finite',\n",
              "  'fine',\n",
              "  'contain',\n",
              "  'work',\n",
              "  'according',\n",
              "  '33215',\n",
              "  'works',\n",
              "  '107',\n",
              "  'issued',\n",
              "  'error',\n",
              "  '111',\n",
              "  'founded',\n",
              "  'theories',\n",
              "  '114',\n",
              "  '141592653',\n",
              "  'expression',\n",
              "  'treatise',\n",
              "  'indeterminate',\n",
              "  '115',\n",
              "  'udayana',\n",
              "  'variety',\n",
              "  '108',\n",
              "  'universals',\n",
              "  'conditions',\n",
              "  '104348',\n",
              "  'darśana',\n",
              "  'called',\n",
              "  'pyrotechnics',\n",
              "  'delhi',\n",
              "  'derive',\n",
              "  'mathematics',\n",
              "  'empire',\n",
              "  'rational',\n",
              "  'astronomy',\n",
              "  'development',\n",
              "  'particular',\n",
              "  'display',\n",
              "  'chinese',\n",
              "  'remained',\n",
              "  'planets',\n",
              "  'set',\n",
              "  'arctan',\n",
              "  'madhava',\n",
              "  'order',\n",
              "  'seamless',\n",
              "  'logic',\n",
              "  'sense',\n",
              "  'nyaya',\n",
              "  'restrictive',\n",
              "  'silver',\n",
              "  'coins',\n",
              "  'contributions',\n",
              "  'shah',\n",
              "  'li',\n",
              "  'northern',\n",
              "  'modern',\n",
              "  'mongol',\n",
              "  'gunpowder',\n",
              "  'known',\n",
              "  'infinite',\n",
              "  'theory',\n",
              "  'equation',\n",
              "  'kerala',\n",
              "  'pi',\n",
              "  'developed',\n",
              "  'century',\n",
              "  'narayana',\n",
              "  'school',\n",
              "  'nyāya',\n",
              "  'navya',\n",
              "  'ce',\n",
              "  'displaystyle',\n",
              "  'india',\n",
              "  'series']}"
            ]
          },
          "metadata": {},
          "execution_count": 34
        }
      ]
    }
  ]
}