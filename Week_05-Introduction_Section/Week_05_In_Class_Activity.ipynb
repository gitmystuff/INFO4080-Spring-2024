{
  "nbformat": 4,
  "nbformat_minor": 0,
  "metadata": {
    "colab": {
      "provenance": [],
      "toc_visible": true,
      "authorship_tag": "ABX9TyMNVkppLHut+mXRPKfiSRPY",
      "include_colab_link": true
    },
    "kernelspec": {
      "name": "python3",
      "display_name": "Python 3"
    },
    "language_info": {
      "name": "python"
    }
  },
  "cells": [
    {
      "cell_type": "markdown",
      "metadata": {
        "id": "view-in-github",
        "colab_type": "text"
      },
      "source": [
        "<a href=\"https://colab.research.google.com/github/gitmystuff/INFO4080/blob/main/Week_05-Introduction_Section/Week_05_In_Class_Activity.ipynb\" target=\"_parent\"><img src=\"https://colab.research.google.com/assets/colab-badge.svg\" alt=\"Open In Colab\"/></a>"
      ]
    },
    {
      "cell_type": "markdown",
      "source": [
        "# Week 5: In-Class Activity\n",
        "\n",
        "Your Name"
      ],
      "metadata": {
        "id": "ghkm4G_Kan4q"
      }
    },
    {
      "cell_type": "markdown",
      "source": [
        "## Getting Started\n",
        "\n",
        "* Colab - get notebook from gitmystuff DTSC4080 repository\n",
        "* Save a Copy in Drive\n",
        "* Remove Copy of\n",
        "* Edit your name\n",
        "* Attendance\n",
        "* Clean up Colab Notebooks folder\n",
        "* Submit shared link"
      ],
      "metadata": {
        "id": "NNUOZnWEaqKv"
      }
    },
    {
      "cell_type": "markdown",
      "source": [
        "## Public Data\n",
        "\n",
        "* https://data.census.gov/\n",
        "* https://healthdata.gov/\n",
        "* Edgar: https://www.sec.gov/edgar\n",
        "* Bureau of Justice: https://bjs.ojp.gov/\n",
        "* IRS: https://www.irs.gov/statistics\n",
        "* Bureau of Economic Analysis: https://www.bea.gov/\n",
        "* Federal Reserve: https://www.federalreserve.gov/data.htm\n",
        "* DOE Data and Research: https://www2.ed.gov/rschstat/landing.jhtml?src=ft\n",
        "* Bureau of Labor Statistics: https://www.bls.gov/\n",
        "* US Patent and Trademark Office: https://www.uspto.gov/\n",
        "* National Centers for Environmental Information: https://www.ncei.noaa.gov/\n",
        "* World Bank: https://data.worldbank.org/\n",
        "* CIA World Factbook: https://www.cia.gov/the-world-factbook/\n",
        "* United Nations: https://data.un.org/\n",
        "* UNICEF: https://data.unicef.org/\n",
        "* Statistics Canada: https://www.statcan.gc.ca/\n",
        "* Eurostat: https://ec.europa.eu/eurostat\n",
        "* Organization for Economic Cooperation and Development: https://data.oecd.org/\n",
        "* UK National Health Service NHS Digital: https://digital.nhs.uk/\n",
        "* Google Finance: https://www.google.com/finance/\n",
        "* Google Trends: https://trends.google.com/trends/\n",
        "* Google Public Data Explorer: https://www.google.com/publicdata/directory\n",
        "* Amazon Web Services Public Data: https://registry.opendata.aws/\n",
        "* Data.gov: https://data.gov/\n",
        "* Google Ngram Viewer: https://books.google.com/ngrams/\n",
        "* The Corpus of Contemporary American English: https://www.english-corpora.org/coca/\n",
        "* University of California, Irvine, Center for Machine Learning: https://archive.ics.uci.edu/\n",
        "* Pew Research Center: https://www.pewresearch.org/\n",
        "* https://www.linkedin.com/learning/learning-public-data-sets-2/bureau-of-labor-statistics?resume=false&u=74650474\n",
        "\n"
      ],
      "metadata": {
        "id": "3bNQM76dx1AI"
      }
    },
    {
      "cell_type": "markdown",
      "source": [
        "## Intro to BigQuery\n",
        "\n",
        "* https://console.cloud.google.com/marketplace/product/google/bigquery.googleapis.com?_ga=2.211298837.1868925152.1707340152-1299486709.1704991752&project=studynotes-prod&returnUrl=%2Fbigquery%3F_ga%3D2.211298837.1868925152.1707340152-1299486709.1704991752%26project%3Dstudynotes-prod\n",
        "\n",
        "<pre>\n",
        "SELECT\n",
        "  *\n",
        "FROM\n",
        "  `bigquery-public-data.usa_names.usa_1910_current`\n",
        "LIMIT 100\n",
        "</pre>\n",
        "\n",
        "<pre>\n",
        "SELECT\n",
        "  *\n",
        "FROM\n",
        "  `bigquery-public-data.usa_names.usa_1910_current`\n",
        "WHERE\n",
        "  state = 'TX'\n",
        "LIMIT 100\n",
        "</pre>\n",
        "\n",
        "<pre>\n",
        "SELECT\n",
        "  MIN(year), MAX(year)\n",
        "FROM\n",
        "  `bigquery-public-data.usa_names.usa_1910_current`\n",
        "</pre>\n",
        "\n",
        "<pre>\n",
        "SELECT\n",
        "  name, COUNT(name) as cnt\n",
        "FROM\n",
        "  `bigquery-public-data.usa_names.usa_1910_current`\n",
        "GROUP BY name\n",
        "ORDER BY cnt DESC\n",
        "LIMIT 1\n",
        "</pre>\n",
        "\n",
        "<pre>\n",
        "SELECT\n",
        "  *\n",
        "FROM\n",
        "  `bigquery-public-data.usa_names.usa_1910_current`\n",
        "WHERE\n",
        "  state = 'TX'\n",
        "AND\n",
        "  year = 2020\n",
        "LIMIT 100\n",
        "</pre>\n",
        "\n"
      ],
      "metadata": {
        "id": "wVhHy57pd1-K"
      }
    },
    {
      "cell_type": "markdown",
      "source": [
        "## Dataset Challenges\n",
        "\n",
        "* https://www.census.gov/data/tables/time-series/demo/popest/2020s-state-total.html\n",
        "* https://github.com/jasonong/List-of-US-States/blob/master/states.csv"
      ],
      "metadata": {
        "id": "Sgz4UIlKmrMd"
      }
    },
    {
      "cell_type": "markdown",
      "source": [
        "## Research Highlights in the World Before 1700s (India Continent)\n",
        "\n",
        "* NER\n",
        "* Topic Modeling\n",
        "* https://en.m.wikipedia.org/wiki/History_of_science_and_technology_in_the_Indian_subcontinent"
      ],
      "metadata": {
        "id": "cLBAbR0zauI7"
      }
    },
    {
      "cell_type": "markdown",
      "source": [
        "## Final Fantasy\n",
        "\n",
        "* https://youtu.be/xaI7ZPA9I1c?si=adjm1VpUoqvTWxV3"
      ],
      "metadata": {
        "id": "Q5GoQ65gu_WK"
      }
    },
    {
      "cell_type": "markdown",
      "source": [
        "## Natural Language Processing"
      ],
      "metadata": {
        "id": "tfzum91wJvs2"
      }
    },
    {
      "cell_type": "markdown",
      "source": [
        "## Large Language Models\n",
        "\n",
        "* A model is trained to learn patterns, relationships, and semantic structures present in the text. It learns to predict the likelihood of a word or phrase appearing based on its context"
      ],
      "metadata": {
        "id": "6nbnQSYbU9nW"
      }
    },
    {
      "cell_type": "markdown",
      "source": [
        "## Scraping and Summarizing Wikipedia Pages"
      ],
      "metadata": {
        "id": "czfMK6RwbBrO"
      }
    },
    {
      "cell_type": "markdown",
      "source": [
        "## Research Paper Introduction Section\n",
        "\n",
        "* A good introduction will summarize, integrate, and critically evaluate the empirical knowledge in the relevant area(s) in a way that sets the stage for your study and why you conducted it. The introduction starts out broad (but not too broad!) and gets more focused toward the end.\n",
        "\n",
        "\n",
        "Resources:\n",
        "\n",
        "* https://www.quora.com/What-are-the-elements-of-an-effective-introduction-paragraph-in-a-research-paper-following-APA-style-guidelines\n",
        "* https://www.hamilton.edu/academics/centers/writing/writing-resources/how-to-write-an-apa-research-paper\n",
        "* https://www.scribbr.com/research-paper/research-paper-introduction/\n",
        "* https://apastyle.apa.org/instructional-aids/student-paper-setup-guide.pdf\n"
      ],
      "metadata": {
        "id": "7NZ4_SknF-fX"
      }
    },
    {
      "cell_type": "markdown",
      "source": [
        "## References and Bibliography\n",
        "\n",
        "* https://support.microsoft.com/en-us/office/create-a-bibliography-citations-and-references-17686589-4824-4940-9c69-342c289fa2a5\n",
        "* https://support.microsoft.com/en-us/office/research-your-paper-easily-within-word-1728f286-8702-4d72-8169-ab7677ca0e1f#:~:text=On%20the%20Reference%20tab%2C%20in,pane%20to%20explore%20in%20detail."
      ],
      "metadata": {
        "id": "3Qxdf7KHbZFx"
      }
    }
  ]
}