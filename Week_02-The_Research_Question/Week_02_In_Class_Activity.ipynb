{
  "nbformat": 4,
  "nbformat_minor": 0,
  "metadata": {
    "colab": {
      "provenance": [],
      "mount_file_id": "1i1CzCZ6DzjLTHr0UDCnneQD9R7XjNOZ3",
      "authorship_tag": "ABX9TyO9ppJCVaT1lA5u68qFipQn",
      "include_colab_link": true
    },
    "kernelspec": {
      "name": "python3",
      "display_name": "Python 3"
    },
    "language_info": {
      "name": "python"
    }
  },
  "cells": [
    {
      "cell_type": "markdown",
      "metadata": {
        "id": "view-in-github",
        "colab_type": "text"
      },
      "source": [
        "<a href=\"https://colab.research.google.com/github/gitmystuff/INFO4080/blob/main/Week_02-The_Research_Question/Week_02_In_Class_Activity.ipynb\" target=\"_parent\"><img src=\"https://colab.research.google.com/assets/colab-badge.svg\" alt=\"Open In Colab\"/></a>"
      ]
    },
    {
      "cell_type": "markdown",
      "source": [
        "# Week 2: In-Class Activity\n",
        "\n",
        "Your Name\n",
        "\n"
      ],
      "metadata": {
        "id": "vqp8RGHajdVw"
      }
    },
    {
      "cell_type": "markdown",
      "source": [
        "## Getting Started\n",
        "\n",
        "* Colab - get notebook from gitmystuff DTSC4080 repository\n",
        "* Save a Copy in Drive\n",
        "* Remove Copy of\n",
        "* Edit your name\n",
        "* Attendance\n",
        "* Clean up Colab Notebooks folder\n",
        "* Submit shared link\n",
        "\n"
      ],
      "metadata": {
        "id": "1dkzJ8eQDKZ-"
      }
    },
    {
      "cell_type": "markdown",
      "source": [
        "## Natural Language Processing"
      ],
      "metadata": {
        "id": "9WqHKfiRbeBd"
      }
    },
    {
      "cell_type": "markdown",
      "source": [
        "## The Research Question\n",
        "\n",
        "* LinkedIn Transcript\n",
        "* Bard Summary Keypoints\n",
        "* Prompt Engineering - https://towardsdatascience.com/summarising-best-practices-for-prompt-engineering-c5e86c483af4"
      ],
      "metadata": {
        "id": "1gudjvFZmQl8"
      }
    },
    {
      "cell_type": "markdown",
      "source": [
        "## Bard\n",
        "\n",
        "* https://support.google.com/bard/answer/13695044?hl=en&visit_id=638417504398034592-2218294070&p=lm_ws_ext&rd=1#link_ws\n",
        "\n",
        "**Prompt**: help me write a research question about the leading causes of ultra nationalism\n",
        "\n",
        "I can definitely help you craft a research question about the leading causes of ultra-nationalism! To make it even more effective, I need some additional information from you:\n",
        "\n",
        "* **What specific aspect of ultra-nationalism are you most interested in?**  For example, you could focus on its emergence in specific countries, its online and social media presence, its relationship to economic hardship, or its historical precedents.\n",
        "* **What level of analysis are you interested in?** Are you looking for broad overarching factors, or more nuanced and specific reasons within a particular context?\n",
        "* **What theoretical frameworks or approaches are you interested in exploring?** This could include political science, sociology, psychology, history, or even cultural studies.\n",
        "\n",
        "Once you have a clearer idea of these factors, I can help you formulate a research question that is both interesting and feasible. Here are some examples to get you started:\n",
        "\n",
        "**Broad questions:**\n",
        "\n",
        "* **What are the main social, economic, and political factors that contribute to the rise of ultra-nationalism in different societies?**\n",
        "* **How has the digital age and the spread of social media impacted the development and dissemination of ultra-nationalist ideologies?**\n",
        "* **To what extent is economic hardship or a sense of national decline a trigger for ultra-nationalist movements?**\n",
        "\n",
        "**More specific questions:**\n",
        "\n",
        "* **How has the history of colonization and national humiliation contributed to the rise of ultra-nationalism in India?**\n",
        "* **What role do populist leaders and rhetoric play in mobilizing and legitimizing ultra-nationalist sentiments in the United States?**\n",
        "* **How do online communities and echo chambers facilitate the radicalization and spread of ultra-nationalist ideas among young people?**\n",
        "\n",
        "By considering these examples and providing me with additional information about your specific interests, I can help you refine your research question and set the stage for a successful exploration of this complex and timely topic.\n",
        "\n",
        "I hope this helps!\n",
        "\n"
      ],
      "metadata": {
        "id": "MFknS-g0r4FF"
      }
    },
    {
      "cell_type": "markdown",
      "source": [
        "## Summarizing\n",
        "\n"
      ],
      "metadata": {
        "id": "CY-VDhZlR3yD"
      }
    },
    {
      "cell_type": "markdown",
      "source": [
        "## Research in Antiquity\n",
        "\n",
        "* https://en.wikipedia.org/wiki/Science_in_the_ancient_world\n",
        "* https://en.wikipedia.org/wiki/Science_in_classical_antiquity"
      ],
      "metadata": {
        "id": "LqMNweFpkgS9"
      }
    },
    {
      "cell_type": "markdown",
      "source": [
        "## Looker Studio Introduction\n",
        "\n",
        "### Data\n",
        "\n",
        "* https://data.worldbank.org/indicator/SP.POP.TOTL\n",
        "* https://simple.wikipedia.org/wiki/List_of_countries_by_continents\n",
        "* continents: 10FVKasnVly2xc36iXFJWuHkMvQyapNlhuz9twPcyTOs\n",
        "* wrld_pop: 1K1zE3FXtECQUZxLH3B4uXm81vgUYv4UlCy2UEGG_MY0"
      ],
      "metadata": {
        "id": "CrFe0eBrmkbX"
      }
    },
    {
      "cell_type": "markdown",
      "source": [
        "## Continents"
      ],
      "metadata": {
        "id": "MZVZ6Rl-_y46"
      }
    },
    {
      "cell_type": "markdown",
      "source": [
        "## Descriptive Analysis\n",
        "\n",
        "Descriptive analytics is the process of using current and historical data to identify trends and relationships. It’s sometimes called the simplest form of data analysis because it describes trends and relationships but doesn’t dig deeper.\n",
        "\n",
        "https://online.hbs.edu/blog/post/descriptive-analytics\n",
        "\n"
      ],
      "metadata": {
        "id": "ldzb8Ai0Fojh"
      }
    },
    {
      "cell_type": "markdown",
      "source": [
        "## Melt"
      ],
      "metadata": {
        "id": "ZwmavhwdA64t"
      }
    },
    {
      "cell_type": "markdown",
      "source": [
        "## Notes\n",
        "\n",
        "https://www.linkedin.com/learning/looker-studio-for-beginners/harness-the-power-of-looker-studio?autoplay=true&resume=false&u=74650474\n",
        "\n",
        "* csv to Google Sheets\n",
        "* Create (Authorize)\n",
        "* Connection\n",
        "* URL - Sheet ID\n",
        "* Connect\n",
        "* Create Report\n",
        "* Delete Auto Generated Table\n",
        "* Check Field Types, Resource, Manage added data sources\n",
        "* Edit Data Source, check for Geo (Percentage) fields\n",
        "* Check Default Aggregation\n",
        "* Done, Close, Name Report\n",
        "* Add a Chart (Basic Column)\n",
        "* Drop Year over Country\n",
        "* Population over Record Count (Add metric)\n",
        "* Fix Sort\n",
        "* Insert Menu (Controls), Drop Down List\n",
        "* Drag right above the bars, top right\n",
        "* Shift arrow to micro move box\n",
        "* Change Year to Country, with list highlighted, drag drop Country over Year\n",
        "* Select View Mode and play around\n",
        "* Make sure Country (all) is selected and go back to Edit mode\n",
        "* Create link for the drop down, left click filter and then Ctrl click bar chart, click on Arrange and then Group\n",
        "* Add a Pie chart below the bar chart\n",
        "* Replace year dimension with country\n",
        "* Add a year drop down box, change country to year, and group\n",
        "* View and play around\n",
        "* Add Continent data source and blend data\n",
        "* Edit mode, click on Resource, Manage added data sources\n",
        "* Add a data source (File upload), Continents\n",
        "* If uploading, wait for green do to appear before adding\n",
        "* Click on Add and Add to Report\n",
        "* Create a blend\n",
        "* Select pie chart till Chart Setup appears\n",
        "* Blend Data, join another table\n",
        "* Add dimension Year (Pop Data) and Continent\n",
        "* Configure join (Left outer) https://learnsql.com/blog/learn-and-practice-sql-joins/\n",
        "* Confirm Country Link Relationship and Save Save\n",
        "* Confirm Population Metric\n",
        "* Use Continent as Dimension\n",
        "* View and play\n",
        "\n",
        "\n"
      ],
      "metadata": {
        "id": "wFRYkp9U05h1"
      }
    },
    {
      "cell_type": "markdown",
      "source": [
        "## Create Quiz Items"
      ],
      "metadata": {
        "id": "lPePZdOhK0lT"
      }
    }
  ]
}