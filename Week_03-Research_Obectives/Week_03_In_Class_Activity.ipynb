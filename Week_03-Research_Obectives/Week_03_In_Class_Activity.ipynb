{
  "nbformat": 4,
  "nbformat_minor": 0,
  "metadata": {
    "colab": {
      "provenance": [],
      "mount_file_id": "1i1CzCZ6DzjLTHr0UDCnneQD9R7XjNOZ3",
      "authorship_tag": "ABX9TyOtuB1nB/oEilu+PkRg2z2h",
      "include_colab_link": true
    },
    "kernelspec": {
      "name": "python3",
      "display_name": "Python 3"
    },
    "language_info": {
      "name": "python"
    }
  },
  "cells": [
    {
      "cell_type": "markdown",
      "metadata": {
        "id": "view-in-github",
        "colab_type": "text"
      },
      "source": [
        "<a href=\"https://colab.research.google.com/github/gitmystuff/INFO4080/blob/main/Week_03-Research_Obectives/Week_03_In_Class_Activity.ipynb\" target=\"_parent\"><img src=\"https://colab.research.google.com/assets/colab-badge.svg\" alt=\"Open In Colab\"/></a>"
      ]
    },
    {
      "cell_type": "markdown",
      "source": [
        "# Week 3: In-Class Activity\n",
        "\n",
        "Your Name\n",
        "\n"
      ],
      "metadata": {
        "id": "vqp8RGHajdVw"
      }
    },
    {
      "cell_type": "markdown",
      "source": [
        "## Getting Started\n",
        "\n",
        "* Colab - get notebook from gitmystuff DTSC4080 repository\n",
        "* Save a Copy in Drive\n",
        "* Remove Copy of\n",
        "* Edit your name\n",
        "* Attendance\n",
        "* Clean up Colab Notebooks folder\n",
        "* Submit shared link\n",
        "\n"
      ],
      "metadata": {
        "id": "1dkzJ8eQDKZ-"
      }
    },
    {
      "cell_type": "markdown",
      "source": [
        "## Research in the Middel Ages\n",
        "\n",
        "* https://en.wikipedia.org/wiki/Middle_Ages\n",
        "* https://en.wikipedia.org/wiki/Aristotle\n",
        "* https://en.wikipedia.org/wiki/Aristotelianism\n",
        "* https://www.rep.routledge.com/articles/thematic/platonism-medieval/v-1\n",
        "* https://www.quora.com/How-did-Plato-and-Aristotle-influence-early-Christian-and-medieval-philosophy\n",
        "* https://en.wikipedia.org/wiki/Graeco-Arabic_translation_movement\n",
        "* https://en.wikipedia.org/wiki/Latin_translations_of_the_12th_century\n",
        "* https://plato.stanford.edu/entries/medieval-philosophy/\n",
        "* https://en.wikipedia.org/wiki/Alchemy\n",
        "* https://en.wikipedia.org/wiki/Astrology\n",
        "\n",
        "\n",
        "\n"
      ],
      "metadata": {
        "id": "LqMNweFpkgS9"
      }
    },
    {
      "cell_type": "markdown",
      "source": [
        "## Alchemy and Astrology\n",
        "\n",
        "* Alchemy and astrology were prominent pursuits of scholars in the Middle Ages, despite modern dismissal as \"pseudosciences.\"\n",
        "* Alchemical knowledge flowed from the Islamic world to the Latin West and led to original Latin treatises by the 13th century.\n",
        "* These treatises innovated in matter theory and practical processes, though ultimately cloaked in secrecy.\n",
        "* Astrology served as a beacon of hope in an uncertain world, offering personalized and state-level warnings of sickness and danger.\n",
        "* Legitimate astrology focused on potential outcomes, upholding human free will in its predictions.\n",
        "* See Alchemy and Astrology Google Doc"
      ],
      "metadata": {
        "id": "80OlukhRak6B"
      }
    },
    {
      "cell_type": "markdown",
      "source": [
        "## Scraping Example\n",
        "\n",
        "https://en.wikipedia.org/wiki/Middle_Ages"
      ],
      "metadata": {
        "id": "pma1djxLme0y"
      }
    },
    {
      "cell_type": "code",
      "source": [
        "# # get table of contents\n",
        "# from bs4 import BeautifulSoup\n",
        "# import pandas as pd\n",
        "# import requests\n",
        "\n",
        "# soup = BeautifulSoup(requests.get('https://en.wikipedia.org/wiki/Middle_Ages').text)\n",
        "# s = soup.find_all('h2')\n",
        "# s_list = [x.get_text() for x in s]\n",
        "# pd.Series(s_list)"
      ],
      "metadata": {
        "id": "WC8onqmFoaPk"
      },
      "execution_count": 1,
      "outputs": []
    },
    {
      "cell_type": "code",
      "source": [
        "# heading1 = s_list[6]\n",
        "# txt = ''\n",
        "# target = soup.find('h2', string=heading1)\n",
        "# for sib in target.find_next_siblings():\n",
        "#     if sib.name=='h2':\n",
        "#         break\n",
        "#     else:\n",
        "#         txt += str(sib)\n",
        "\n",
        "# # convert string to html\n",
        "# soup2 = BeautifulSoup(txt)\n",
        "# s = soup2.find_all('h3')\n",
        "# s_list2 = [x.get_text() for x in s]\n",
        "# print(heading1+'\\n')\n",
        "# pd.Series(s_list2)"
      ],
      "metadata": {
        "id": "Ue44RO6gpB23"
      },
      "execution_count": 2,
      "outputs": []
    },
    {
      "cell_type": "code",
      "source": [
        "# import textwrap\n",
        "\n",
        "# heading2 = s_list2[3]\n",
        "# print(heading1)\n",
        "# print(heading2+'\\n')\n",
        "# target2 = soup.find('h3', string=heading2)\n",
        "# for sib in target2.find_next_siblings():\n",
        "#     if sib.name=='h3':\n",
        "#         break\n",
        "#     else:\n",
        "#         print(textwrap.fill(sib.text, 100))"
      ],
      "metadata": {
        "id": "vVIMp6GfyRYB"
      },
      "execution_count": 3,
      "outputs": []
    },
    {
      "cell_type": "code",
      "source": [
        "# pip install wikipedia"
      ],
      "metadata": {
        "id": "zdbYazAX5VEl"
      },
      "execution_count": 4,
      "outputs": []
    },
    {
      "cell_type": "code",
      "source": [
        "# # summary example for https://en.wikipedia.org/wiki/Aristotelianism\n",
        "# import wikipedia\n",
        "\n",
        "# wikipedia.page('Aristotelianism').summary"
      ],
      "metadata": {
        "id": "PWvcrIpu5QQQ"
      },
      "execution_count": 5,
      "outputs": []
    },
    {
      "cell_type": "markdown",
      "source": [
        "## Research Question\n",
        "\n",
        "* What is the relationship between religion and ultra nationalism in western civilization?\n",
        "  * The divine ruler\n",
        "  * Ultra nationalism synonyms include chauvinism, jingoism, superpatriotism\n",
        "  * State religion\n",
        "  * Religion by class\n",
        "  * Religion by gender\n",
        "  * Religion by age\n",
        "  * Religion in education (ultra nationalist sustainability)\n",
        "* The dependent variable is ultra nationalism\n",
        "* The independent varibale is religion"
      ],
      "metadata": {
        "id": "YFKRdCNco3be"
      }
    },
    {
      "cell_type": "markdown",
      "source": [
        "Bard Prompt: can you help me with the following research question? What is the relationship between religion and ultra nationalism in western civilization?\n",
        "\n",
        "Response: Absolutely, I can help you with your research question: \"What is the relationship between religion and ultra nationalism in western civilization?\"\n",
        "\n",
        "This is a complex and multifaceted topic that has been debated by scholars for centuries. There is no single answer, as the relationship between religion and ultranationalism varies depending on the specific context, including:\n",
        "\n",
        "The specific religion(s) involved: Different religions have different doctrines, histories, and interpretations that can influence their relationship with nationalism. Some religions, like Christianity, have been used to both support and undermine nationalistic sentiments. Others, like Judaism, have a more complex relationship with national identity due to historical experiences of persecution and diaspora.\n",
        "The historical and political context: The rise of ultranationalism is often linked to periods of social and political upheaval, such as economic crises, wars, or rapid modernization. In these contexts, religion can be used as a tool to bind people together and solidify national identity, sometimes by emphasizing exclusivity and scapegoating minority groups.\n",
        "The specific form of ultranationalism: Ultranationalism can take many forms, ranging from cultural chauvinism to ethnic supremacism and violent expansionism. The degree to which religion is involved in these movements also varies. For example, some ultranationalist movements might emphasize religious symbols and rituals without advocating for religious oppression, while others might actively seek to suppress or eliminate other religions.\n",
        "However, here are some general observations about the relationship between religion and ultranationalism in western civilization:\n",
        "\n",
        "Religion can provide a shared identity and moral framework for ultranationalist movements. Religious concepts like \"chosen people\" or divinely ordained destiny can be used to justify national superiority and legitimize aggression towards other groups.\n",
        "Religious institutions can be used to mobilize and support ultranationalist agendas. Leaders of religious communities can promote ultranationalist ideology through sermons, education, and political activism.\n",
        "Religion can also be used to resist or critique ultranationalism. Many religious traditions emphasize universal values like compassion, justice, and tolerance, which can provide a basis for challenging nationalist narratives of exclusion and violence.\n",
        "Given the complexity of this topic, it's crucial to avoid generalizations and approach each case with careful historical and theological analysis. Here are some resources that can help you in your research:\n",
        "\n",
        "Books:\n",
        "God and Country: Christianity and National Identity in Europe Since 1789 by Michael Burleigh\n",
        "Sacred Violence: The European Wars of Religion 1560-1660 by Michael O'Malley\n",
        "The Politics of Religion: Religion and Social Politics in the United States by Mark Juergensmeyer\n",
        "Articles:\n",
        "\"Religion and Nationalism: A Critical Review of the Literature\" by Daniele Conversi\n",
        "\"Nationalism and Religion: A Dangerous Mix?\" by David Martin\n",
        "\"Faith in the Nation: Christianity and Nation-Building in Western Europe\" by Samuel Moyn\n",
        "I hope this information helps you get started on your research. Please let me know if you have any further questions or need additional resources."
      ],
      "metadata": {
        "id": "VPXbPcK7NSr6"
      }
    },
    {
      "cell_type": "markdown",
      "source": [
        "## Research Objectives\n",
        "\n",
        "* Summarize LinkedIn Research Objectives\n",
        "* Prompt Engineering - https://towardsdatascience.com/summarising-best-practices-for-prompt-engineering-c5e86c483af4"
      ],
      "metadata": {
        "id": "1gudjvFZmQl8"
      }
    },
    {
      "cell_type": "markdown",
      "source": [
        "## Summarizing\n",
        "\n",
        "* https://www.linkedin.com/learning/academic-research-foundations-quantitative/welcome?resume=false&u=74650474"
      ],
      "metadata": {
        "id": "tE7pGo0osHw0"
      }
    },
    {
      "cell_type": "markdown",
      "source": [
        "Paste your summary in this cell\n",
        "\n"
      ],
      "metadata": {
        "id": "Fy7S2UhFa_FB"
      }
    },
    {
      "cell_type": "markdown",
      "source": [
        "## Prompt Engineering\n",
        "\n",
        "* https://support.google.com/bard/answer/13695044?hl=en&visit_id=638417504398034592-2218294070&p=lm_ws_ext&rd=1#link_ws\n",
        "\n",
        "**Prompt for Research Objectives**:\n",
        "\n",
        "My research question is What is the relationship between religion and ultra nationalism in western civilization? help me with research objectives. Use operational language of research writing. Start with a question using active verbs to lead to an answer.\n",
        "\n",
        "**Response**\n",
        "\n",
        "\n",
        "Research Question: To what extent and through what mechanisms does religion influence the formation and expression of ultra-nationalist ideologies and movements within Western civilization?\n",
        "\n",
        "This question actively prompts investigation into the extent of religion's influence (significant, limited, or negligible) while simultaneously requiring analysis of the mechanisms through which this influence operates.\n",
        "\n",
        "Here are some specific research objectives that follow from this question, using operational language:\n",
        "\n",
        "Objective 1: Identify and define key terms, including \"religion,\" \"ultra-nationalism,\" and \"Western civilization,\" within the context of the research question. This ensures clarity and consistency throughout the study.\n",
        "\n",
        "Objective 2: Analyze historical and contemporary examples of ultra-nationalist movements and ideologies within Western civilization to identify the role of religion in each case. Examples could include:\n",
        "\n",
        "* The role of Christian identity in European colonialism and expansionism.\n",
        "* The connection between religious fundamentalism and ethno-nationalism in India and Israel.\n",
        "* The use of religious symbolism and rhetoric by white supremacist groups in the United States.\n",
        "\n",
        "Objective 3: Explore the theoretical mechanisms through which religion might influence ultra-nationalism. This could include:\n",
        "\n",
        "* Examining the potential for religious teachings and narratives to promote in-group identification and loyalty.\n",
        "* Analyzing the role of religious institutions and leaders in mobilizing support for nationalist agendas.\n",
        "* Investigating the ways in which religious symbols and practices can be used to legitimize and sacralize nationalist claims.\n",
        "\n",
        "Objective 4: Assess the strength and direction of this relationship. Does religion primarily serve as a catalyst for existing tendencies towards ultra-nationalism? Or does it actively shape and define these ideologies? How might the influence of religion vary across different historical periods and cultural contexts?\n",
        "\n",
        "Objective 5: Evaluate the implications of this relationship for contemporary political and social challenges. This could involve:\n",
        "\n",
        "* Analyzing the potential risks and harms associated with the intersection of religion and ultra-nationalism.\n",
        "* Identifying strategies for promoting religious tolerance and inclusivity within national discourse.\n",
        "* Contributing to critical discussions about the role of religion in shaping national identity and belonging.\n",
        "* By pursuing these research objectives, you can gain a nuanced understanding of the complex and multifaceted relationship between religion and ultra-nationalism within Western civilization.\n",
        "\n",
        "Remember, these are just starting points, and your specific research design will depend on the availability of data, your chosen methods of analysis, and the depth at which you wish to explore the topic.\n",
        "\n",
        "I hope this helps!\n",
        "\n"
      ],
      "metadata": {
        "id": "MFknS-g0r4FF"
      }
    },
    {
      "cell_type": "markdown",
      "source": [
        "## Theoretical Framework and Hypothesis\n",
        "\n",
        "* Identifying the research question\n",
        "* Researching literature\n",
        "* Identifying key theories\n",
        "* Summarizing the findings\n",
        "\n",
        "Null Hypothesis: no signicant relationship between variables vs Hypothesis: Unique relationship between variables (alt hypothesis?)"
      ],
      "metadata": {
        "id": "JDX9Ii0rp8Xj"
      }
    },
    {
      "cell_type": "markdown",
      "source": [
        "## Looker Studio Introduction Continued\n",
        "\n",
        "### Data\n",
        "\n",
        "* https://data.worldbank.org/indicator/SP.POP.TOTL\n",
        "* https://simple.wikipedia.org/wiki/List_of_countries_by_continents\n",
        "* continents: 10FVKasnVly2xc36iXFJWuHkMvQyapNlhuz9twPcyTOs\n",
        "* wrld_pop: 1K1zE3FXtECQUZxLH3B4uXm81vgUYv4UlCy2UEGG_MY0"
      ],
      "metadata": {
        "id": "CrFe0eBrmkbX"
      }
    },
    {
      "cell_type": "markdown",
      "source": [
        "## Continents"
      ],
      "metadata": {
        "id": "MZVZ6Rl-_y46"
      }
    },
    {
      "cell_type": "markdown",
      "source": [
        "## Descriptive Analysis\n",
        "\n",
        "Descriptive analytics is the process of using current and historical data to identify trends and relationships. It’s sometimes called the simplest form of data analysis because it describes trends and relationships but doesn’t dig deeper.\n",
        "\n",
        "https://online.hbs.edu/blog/post/descriptive-analytics\n",
        "\n"
      ],
      "metadata": {
        "id": "ldzb8Ai0Fojh"
      }
    },
    {
      "cell_type": "markdown",
      "source": [
        "## Melt"
      ],
      "metadata": {
        "id": "ZwmavhwdA64t"
      }
    },
    {
      "cell_type": "markdown",
      "source": [
        "## Notes\n",
        "\n",
        "https://www.linkedin.com/learning/looker-studio-for-beginners/harness-the-power-of-looker-studio?autoplay=true&resume=false&u=74650474\n",
        "\n",
        "* csv to Google Sheets\n",
        "* Create (Authorize)\n",
        "* Connection\n",
        "* URL - Sheet ID\n",
        "* Connect\n",
        "* Create Report\n",
        "* Delete Auto Generated Table\n",
        "* Check Field Types, Resource, Manage added data sources\n",
        "* Edit Data Source, check for Geo (Percentage) fields\n",
        "* Check Default Aggregation\n",
        "* Done, Close, Name Report\n",
        "* Add a Chart (Basic Column)\n",
        "* Drop Year over Country\n",
        "* Population over Record Count (Add metric)\n",
        "* Fix Sort\n",
        "* Insert Menu (Controls), Drop Down List\n",
        "* Drag right above the bars, top right\n",
        "* Shift arrow to micro move box\n",
        "* Change Year to Country, with list highlighted, drag drop Country over Year\n",
        "* Select View Mode and play around\n",
        "* Make sure Country (all) is selected and go back to Edit mode\n",
        "* Create link for the drop down, left click filter and then Ctrl click bar chart, click on Arrange and then Group\n",
        "* Add a Pie chart below the bar chart\n",
        "* Replace year dimension with country\n",
        "* Add a year drop down box, change country to year, and group\n",
        "* View and play around\n",
        "* Add Continent data source and blend data\n",
        "* Edit mode, click on Resource, Manage added data sources\n",
        "* Add a data source (File upload), Continents\n",
        "* If uploading, wait for green do to appear before adding\n",
        "* Click on Add and Add to Report\n",
        "* Create a blend\n",
        "* Select pie chart till Chart Setup appears\n",
        "\n",
        "\n"
      ],
      "metadata": {
        "id": "wFRYkp9U05h1"
      }
    },
    {
      "cell_type": "markdown",
      "source": [
        "## Blend Data\n",
        "\n",
        "Use Countries from Continents data source to filter the World Pop data source\n",
        "\n",
        "* Blend Data, join another table\n",
        "* Add dimension Year (Pop Data) and Continent\n",
        "* Configure join (Left outer) https://learnsql.com/blog/learn-and-practice-sql-joins/\n",
        "* Confirm Country Link Relationship and Save Save\n",
        "* Confirm Population Metric\n",
        "* Use Continent as Dimension\n",
        "* View and play\n"
      ],
      "metadata": {
        "id": "syoBZh9Gibdv"
      }
    },
    {
      "cell_type": "markdown",
      "source": [
        "## Looker Report\n",
        "\n",
        "* Add Gini Index data source\n",
        "* https://data.worldbank.org/indicator/SI.POV.GINI\n",
        "* Edit mode\n",
        "* Create title (text icon)\n",
        "* World Population Analysis\n",
        "* Text properties\n",
        "* Add page\n",
        "* Click on page, manage pages\n",
        "* Name pages - Summary Level, Country Level\n",
        "* Copy and paste title to new page\n",
        "* Add Summary Level and Country Level respectively\n",
        "* Page 2\n",
        "* Add time series chart for population\n",
        "* Add another time series chart for gini index"
      ],
      "metadata": {
        "id": "GHYYkjfS617K"
      }
    },
    {
      "cell_type": "markdown",
      "source": [
        "## Data Integration vs ETL (Extract, Transform, Load)\n",
        "\n",
        "* https://en.wikipedia.org/wiki/Data_integration\n",
        "* https://en.wikipedia.org/wiki/Extract,_transform,_load\n",
        "* Create a new csv from several others\n",
        "* https://www.w3schools.com/sql/\n",
        "* SQL Joins - https://www.sqlshack.com/internals-of-physical-join-operators-nested-loops-join-hash-match-join-merge-join-in-sql-server/\n",
        "* SQL vs DQL\n",
        "* Reading Sheets - https://towardsdatascience.com/read-data-from-google-sheets-into-pandas-without-the-google-sheets-api-5c468536550"
      ],
      "metadata": {
        "id": "wmoaMkAakJEP"
      }
    },
    {
      "cell_type": "code",
      "source": [
        "# # assign spreadsheet ids\n",
        "\n",
        "# id1 = '18tZbDl8q8u3hktyWHQYDjprn8KUKqK4AgZTKXU4J0gM' # country populations 1960 - 2020ish\n",
        "# id2 = '1xfmVIUwhgZ58pWa9Iy_MLCKFqpEjRanBjGKK9gqloeA' # gini index by country\n",
        "# id3 = '10FVKasnVly2xc36iXFJWuHkMvQyapNlhuz9twPcyTOs' # continents\n",
        "# id4 = '1K1zE3FXtECQUZxLH3B4uXm81vgUYv4UlCy2UEGG_MY0' # world population\n"
      ],
      "metadata": {
        "id": "-UNTBlKUWLO3"
      },
      "execution_count": 6,
      "outputs": []
    },
    {
      "cell_type": "code",
      "source": [
        "# # get data\n",
        "# import pandas as pd\n",
        "\n",
        "# df1 = pd.read_csv(f'https://docs.google.com/spreadsheets/d/{id1}/export?format=csv')\n",
        "# df1.head()"
      ],
      "metadata": {
        "id": "QXhd7PLcXnRp"
      },
      "execution_count": 7,
      "outputs": []
    },
    {
      "cell_type": "code",
      "source": [
        "# # melt df\n",
        "# df1 = df1.melt(id_vars=['Country Name', 'Country Code'], value_vars=['2012', '2013', '2014', '2015', '2016', '2017', '2018', '2019', '2020', '2021', '2022'])\n",
        "# df1.head()"
      ],
      "metadata": {
        "id": "MJ78-LgacjmU"
      },
      "execution_count": 8,
      "outputs": []
    },
    {
      "cell_type": "code",
      "source": [
        "# # change column names\n",
        "# df1.columns = ['country1', 'code', 'year', 'population']\n",
        "# df1.head()"
      ],
      "metadata": {
        "id": "KevYi8xdhk5C"
      },
      "execution_count": 9,
      "outputs": []
    },
    {
      "cell_type": "code",
      "source": [
        "# create df2\n"
      ],
      "metadata": {
        "id": "pgZ5TBWAYRCy"
      },
      "execution_count": 10,
      "outputs": []
    },
    {
      "cell_type": "code",
      "source": [
        "# # create df3\n",
        "# df3 = pd.read_csv(f'https://docs.google.com/spreadsheets/d/{id3}/export?format=csv')\n",
        "# df3.head()"
      ],
      "metadata": {
        "id": "qftmJVpRYTr5"
      },
      "execution_count": 11,
      "outputs": []
    },
    {
      "cell_type": "code",
      "source": [
        "# df3.columns = ['country3', 'capital', 'tot_pop', 'area', 'continent']\n",
        "# df3.head()"
      ],
      "metadata": {
        "id": "ApnBMagciBZa"
      },
      "execution_count": 12,
      "outputs": []
    },
    {
      "cell_type": "code",
      "source": [
        "# create df4\n"
      ],
      "metadata": {
        "id": "7_vUrhteYVZJ"
      },
      "execution_count": 13,
      "outputs": []
    },
    {
      "cell_type": "code",
      "source": [
        "# anything melting?"
      ],
      "metadata": {
        "id": "mqKGVvx9YZSN"
      },
      "execution_count": 14,
      "outputs": []
    },
    {
      "cell_type": "code",
      "source": [
        "# # join statement\n",
        "# new_df = df1.set_index('country1').join(df3.set_index('country3')).reset_index()\n",
        "# new_df.head()"
      ],
      "metadata": {
        "id": "LR0iJd6JGily"
      },
      "execution_count": 15,
      "outputs": []
    },
    {
      "cell_type": "code",
      "source": [
        "# new_df.rename(columns = {'index': 'country'}, inplace=True)\n",
        "# new_df.head()"
      ],
      "metadata": {
        "id": "xYWR2SKsH7dF"
      },
      "execution_count": 16,
      "outputs": []
    },
    {
      "cell_type": "code",
      "source": [
        "# # merge dataframes\n",
        "# import pandas as pd\n",
        "\n",
        "# pd.merge(df1, df3, left_on='country1', right_on='country3')"
      ],
      "metadata": {
        "id": "DkfOkF-ruK-H"
      },
      "execution_count": 17,
      "outputs": []
    },
    {
      "cell_type": "code",
      "source": [
        "# install fugue https://towardsdatascience.com/introducing-fuguesql-sql-for-pandas-spark-and-dask-dataframes-63d461a16b27\n",
        "# !pip install fugue[sql]"
      ],
      "metadata": {
        "id": "qzkrvdmxcABz"
      },
      "execution_count": 18,
      "outputs": []
    },
    {
      "cell_type": "code",
      "source": [
        "# import pandas as pd\n",
        "# from fugue import fsql\n",
        "\n",
        "# query = '''\n",
        "# # simple query\n",
        "# PRINT\n",
        "# '''\n",
        "# fsql(query).run()"
      ],
      "metadata": {
        "id": "oNETDBTlb0xi"
      },
      "execution_count": 19,
      "outputs": []
    },
    {
      "cell_type": "code",
      "source": [
        "# query = '''\n",
        "# SELECT *\n",
        "# FROM df1 RIGHT OUTER JOIN df3 ON df1.country1 = df3.country3 LIMIT 5\n",
        "# PRINT\n",
        "# '''\n",
        "# fsql(query).run()"
      ],
      "metadata": {
        "id": "5kk94azhiPds"
      },
      "execution_count": 20,
      "outputs": []
    },
    {
      "cell_type": "code",
      "source": [
        "# from fugue_notebook import setup\n",
        "\n",
        "# setup()"
      ],
      "metadata": {
        "id": "5pUAqOcsmdqp"
      },
      "execution_count": 21,
      "outputs": []
    },
    {
      "cell_type": "code",
      "source": [
        "# %%fsql\n",
        "\n",
        "# new_df = SELECT *\n",
        "# FROM df1 RIGHT OUTER JOIN df3 ON df1.country1 = df3.country3\n",
        "\n",
        "# SAVE new_df OVERWRITE 'new_df.csv' (header=true)"
      ],
      "metadata": {
        "id": "XZWoPQlWlyVj"
      },
      "execution_count": 22,
      "outputs": []
    },
    {
      "cell_type": "markdown",
      "source": [
        "## Hugging Face\n",
        "\n",
        "https://huggingface.co/"
      ],
      "metadata": {
        "id": "agXkClTbjKv9"
      }
    },
    {
      "cell_type": "markdown",
      "source": [
        "## LM Studio\n",
        "\n",
        "https://lmstudio.ai/"
      ],
      "metadata": {
        "id": "iG0egOzEjNMs"
      }
    },
    {
      "cell_type": "markdown",
      "source": [
        "## Assignment\n",
        "\n",
        "* Research Objectives"
      ],
      "metadata": {
        "id": "PSvRAu-NsZCc"
      }
    },
    {
      "cell_type": "markdown",
      "source": [
        "## Research Project Presentations\n",
        "\n",
        "* Share your research question and objectives\n",
        "* Share some of the prompts you used and how the results helped you frame your research question and objectives"
      ],
      "metadata": {
        "id": "HxXcayQajBsN"
      }
    },
    {
      "cell_type": "markdown",
      "source": [
        "## Create Quiz Items"
      ],
      "metadata": {
        "id": "lPePZdOhK0lT"
      }
    }
  ]
}