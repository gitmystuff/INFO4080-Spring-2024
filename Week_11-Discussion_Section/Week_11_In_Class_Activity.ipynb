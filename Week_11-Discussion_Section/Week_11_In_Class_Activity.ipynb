{
  "nbformat": 4,
  "nbformat_minor": 0,
  "metadata": {
    "colab": {
      "provenance": [],
      "toc_visible": true,
      "authorship_tag": "ABX9TyOkVU/RNfjC3gLwSSm2MRWw",
      "include_colab_link": true
    },
    "kernelspec": {
      "name": "python3",
      "display_name": "Python 3"
    },
    "language_info": {
      "name": "python"
    }
  },
  "cells": [
    {
      "cell_type": "markdown",
      "metadata": {
        "id": "view-in-github",
        "colab_type": "text"
      },
      "source": [
        "<a href=\"https://colab.research.google.com/github/gitmystuff/INFO4080/blob/main/Week_11-Discussion_Section/Week_11_In_Class_Activity.ipynb\" target=\"_parent\"><img src=\"https://colab.research.google.com/assets/colab-badge.svg\" alt=\"Open In Colab\"/></a>"
      ]
    },
    {
      "cell_type": "markdown",
      "source": [
        "# Week 11: In-Class Activity\n",
        "\n",
        "Your Name"
      ],
      "metadata": {
        "id": "ghkm4G_Kan4q"
      }
    },
    {
      "cell_type": "markdown",
      "source": [
        "## Getting Started\n",
        "\n",
        "* Colab - get notebook from gitmystuff DTSC4080 repository\n",
        "* Save a Copy in Drive\n",
        "* Remove Copy of\n",
        "* Edit your name\n",
        "* Attendance\n",
        "* Clean up Colab Notebooks folder\n",
        "* Submit shared link"
      ],
      "metadata": {
        "id": "NNUOZnWEaqKv"
      }
    },
    {
      "cell_type": "markdown",
      "source": [
        "## Public Data\n",
        "\n",
        "* https://data.census.gov/\n",
        "* https://healthdata.gov/\n",
        "* Edgar: https://www.sec.gov/edgar\n",
        "* Bureau of Justice: https://bjs.ojp.gov/\n",
        "* IRS: https://www.irs.gov/statistics\n",
        "* Bureau of Economic Analysis: https://www.bea.gov/\n",
        "* Federal Reserve: https://www.federalreserve.gov/data.htm\n",
        "* DOE Data and Research: https://www2.ed.gov/rschstat/landing.jhtml?src=ft\n",
        "* Bureau of Labor Statistics: https://www.bls.gov/\n",
        "* US Patent and Trademark Office: https://www.uspto.gov/\n",
        "* National Centers for Environmental Information: https://www.ncei.noaa.gov/\n",
        "* World Bank: https://data.worldbank.org/\n",
        "* CIA World Factbook: https://www.cia.gov/the-world-factbook/\n",
        "* United Nations: https://data.un.org/\n",
        "* UNICEF: https://data.unicef.org/\n",
        "* Statistics Canada: https://www.statcan.gc.ca/\n",
        "* Eurostat: https://ec.europa.eu/eurostat\n",
        "* Organization for Economic Cooperation and Development: https://data.oecd.org/\n",
        "* UK National Health Service NHS Digital: https://digital.nhs.uk/\n",
        "* Google Finance: https://www.google.com/finance/\n",
        "* Google Trends: https://trends.google.com/trends/\n",
        "* Google Public Data Explorer: https://www.google.com/publicdata/directory\n",
        "* Amazon Web Services Public Data: https://registry.opendata.aws/\n",
        "* Data.gov: https://data.gov/\n",
        "* Google Ngram Viewer: https://books.google.com/ngrams/\n",
        "* The Corpus of Contemporary American English: https://www.english-corpora.org/coca/\n",
        "* University of California, Irvine, Center for Machine Learning: https://archive.ics.uci.edu/\n",
        "* Pew Research Center: https://www.pewresearch.org/\n",
        "* https://www.linkedin.com/learning/learning-public-data-sets-2/bureau-of-labor-statistics?resume=false&u=74650474\n",
        "\n"
      ],
      "metadata": {
        "id": "3bNQM76dx1AI"
      }
    },
    {
      "cell_type": "markdown",
      "source": [
        "## BigQuery\n",
        "\n",
        "* https://console.cloud.google.com/marketplace/product/google/bigquery.googleapis.com?_ga=2.211298837.1868925152.1707340152-1299486709.1704991752&project=studynotes-prod&returnUrl=%2Fbigquery%3F_ga%3D2.211298837.1868925152.1707340152-1299486709.1704991752%26project%3Dstudynotes-prod\n",
        "\n",
        "<pre>\n",
        "SELECT\n",
        "  *\n",
        "FROM\n",
        "  `bigquery-public-data.usa_names.usa_1910_current`\n",
        "LIMIT 100\n",
        "</pre>\n",
        "\n",
        "<pre>\n",
        "SELECT\n",
        "  *\n",
        "FROM\n",
        "  `bigquery-public-data.usa_names.usa_1910_current`\n",
        "WHERE\n",
        "  state = 'TX'\n",
        "LIMIT 100\n",
        "</pre>\n",
        "\n",
        "<pre>\n",
        "SELECT\n",
        "  MIN(year), MAX(year)\n",
        "FROM\n",
        "  `bigquery-public-data.usa_names.usa_1910_current`\n",
        "</pre>\n",
        "\n",
        "<pre>\n",
        "SELECT\n",
        "  name, COUNT(name) as cnt\n",
        "FROM\n",
        "  `bigquery-public-data.usa_names.usa_1910_current`\n",
        "GROUP BY name\n",
        "ORDER BY cnt DESC\n",
        "LIMIT 1\n",
        "</pre>\n",
        "\n",
        "<pre>\n",
        "SELECT\n",
        "  *\n",
        "FROM\n",
        "  `bigquery-public-data.usa_names.usa_1910_current`\n",
        "WHERE\n",
        "  state = 'TX'\n",
        "AND\n",
        "  year = 2020\n",
        "LIMIT 100\n",
        "</pre>\n",
        "\n"
      ],
      "metadata": {
        "id": "wVhHy57pd1-K"
      }
    },
    {
      "cell_type": "markdown",
      "source": [
        "Public datasets\n",
        "\n",
        "* Add\n",
        "* Search for public datasets\n",
        "* Search of World Bank\n",
        "\n",
        "World Bank\n",
        "* https://databank.worldbank.org/metadataglossary/jobs/series/SI.POV.GINI"
      ],
      "metadata": {
        "id": "U61OtIl3VLsu"
      }
    },
    {
      "cell_type": "markdown",
      "source": [
        "<pre>\n",
        "\n",
        "SELECT acs.geo_id, acs.total_pop, fips.state_name\n",
        "FROM\n",
        "`bigquery-public-data.census_bureau_acs.state_2010_1yr` as acs,\n",
        "`bigquery-public-data.census_utility.fips_codes_states` as fips\n",
        "WHERE acs.geo_id = fips.state_fips_code\n",
        "AND fips.state_name = 'Texas'\n",
        "\n",
        "</pre>\n",
        "\n",
        "<pre>\n",
        "SELECT *\n",
        "FROM `bigquery-public-data.census_bureau_acs.state_2010_1yr` as acs\n",
        "INNER JOIN  `bigquery-public-data.census_utility.fips_codes_states` as fips\n",
        "ON acs.geo_id = fips.state_fips_code\n",
        "</pre>"
      ],
      "metadata": {
        "id": "k7WC8zTRg-Mr"
      }
    },
    {
      "cell_type": "markdown",
      "source": [
        "## APA Research Paper"
      ],
      "metadata": {
        "id": "7bU0xi6mODIE"
      }
    },
    {
      "cell_type": "markdown",
      "source": [
        "### Abstract Section\n",
        "\n",
        "* ABSTRACT: The abstract needs to provide a brief but comprehensive summary of the contents of your paper.  It provides an overview of the paper and helps readers decide whether to read the full text. Limit your abstract to 250 words.\n",
        "* https://apastyle.apa.org/instructional-aids/abstract-keywords-guide.pdf"
      ],
      "metadata": {
        "id": "RwtS0AfqN3gh"
      }
    },
    {
      "cell_type": "markdown",
      "source": [
        "### Introduction Section\n",
        "\n",
        "* A good introduction will summarize, integrate, and critically evaluate the empirical knowledge in the relevant area(s) in a way that sets the stage for your study and why you conducted it. The introduction starts out broad (but not too broad!) and gets more focused toward the end.\n",
        "\n",
        "Example Prompt:\n",
        "\n",
        "My research question is To what extent and through what mechanisms does religion influence the formation and expression of ultra-nationalist ideologies and movements within Western civilization? I need to write an introduction to my research paper. Can you write an opening sentence that clearly conveys the relevance of the following text.\n",
        "\n",
        "[text]"
      ],
      "metadata": {
        "id": "uWTrcQvAN5fV"
      }
    },
    {
      "cell_type": "markdown",
      "source": [
        "### Method Section\n",
        "\n",
        "From Gemini\n",
        "\n",
        "**Prompt**: I am writing a research paper and want to know what elements go in the method section\n",
        "\n",
        "**Response**:\n",
        "\n",
        "**Method**\n",
        "\n",
        "The method section of your research paper is crucial, as it details how you conducted your research and allows readers to assess its validity and replicability. Here are the key elements you should include:\n",
        "\n",
        "**1. Research Design:**\n",
        "\n",
        "* https://library.cityu.edu/researchguides/researchmethods/litreview\n",
        "* Briefly explain the type of research design you employed (e.g., experiment, survey, case study).\n",
        "* Justify your choice of design and how it aligns with your research question and objectives.\n",
        "\n",
        "**2. Participants or Subjects:**\n",
        "\n",
        "* Describe the characteristics of your participants or subjects, including demographics, selection criteria, and sample size.\n",
        "* Explain how you recruited participants and ensure ethical considerations were addressed (e.g., informed consent).\n",
        "\n",
        "**3. Materials and Equipment:**\n",
        "\n",
        "* List all the materials and equipment used in your research, including specific details like brand names, models, and software versions.\n",
        "* Describe any specific procedures or preparations undertaken for the materials or equipment.\n",
        "\n",
        "**4. Procedure:**\n",
        "\n",
        "* Provide a step-by-step explanation of how you conducted your research, ensuring clarity and conciseness.\n",
        "* Include details on data collection methods (e.g., surveys, interviews, observations) and any manipulations or interventions involved.\n",
        "*  If applicable, describe the order of events and any control measures implemented.\n",
        "\n",
        "**5. Data Analysis:**\n",
        "\n",
        "* Explain how you analyzed your data, including the specific statistical tests or qualitative analysis methods used.\n",
        "* Briefly justify your choice of analysis methods and their appropriateness for your research question and data type.\n",
        "\n",
        "**Additional Considerations:**\n",
        "\n",
        "* **Ethical Approval:** If your research involved human subjects or animals, mention the ethical approval process and the body that granted approval.\n",
        "* **Data Management:** Briefly describe how you stored and managed your data throughout the research process.\n",
        "* **Clarity and Conciseness:** Use clear and concise language, avoiding jargon and unnecessary details.\n",
        "* **Logical Organization:**  Structure the section logically, often using subheadings to present information in a clear and organized manner.\n",
        "\n",
        "Remember, the specific elements and level of detail required in your methods section may vary depending on your field of study and specific research question. It's always recommended to consult your research style guide or professor for specific formatting and content requirements."
      ],
      "metadata": {
        "id": "7NZ4_SknF-fX"
      }
    },
    {
      "cell_type": "markdown",
      "source": [
        "### Results Section\n",
        "\n",
        "The results section of a research paper is all about presenting the cold, hard facts unearthed by your research. It acts like a bridge between the methodology you used and what you ultimately discovered. Here are the key points to remember:\n",
        "\n",
        "* **Focus on Findings:** It presents what you found, sticking to data and observations without interpretation or analysis. Think of it as laying out the evidence.\n",
        "* **Answer the Question:** The findings should directly address the research question(s) you posed at the outset of the paper.\n",
        "* **Logical Flow:** Organize your findings in a clear and logical sequence, often mirroring the structure of your methodology.\n",
        "* **Data Presentation:** Use tables, figures, and charts to effectively showcase your findings. Text descriptions should complement these visuals.\n",
        "* **Neutral Tone:** Avoid any bias or personal opinions in this section. Maintain a strictly objective and factual approach.\n",
        "* **Context is Key:** Briefly introduce the results section by reminding the reader of the research problem and the purpose of your study.\n",
        "* **Only Relevant Findings:** Include data directly connected to your research goals. Avoid cluttering the section with unnecessary details.\n",
        "\n",
        "Remember, the results section sets the stage for the discussion section, where you'll delve deeper into interpreting the meaning of your findings.\n",
        "\n",
        "The results section of a research paper is one of the most important parts, and it should only include the findings of the study. The results section should include:\n",
        "\n",
        "* Data: Data presented in tables, charts, graphs, and other figures\n",
        "* Contextual analysis: A sentence-based explanation of the meaning of the data\n",
        "* Secondary findings: Secondary outcomes, subgroup analyses, and more\n",
        "* Connection to research questions: How the data relates to the research questions\n",
        "\n",
        "The results section should not attempt to interpret or analyze the findings, only state the facts. The data may be placed into the text or on separate pages at the end of the manuscript.\n",
        "\n",
        "The results (or findings) section is one of the most important parts of a research paper, in which an author reports the findings of their study in connection to their research question(s). The results section should not attempt to interpret or analyze the findings, only state the facts.\n",
        "\n",
        "The Results section should include the findings of your study and ONLY the findings of your study. The findings include: Data presented in tables, charts, graphs, and other figures (may be placed into the text or on separate pages at the end of the manuscript) A contextual analysis of this data explaining its meaning in sentence form. All data that corresponds to the central research question(s) All secondary findings (secondary outcomes, subgroup analyses, etc.)\n"
      ],
      "metadata": {
        "id": "7QXMnzR6kaqA"
      }
    },
    {
      "cell_type": "markdown",
      "source": [
        "### Discussion Section\n",
        "\n",
        "* Prompt: Hi, I am writing a APA 7 research paper and want to know the key elements of the discussion section. Please also provide and outline of the APA 7 discussion section.\n",
        "\n",
        "#### Key Elements of an APA 7 Discussion Section\n",
        "\n",
        "The discussion section is the heart of your research paper. Here's what you should cover:\n",
        "\n",
        "* **Interpretation of Findings:** Explain what your results mean in light of your research questions or hypotheses.  Discuss how your findings relate to existing research (mentioned in your literature review).\n",
        "* **Acknowledge Unexpected Results:**  Address any findings that didn't support your hypotheses.  Discuss possible explanations for these results.\n",
        "* **Limitations:** Discuss the weaknesses or limitations of your study.  How might these limitations have affected your results?\n",
        "* **Implications:**  Explain the broader significance of your research.  What are the real-world implications of your findings?\n",
        "* **Future Directions:**  Propose areas for future research based on your findings.  What questions remain unanswered?\n",
        "\n",
        "####  Outline of an APA 7 Discussion Section\n",
        "\n",
        "1. **Brief Re-state the Research Question/Hypothesis:**  Remind the reader of your research goals.\n",
        "2. **Summarize Key Findings:** Briefly mention the main results of your study.\n",
        "3. **Interpret Findings in Detail:**  Dive deeper into your results, explaining their meaning and how they relate to your research questions/hypotheses and the existing literature.\n",
        "    * Discuss any unexpected findings and offer possible explanations.\n",
        "4. **Limitations:** Acknowledge the weaknesses of your study and how they might have affected your results.\n",
        "5. **Implications:**  Explain the broader significance of your research.  What are the real-world implications of your findings?\n",
        "6. **Future Directions:**  Propose new research questions or areas for future investigation based on your findings.\n",
        "7. **Conclusion:**   Briefly summarize the main points of your discussion and reiterate the significance of your research.\n",
        "\n",
        "**Tips:**\n",
        "\n",
        "* Use the present tense to discuss your findings.\n",
        "*  Cite relevant sources throughout the discussion to support your interpretations.\n",
        "* Maintain a formal and objective writing style.\n"
      ],
      "metadata": {
        "id": "OBmjzJ6eNl8q"
      }
    },
    {
      "cell_type": "markdown",
      "source": [
        "## PowerPoint Presentation\n",
        "\n",
        "* https://docs.google.com/document/d/1onb_1KS8RCDc2McbCDp1IewIXg47uwi1URTgDZFcLQY/edit?usp=sharing"
      ],
      "metadata": {
        "id": "_8RA45bllgda"
      }
    },
    {
      "cell_type": "markdown",
      "source": [
        "## SQL"
      ],
      "metadata": {
        "id": "HGH7TxHIBXe6"
      }
    },
    {
      "cell_type": "markdown",
      "source": [
        "## LM Studio\n",
        "\n",
        "Sources\n",
        "\n",
        "* OpenAI with Python API Bootcamp by Jose Portilla\n",
        "* https://www.youtube.com/watch?v=yBI1nPep72Q\n",
        "* https://github.com/danielsobrado/llm_notebooks\n",
        "* https://llm.extractum.io/"
      ],
      "metadata": {
        "id": "Gkkb6Os0YV43"
      }
    },
    {
      "cell_type": "markdown",
      "source": [
        "### Terms\n",
        "\n",
        "* Model Quantization is a technique used to reduce the size of large neural networks, including large language models (LLMs) by modifying the precision of their weights. LLM Quantization is enabled thanks to empiric results showing that while some operations related to neural network training and inference must leverage high precision, in some cases it's possible to use significantly lower precision (float16 for example) reducing the overall size of the model, allowing it to be run using less powerful hardware with an acceptable reduction of its capabilities and accuracy.\n",
        "* Retrieval-augmented generation (RAG) is a technique for enhancing the accuracy and reliability of generative AI models with facts fetched from external sources.\n",
        "\n",
        "Sources\n",
        "\n",
        "* https://blogs.nvidia.com/blog/what-is-retrieval-augmented-generation/\n",
        "* https://deci.ai/quantization-and-quantization-aware-training/\n",
        "* https://www.tensorops.ai/post/what-are-quantized-llms"
      ],
      "metadata": {
        "id": "BLpF1Hza_jUD"
      }
    },
    {
      "cell_type": "markdown",
      "source": [
        "### SQL\n",
        "\n",
        "* SQL is meant to work with SQL compatible applications\n",
        "* There are many other options to work with tabular data like Excel or CSV\n",
        "* Pandas allows us to work with tabular data sources such as SQL"
      ],
      "metadata": {
        "id": "GiRitytZ_k8G"
      }
    },
    {
      "cell_type": "code",
      "source": [
        "# convert csv from pandas to sql\n",
        "import pandas as pd\n",
        "\n",
        "df = pd.read_csv('https://raw.githubusercontent.com/gitmystuff/Datasets/main/Auto.csv')\n",
        "print(df.shape)\n",
        "print(df.info())\n",
        "df.head()"
      ],
      "metadata": {
        "colab": {
          "base_uri": "https://localhost:8080/",
          "height": 536
        },
        "id": "X4MmbjklAMKg",
        "outputId": "b3d42ad0-ad35-437b-ab06-323030c9e10f"
      },
      "execution_count": null,
      "outputs": [
        {
          "output_type": "stream",
          "name": "stdout",
          "text": [
            "(397, 9)\n",
            "<class 'pandas.core.frame.DataFrame'>\n",
            "RangeIndex: 397 entries, 0 to 396\n",
            "Data columns (total 9 columns):\n",
            " #   Column        Non-Null Count  Dtype  \n",
            "---  ------        --------------  -----  \n",
            " 0   mpg           397 non-null    float64\n",
            " 1   cylinders     397 non-null    int64  \n",
            " 2   displacement  397 non-null    float64\n",
            " 3   horsepower    397 non-null    object \n",
            " 4   weight        397 non-null    int64  \n",
            " 5   acceleration  397 non-null    float64\n",
            " 6   year          397 non-null    int64  \n",
            " 7   origin        397 non-null    int64  \n",
            " 8   name          397 non-null    object \n",
            "dtypes: float64(3), int64(4), object(2)\n",
            "memory usage: 28.0+ KB\n",
            "None\n"
          ]
        },
        {
          "output_type": "execute_result",
          "data": {
            "text/plain": [
              "    mpg  cylinders  displacement horsepower  weight  acceleration  year  \\\n",
              "0  18.0          8         307.0        130    3504          12.0    70   \n",
              "1  15.0          8         350.0        165    3693          11.5    70   \n",
              "2  18.0          8         318.0        150    3436          11.0    70   \n",
              "3  16.0          8         304.0        150    3433          12.0    70   \n",
              "4  17.0          8         302.0        140    3449          10.5    70   \n",
              "\n",
              "   origin                       name  \n",
              "0       1  chevrolet chevelle malibu  \n",
              "1       1          buick skylark 320  \n",
              "2       1         plymouth satellite  \n",
              "3       1              amc rebel sst  \n",
              "4       1                ford torino  "
            ],
            "text/html": [
              "\n",
              "  <div id=\"df-cb968b71-0791-4769-8f0e-caa9286ce694\" class=\"colab-df-container\">\n",
              "    <div>\n",
              "<style scoped>\n",
              "    .dataframe tbody tr th:only-of-type {\n",
              "        vertical-align: middle;\n",
              "    }\n",
              "\n",
              "    .dataframe tbody tr th {\n",
              "        vertical-align: top;\n",
              "    }\n",
              "\n",
              "    .dataframe thead th {\n",
              "        text-align: right;\n",
              "    }\n",
              "</style>\n",
              "<table border=\"1\" class=\"dataframe\">\n",
              "  <thead>\n",
              "    <tr style=\"text-align: right;\">\n",
              "      <th></th>\n",
              "      <th>mpg</th>\n",
              "      <th>cylinders</th>\n",
              "      <th>displacement</th>\n",
              "      <th>horsepower</th>\n",
              "      <th>weight</th>\n",
              "      <th>acceleration</th>\n",
              "      <th>year</th>\n",
              "      <th>origin</th>\n",
              "      <th>name</th>\n",
              "    </tr>\n",
              "  </thead>\n",
              "  <tbody>\n",
              "    <tr>\n",
              "      <th>0</th>\n",
              "      <td>18.0</td>\n",
              "      <td>8</td>\n",
              "      <td>307.0</td>\n",
              "      <td>130</td>\n",
              "      <td>3504</td>\n",
              "      <td>12.0</td>\n",
              "      <td>70</td>\n",
              "      <td>1</td>\n",
              "      <td>chevrolet chevelle malibu</td>\n",
              "    </tr>\n",
              "    <tr>\n",
              "      <th>1</th>\n",
              "      <td>15.0</td>\n",
              "      <td>8</td>\n",
              "      <td>350.0</td>\n",
              "      <td>165</td>\n",
              "      <td>3693</td>\n",
              "      <td>11.5</td>\n",
              "      <td>70</td>\n",
              "      <td>1</td>\n",
              "      <td>buick skylark 320</td>\n",
              "    </tr>\n",
              "    <tr>\n",
              "      <th>2</th>\n",
              "      <td>18.0</td>\n",
              "      <td>8</td>\n",
              "      <td>318.0</td>\n",
              "      <td>150</td>\n",
              "      <td>3436</td>\n",
              "      <td>11.0</td>\n",
              "      <td>70</td>\n",
              "      <td>1</td>\n",
              "      <td>plymouth satellite</td>\n",
              "    </tr>\n",
              "    <tr>\n",
              "      <th>3</th>\n",
              "      <td>16.0</td>\n",
              "      <td>8</td>\n",
              "      <td>304.0</td>\n",
              "      <td>150</td>\n",
              "      <td>3433</td>\n",
              "      <td>12.0</td>\n",
              "      <td>70</td>\n",
              "      <td>1</td>\n",
              "      <td>amc rebel sst</td>\n",
              "    </tr>\n",
              "    <tr>\n",
              "      <th>4</th>\n",
              "      <td>17.0</td>\n",
              "      <td>8</td>\n",
              "      <td>302.0</td>\n",
              "      <td>140</td>\n",
              "      <td>3449</td>\n",
              "      <td>10.5</td>\n",
              "      <td>70</td>\n",
              "      <td>1</td>\n",
              "      <td>ford torino</td>\n",
              "    </tr>\n",
              "  </tbody>\n",
              "</table>\n",
              "</div>\n",
              "    <div class=\"colab-df-buttons\">\n",
              "\n",
              "  <div class=\"colab-df-container\">\n",
              "    <button class=\"colab-df-convert\" onclick=\"convertToInteractive('df-cb968b71-0791-4769-8f0e-caa9286ce694')\"\n",
              "            title=\"Convert this dataframe to an interactive table.\"\n",
              "            style=\"display:none;\">\n",
              "\n",
              "  <svg xmlns=\"http://www.w3.org/2000/svg\" height=\"24px\" viewBox=\"0 -960 960 960\">\n",
              "    <path d=\"M120-120v-720h720v720H120Zm60-500h600v-160H180v160Zm220 220h160v-160H400v160Zm0 220h160v-160H400v160ZM180-400h160v-160H180v160Zm440 0h160v-160H620v160ZM180-180h160v-160H180v160Zm440 0h160v-160H620v160Z\"/>\n",
              "  </svg>\n",
              "    </button>\n",
              "\n",
              "  <style>\n",
              "    .colab-df-container {\n",
              "      display:flex;\n",
              "      gap: 12px;\n",
              "    }\n",
              "\n",
              "    .colab-df-convert {\n",
              "      background-color: #E8F0FE;\n",
              "      border: none;\n",
              "      border-radius: 50%;\n",
              "      cursor: pointer;\n",
              "      display: none;\n",
              "      fill: #1967D2;\n",
              "      height: 32px;\n",
              "      padding: 0 0 0 0;\n",
              "      width: 32px;\n",
              "    }\n",
              "\n",
              "    .colab-df-convert:hover {\n",
              "      background-color: #E2EBFA;\n",
              "      box-shadow: 0px 1px 2px rgba(60, 64, 67, 0.3), 0px 1px 3px 1px rgba(60, 64, 67, 0.15);\n",
              "      fill: #174EA6;\n",
              "    }\n",
              "\n",
              "    .colab-df-buttons div {\n",
              "      margin-bottom: 4px;\n",
              "    }\n",
              "\n",
              "    [theme=dark] .colab-df-convert {\n",
              "      background-color: #3B4455;\n",
              "      fill: #D2E3FC;\n",
              "    }\n",
              "\n",
              "    [theme=dark] .colab-df-convert:hover {\n",
              "      background-color: #434B5C;\n",
              "      box-shadow: 0px 1px 3px 1px rgba(0, 0, 0, 0.15);\n",
              "      filter: drop-shadow(0px 1px 2px rgba(0, 0, 0, 0.3));\n",
              "      fill: #FFFFFF;\n",
              "    }\n",
              "  </style>\n",
              "\n",
              "    <script>\n",
              "      const buttonEl =\n",
              "        document.querySelector('#df-cb968b71-0791-4769-8f0e-caa9286ce694 button.colab-df-convert');\n",
              "      buttonEl.style.display =\n",
              "        google.colab.kernel.accessAllowed ? 'block' : 'none';\n",
              "\n",
              "      async function convertToInteractive(key) {\n",
              "        const element = document.querySelector('#df-cb968b71-0791-4769-8f0e-caa9286ce694');\n",
              "        const dataTable =\n",
              "          await google.colab.kernel.invokeFunction('convertToInteractive',\n",
              "                                                    [key], {});\n",
              "        if (!dataTable) return;\n",
              "\n",
              "        const docLinkHtml = 'Like what you see? Visit the ' +\n",
              "          '<a target=\"_blank\" href=https://colab.research.google.com/notebooks/data_table.ipynb>data table notebook</a>'\n",
              "          + ' to learn more about interactive tables.';\n",
              "        element.innerHTML = '';\n",
              "        dataTable['output_type'] = 'display_data';\n",
              "        await google.colab.output.renderOutput(dataTable, element);\n",
              "        const docLink = document.createElement('div');\n",
              "        docLink.innerHTML = docLinkHtml;\n",
              "        element.appendChild(docLink);\n",
              "      }\n",
              "    </script>\n",
              "  </div>\n",
              "\n",
              "\n",
              "<div id=\"df-a50ca1d7-4762-4877-b0f7-50520ded4be0\">\n",
              "  <button class=\"colab-df-quickchart\" onclick=\"quickchart('df-a50ca1d7-4762-4877-b0f7-50520ded4be0')\"\n",
              "            title=\"Suggest charts\"\n",
              "            style=\"display:none;\">\n",
              "\n",
              "<svg xmlns=\"http://www.w3.org/2000/svg\" height=\"24px\"viewBox=\"0 0 24 24\"\n",
              "     width=\"24px\">\n",
              "    <g>\n",
              "        <path d=\"M19 3H5c-1.1 0-2 .9-2 2v14c0 1.1.9 2 2 2h14c1.1 0 2-.9 2-2V5c0-1.1-.9-2-2-2zM9 17H7v-7h2v7zm4 0h-2V7h2v10zm4 0h-2v-4h2v4z\"/>\n",
              "    </g>\n",
              "</svg>\n",
              "  </button>\n",
              "\n",
              "<style>\n",
              "  .colab-df-quickchart {\n",
              "      --bg-color: #E8F0FE;\n",
              "      --fill-color: #1967D2;\n",
              "      --hover-bg-color: #E2EBFA;\n",
              "      --hover-fill-color: #174EA6;\n",
              "      --disabled-fill-color: #AAA;\n",
              "      --disabled-bg-color: #DDD;\n",
              "  }\n",
              "\n",
              "  [theme=dark] .colab-df-quickchart {\n",
              "      --bg-color: #3B4455;\n",
              "      --fill-color: #D2E3FC;\n",
              "      --hover-bg-color: #434B5C;\n",
              "      --hover-fill-color: #FFFFFF;\n",
              "      --disabled-bg-color: #3B4455;\n",
              "      --disabled-fill-color: #666;\n",
              "  }\n",
              "\n",
              "  .colab-df-quickchart {\n",
              "    background-color: var(--bg-color);\n",
              "    border: none;\n",
              "    border-radius: 50%;\n",
              "    cursor: pointer;\n",
              "    display: none;\n",
              "    fill: var(--fill-color);\n",
              "    height: 32px;\n",
              "    padding: 0;\n",
              "    width: 32px;\n",
              "  }\n",
              "\n",
              "  .colab-df-quickchart:hover {\n",
              "    background-color: var(--hover-bg-color);\n",
              "    box-shadow: 0 1px 2px rgba(60, 64, 67, 0.3), 0 1px 3px 1px rgba(60, 64, 67, 0.15);\n",
              "    fill: var(--button-hover-fill-color);\n",
              "  }\n",
              "\n",
              "  .colab-df-quickchart-complete:disabled,\n",
              "  .colab-df-quickchart-complete:disabled:hover {\n",
              "    background-color: var(--disabled-bg-color);\n",
              "    fill: var(--disabled-fill-color);\n",
              "    box-shadow: none;\n",
              "  }\n",
              "\n",
              "  .colab-df-spinner {\n",
              "    border: 2px solid var(--fill-color);\n",
              "    border-color: transparent;\n",
              "    border-bottom-color: var(--fill-color);\n",
              "    animation:\n",
              "      spin 1s steps(1) infinite;\n",
              "  }\n",
              "\n",
              "  @keyframes spin {\n",
              "    0% {\n",
              "      border-color: transparent;\n",
              "      border-bottom-color: var(--fill-color);\n",
              "      border-left-color: var(--fill-color);\n",
              "    }\n",
              "    20% {\n",
              "      border-color: transparent;\n",
              "      border-left-color: var(--fill-color);\n",
              "      border-top-color: var(--fill-color);\n",
              "    }\n",
              "    30% {\n",
              "      border-color: transparent;\n",
              "      border-left-color: var(--fill-color);\n",
              "      border-top-color: var(--fill-color);\n",
              "      border-right-color: var(--fill-color);\n",
              "    }\n",
              "    40% {\n",
              "      border-color: transparent;\n",
              "      border-right-color: var(--fill-color);\n",
              "      border-top-color: var(--fill-color);\n",
              "    }\n",
              "    60% {\n",
              "      border-color: transparent;\n",
              "      border-right-color: var(--fill-color);\n",
              "    }\n",
              "    80% {\n",
              "      border-color: transparent;\n",
              "      border-right-color: var(--fill-color);\n",
              "      border-bottom-color: var(--fill-color);\n",
              "    }\n",
              "    90% {\n",
              "      border-color: transparent;\n",
              "      border-bottom-color: var(--fill-color);\n",
              "    }\n",
              "  }\n",
              "</style>\n",
              "\n",
              "  <script>\n",
              "    async function quickchart(key) {\n",
              "      const quickchartButtonEl =\n",
              "        document.querySelector('#' + key + ' button');\n",
              "      quickchartButtonEl.disabled = true;  // To prevent multiple clicks.\n",
              "      quickchartButtonEl.classList.add('colab-df-spinner');\n",
              "      try {\n",
              "        const charts = await google.colab.kernel.invokeFunction(\n",
              "            'suggestCharts', [key], {});\n",
              "      } catch (error) {\n",
              "        console.error('Error during call to suggestCharts:', error);\n",
              "      }\n",
              "      quickchartButtonEl.classList.remove('colab-df-spinner');\n",
              "      quickchartButtonEl.classList.add('colab-df-quickchart-complete');\n",
              "    }\n",
              "    (() => {\n",
              "      let quickchartButtonEl =\n",
              "        document.querySelector('#df-a50ca1d7-4762-4877-b0f7-50520ded4be0 button');\n",
              "      quickchartButtonEl.style.display =\n",
              "        google.colab.kernel.accessAllowed ? 'block' : 'none';\n",
              "    })();\n",
              "  </script>\n",
              "</div>\n",
              "\n",
              "    </div>\n",
              "  </div>\n"
            ],
            "application/vnd.google.colaboratory.intrinsic+json": {
              "type": "dataframe",
              "variable_name": "df",
              "summary": "{\n  \"name\": \"df\",\n  \"rows\": 397,\n  \"fields\": [\n    {\n      \"column\": \"mpg\",\n      \"properties\": {\n        \"dtype\": \"number\",\n        \"std\": 7.825803928946563,\n        \"min\": 9.0,\n        \"max\": 46.6,\n        \"num_unique_values\": 129,\n        \"samples\": [\n          17.7,\n          30.5,\n          30.0\n        ],\n        \"semantic_type\": \"\",\n        \"description\": \"\"\n      }\n    },\n    {\n      \"column\": \"cylinders\",\n      \"properties\": {\n        \"dtype\": \"number\",\n        \"std\": 1,\n        \"min\": 3,\n        \"max\": 8,\n        \"num_unique_values\": 5,\n        \"samples\": [\n          4,\n          5,\n          6\n        ],\n        \"semantic_type\": \"\",\n        \"description\": \"\"\n      }\n    },\n    {\n      \"column\": \"displacement\",\n      \"properties\": {\n        \"dtype\": \"number\",\n        \"std\": 104.37958329992955,\n        \"min\": 68.0,\n        \"max\": 455.0,\n        \"num_unique_values\": 82,\n        \"samples\": [\n          122.0,\n          307.0,\n          360.0\n        ],\n        \"semantic_type\": \"\",\n        \"description\": \"\"\n      }\n    },\n    {\n      \"column\": \"horsepower\",\n      \"properties\": {\n        \"dtype\": \"category\",\n        \"num_unique_values\": 94,\n        \"samples\": [\n          \"112\",\n          \"?\",\n          \"78\"\n        ],\n        \"semantic_type\": \"\",\n        \"description\": \"\"\n      }\n    },\n    {\n      \"column\": \"weight\",\n      \"properties\": {\n        \"dtype\": \"number\",\n        \"std\": 847,\n        \"min\": 1613,\n        \"max\": 5140,\n        \"num_unique_values\": 350,\n        \"samples\": [\n          3730,\n          1995,\n          2050\n        ],\n        \"semantic_type\": \"\",\n        \"description\": \"\"\n      }\n    },\n    {\n      \"column\": \"acceleration\",\n      \"properties\": {\n        \"dtype\": \"number\",\n        \"std\": 2.749995292976151,\n        \"min\": 8.0,\n        \"max\": 24.8,\n        \"num_unique_values\": 95,\n        \"samples\": [\n          14.7,\n          18.0,\n          14.3\n        ],\n        \"semantic_type\": \"\",\n        \"description\": \"\"\n      }\n    },\n    {\n      \"column\": \"year\",\n      \"properties\": {\n        \"dtype\": \"number\",\n        \"std\": 3,\n        \"min\": 70,\n        \"max\": 82,\n        \"num_unique_values\": 13,\n        \"samples\": [\n          81,\n          79,\n          70\n        ],\n        \"semantic_type\": \"\",\n        \"description\": \"\"\n      }\n    },\n    {\n      \"column\": \"origin\",\n      \"properties\": {\n        \"dtype\": \"number\",\n        \"std\": 0,\n        \"min\": 1,\n        \"max\": 3,\n        \"num_unique_values\": 3,\n        \"samples\": [\n          1,\n          3,\n          2\n        ],\n        \"semantic_type\": \"\",\n        \"description\": \"\"\n      }\n    },\n    {\n      \"column\": \"name\",\n      \"properties\": {\n        \"dtype\": \"string\",\n        \"num_unique_values\": 304,\n        \"samples\": [\n          \"mazda rx-4\",\n          \"ford f108\",\n          \"buick century luxus (sw)\"\n        ],\n        \"semantic_type\": \"\",\n        \"description\": \"\"\n      }\n    }\n  ]\n}"
            }
          },
          "metadata": {},
          "execution_count": 1
        }
      ]
    },
    {
      "cell_type": "code",
      "source": [
        "# pandas groupby example\n",
        "df['origin'] = df['origin'].astype('object')\n",
        "df.groupby('origin')['mpg'].mean()"
      ],
      "metadata": {
        "colab": {
          "base_uri": "https://localhost:8080/"
        },
        "id": "YA3TPMzgHAUH",
        "outputId": "a756686c-cfaa-4121-c2d9-d1dc369c2c7e"
      },
      "execution_count": null,
      "outputs": [
        {
          "output_type": "execute_result",
          "data": {
            "text/plain": [
              "origin\n",
              "1    20.071774\n",
              "2    27.891429\n",
              "3    30.450633\n",
              "Name: mpg, dtype: float64"
            ]
          },
          "metadata": {},
          "execution_count": 2
        }
      ]
    },
    {
      "cell_type": "code",
      "source": [
        "# pandas to sql\n",
        "# what is the average mpg for the origin of cars\n",
        "# --> SELECT AVG(mpg) FROM table GROUP BY ...\n",
        "from sqlalchemy import create_engine, text\n",
        "\n",
        "db = create_engine('sqlite:///:memory', echo=True)\n",
        "\n",
        "data = df.to_sql(name='MPG', con=db)"
      ],
      "metadata": {
        "colab": {
          "base_uri": "https://localhost:8080/"
        },
        "id": "z2888IViCjJG",
        "outputId": "2dbdc9a4-d48f-4d34-b3b2-d3fa50476b10"
      },
      "execution_count": null,
      "outputs": [
        {
          "output_type": "stream",
          "name": "stdout",
          "text": [
            "2024-04-04 03:55:34,549 INFO sqlalchemy.engine.Engine BEGIN (implicit)\n"
          ]
        },
        {
          "output_type": "stream",
          "name": "stderr",
          "text": [
            "INFO:sqlalchemy.engine.Engine:BEGIN (implicit)\n"
          ]
        },
        {
          "output_type": "stream",
          "name": "stdout",
          "text": [
            "2024-04-04 03:55:34,589 INFO sqlalchemy.engine.Engine PRAGMA main.table_info(\"MPG\")\n"
          ]
        },
        {
          "output_type": "stream",
          "name": "stderr",
          "text": [
            "INFO:sqlalchemy.engine.Engine:PRAGMA main.table_info(\"MPG\")\n"
          ]
        },
        {
          "output_type": "stream",
          "name": "stdout",
          "text": [
            "2024-04-04 03:55:34,610 INFO sqlalchemy.engine.Engine [raw sql] ()\n"
          ]
        },
        {
          "output_type": "stream",
          "name": "stderr",
          "text": [
            "INFO:sqlalchemy.engine.Engine:[raw sql] ()\n"
          ]
        },
        {
          "output_type": "stream",
          "name": "stdout",
          "text": [
            "2024-04-04 03:55:34,636 INFO sqlalchemy.engine.Engine PRAGMA temp.table_info(\"MPG\")\n"
          ]
        },
        {
          "output_type": "stream",
          "name": "stderr",
          "text": [
            "INFO:sqlalchemy.engine.Engine:PRAGMA temp.table_info(\"MPG\")\n"
          ]
        },
        {
          "output_type": "stream",
          "name": "stdout",
          "text": [
            "2024-04-04 03:55:34,646 INFO sqlalchemy.engine.Engine [raw sql] ()\n"
          ]
        },
        {
          "output_type": "stream",
          "name": "stderr",
          "text": [
            "INFO:sqlalchemy.engine.Engine:[raw sql] ()\n"
          ]
        },
        {
          "output_type": "stream",
          "name": "stdout",
          "text": [
            "2024-04-04 03:55:34,674 INFO sqlalchemy.engine.Engine \n",
            "CREATE TABLE \"MPG\" (\n",
            "\t\"index\" BIGINT, \n",
            "\tmpg FLOAT, \n",
            "\tcylinders BIGINT, \n",
            "\tdisplacement FLOAT, \n",
            "\thorsepower TEXT, \n",
            "\tweight BIGINT, \n",
            "\tacceleration FLOAT, \n",
            "\tyear BIGINT, \n",
            "\torigin BIGINT, \n",
            "\tname TEXT\n",
            ")\n",
            "\n",
            "\n"
          ]
        },
        {
          "output_type": "stream",
          "name": "stderr",
          "text": [
            "INFO:sqlalchemy.engine.Engine:\n",
            "CREATE TABLE \"MPG\" (\n",
            "\t\"index\" BIGINT, \n",
            "\tmpg FLOAT, \n",
            "\tcylinders BIGINT, \n",
            "\tdisplacement FLOAT, \n",
            "\thorsepower TEXT, \n",
            "\tweight BIGINT, \n",
            "\tacceleration FLOAT, \n",
            "\tyear BIGINT, \n",
            "\torigin BIGINT, \n",
            "\tname TEXT\n",
            ")\n",
            "\n",
            "\n"
          ]
        },
        {
          "output_type": "stream",
          "name": "stdout",
          "text": [
            "2024-04-04 03:55:34,687 INFO sqlalchemy.engine.Engine [no key 0.01625s] ()\n"
          ]
        },
        {
          "output_type": "stream",
          "name": "stderr",
          "text": [
            "INFO:sqlalchemy.engine.Engine:[no key 0.01625s] ()\n"
          ]
        },
        {
          "output_type": "stream",
          "name": "stdout",
          "text": [
            "2024-04-04 03:55:34,739 INFO sqlalchemy.engine.Engine CREATE INDEX \"ix_MPG_index\" ON \"MPG\" (\"index\")\n"
          ]
        },
        {
          "output_type": "stream",
          "name": "stderr",
          "text": [
            "INFO:sqlalchemy.engine.Engine:CREATE INDEX \"ix_MPG_index\" ON \"MPG\" (\"index\")\n"
          ]
        },
        {
          "output_type": "stream",
          "name": "stdout",
          "text": [
            "2024-04-04 03:55:34,750 INFO sqlalchemy.engine.Engine [no key 0.01096s] ()\n"
          ]
        },
        {
          "output_type": "stream",
          "name": "stderr",
          "text": [
            "INFO:sqlalchemy.engine.Engine:[no key 0.01096s] ()\n"
          ]
        },
        {
          "output_type": "stream",
          "name": "stdout",
          "text": [
            "2024-04-04 03:55:34,879 INFO sqlalchemy.engine.Engine INSERT INTO \"MPG\" (\"index\", mpg, cylinders, displacement, horsepower, weight, acceleration, year, origin, name) VALUES (?, ?, ?, ?, ?, ?, ?, ?, ?, ?)\n"
          ]
        },
        {
          "output_type": "stream",
          "name": "stderr",
          "text": [
            "INFO:sqlalchemy.engine.Engine:INSERT INTO \"MPG\" (\"index\", mpg, cylinders, displacement, horsepower, weight, acceleration, year, origin, name) VALUES (?, ?, ?, ?, ?, ?, ?, ?, ?, ?)\n"
          ]
        },
        {
          "output_type": "stream",
          "name": "stdout",
          "text": [
            "2024-04-04 03:55:34,887 INFO sqlalchemy.engine.Engine [generated in 0.02793s] [(0, 18.0, 8, 307.0, '130', 3504, 12.0, 70, 1, 'chevrolet chevelle malibu'), (1, 15.0, 8, 350.0, '165', 3693, 11.5, 70, 1, 'buick skylark 320'), (2, 18.0, 8, 318.0, '150', 3436, 11.0, 70, 1, 'plymouth satellite'), (3, 16.0, 8, 304.0, '150', 3433, 12.0, 70, 1, 'amc rebel sst'), (4, 17.0, 8, 302.0, '140', 3449, 10.5, 70, 1, 'ford torino'), (5, 15.0, 8, 429.0, '198', 4341, 10.0, 70, 1, 'ford galaxie 500'), (6, 14.0, 8, 454.0, '220', 4354, 9.0, 70, 1, 'chevrolet impala'), (7, 14.0, 8, 440.0, '215', 4312, 8.5, 70, 1, 'plymouth fury iii')  ... displaying 10 of 397 total bound parameter sets ...  (395, 28.0, 4, 120.0, '79', 2625, 18.6, 82, 1, 'ford ranger'), (396, 31.0, 4, 119.0, '82', 2720, 19.4, 82, 1, 'chevy s-10')]\n"
          ]
        },
        {
          "output_type": "stream",
          "name": "stderr",
          "text": [
            "INFO:sqlalchemy.engine.Engine:[generated in 0.02793s] [(0, 18.0, 8, 307.0, '130', 3504, 12.0, 70, 1, 'chevrolet chevelle malibu'), (1, 15.0, 8, 350.0, '165', 3693, 11.5, 70, 1, 'buick skylark 320'), (2, 18.0, 8, 318.0, '150', 3436, 11.0, 70, 1, 'plymouth satellite'), (3, 16.0, 8, 304.0, '150', 3433, 12.0, 70, 1, 'amc rebel sst'), (4, 17.0, 8, 302.0, '140', 3449, 10.5, 70, 1, 'ford torino'), (5, 15.0, 8, 429.0, '198', 4341, 10.0, 70, 1, 'ford galaxie 500'), (6, 14.0, 8, 454.0, '220', 4354, 9.0, 70, 1, 'chevrolet impala'), (7, 14.0, 8, 440.0, '215', 4312, 8.5, 70, 1, 'plymouth fury iii')  ... displaying 10 of 397 total bound parameter sets ...  (395, 28.0, 4, 120.0, '79', 2625, 18.6, 82, 1, 'ford ranger'), (396, 31.0, 4, 119.0, '82', 2720, 19.4, 82, 1, 'chevy s-10')]\n"
          ]
        },
        {
          "output_type": "stream",
          "name": "stdout",
          "text": [
            "2024-04-04 03:55:34,911 INFO sqlalchemy.engine.Engine SELECT name FROM sqlite_master WHERE type='table' AND name NOT LIKE 'sqlite~_%' ESCAPE '~' ORDER BY name\n"
          ]
        },
        {
          "output_type": "stream",
          "name": "stderr",
          "text": [
            "INFO:sqlalchemy.engine.Engine:SELECT name FROM sqlite_master WHERE type='table' AND name NOT LIKE 'sqlite~_%' ESCAPE '~' ORDER BY name\n"
          ]
        },
        {
          "output_type": "stream",
          "name": "stdout",
          "text": [
            "2024-04-04 03:55:34,924 INFO sqlalchemy.engine.Engine [raw sql] ()\n"
          ]
        },
        {
          "output_type": "stream",
          "name": "stderr",
          "text": [
            "INFO:sqlalchemy.engine.Engine:[raw sql] ()\n"
          ]
        },
        {
          "output_type": "stream",
          "name": "stdout",
          "text": [
            "2024-04-04 03:55:34,936 INFO sqlalchemy.engine.Engine COMMIT\n"
          ]
        },
        {
          "output_type": "stream",
          "name": "stderr",
          "text": [
            "INFO:sqlalchemy.engine.Engine:COMMIT\n"
          ]
        }
      ]
    },
    {
      "cell_type": "code",
      "source": [
        "# connect and query\n",
        "with db.connect() as conn:\n",
        "  # makes connection, allows queries, and closes\n",
        "  results = conn.execute(text('SELECT * FROM MPG'))\n",
        "\n",
        "results.all()"
      ],
      "metadata": {
        "colab": {
          "base_uri": "https://localhost:8080/"
        },
        "id": "PUzkh_E6Jyku",
        "outputId": "d0be0139-5fd7-4184-cdc0-1b184a19ddc2"
      },
      "execution_count": null,
      "outputs": [
        {
          "output_type": "stream",
          "name": "stdout",
          "text": [
            "2024-04-04 03:55:38,862 INFO sqlalchemy.engine.Engine BEGIN (implicit)\n"
          ]
        },
        {
          "output_type": "stream",
          "name": "stderr",
          "text": [
            "INFO:sqlalchemy.engine.Engine:BEGIN (implicit)\n"
          ]
        },
        {
          "output_type": "stream",
          "name": "stdout",
          "text": [
            "2024-04-04 03:55:38,873 INFO sqlalchemy.engine.Engine SELECT * FROM MPG\n"
          ]
        },
        {
          "output_type": "stream",
          "name": "stderr",
          "text": [
            "INFO:sqlalchemy.engine.Engine:SELECT * FROM MPG\n"
          ]
        },
        {
          "output_type": "stream",
          "name": "stdout",
          "text": [
            "2024-04-04 03:55:38,878 INFO sqlalchemy.engine.Engine [generated in 0.01589s] ()\n"
          ]
        },
        {
          "output_type": "stream",
          "name": "stderr",
          "text": [
            "INFO:sqlalchemy.engine.Engine:[generated in 0.01589s] ()\n"
          ]
        },
        {
          "output_type": "stream",
          "name": "stdout",
          "text": [
            "2024-04-04 03:55:38,900 INFO sqlalchemy.engine.Engine ROLLBACK\n"
          ]
        },
        {
          "output_type": "stream",
          "name": "stderr",
          "text": [
            "INFO:sqlalchemy.engine.Engine:ROLLBACK\n"
          ]
        },
        {
          "output_type": "execute_result",
          "data": {
            "text/plain": [
              "[(0, 18.0, 8, 307.0, '130', 3504, 12.0, 70, 1, 'chevrolet chevelle malibu'),\n",
              " (1, 15.0, 8, 350.0, '165', 3693, 11.5, 70, 1, 'buick skylark 320'),\n",
              " (2, 18.0, 8, 318.0, '150', 3436, 11.0, 70, 1, 'plymouth satellite'),\n",
              " (3, 16.0, 8, 304.0, '150', 3433, 12.0, 70, 1, 'amc rebel sst'),\n",
              " (4, 17.0, 8, 302.0, '140', 3449, 10.5, 70, 1, 'ford torino'),\n",
              " (5, 15.0, 8, 429.0, '198', 4341, 10.0, 70, 1, 'ford galaxie 500'),\n",
              " (6, 14.0, 8, 454.0, '220', 4354, 9.0, 70, 1, 'chevrolet impala'),\n",
              " (7, 14.0, 8, 440.0, '215', 4312, 8.5, 70, 1, 'plymouth fury iii'),\n",
              " (8, 14.0, 8, 455.0, '225', 4425, 10.0, 70, 1, 'pontiac catalina'),\n",
              " (9, 15.0, 8, 390.0, '190', 3850, 8.5, 70, 1, 'amc ambassador dpl'),\n",
              " (10, 15.0, 8, 383.0, '170', 3563, 10.0, 70, 1, 'dodge challenger se'),\n",
              " (11, 14.0, 8, 340.0, '160', 3609, 8.0, 70, 1, \"plymouth 'cuda 340\"),\n",
              " (12, 15.0, 8, 400.0, '150', 3761, 9.5, 70, 1, 'chevrolet monte carlo'),\n",
              " (13, 14.0, 8, 455.0, '225', 3086, 10.0, 70, 1, 'buick estate wagon (sw)'),\n",
              " (14, 24.0, 4, 113.0, '95', 2372, 15.0, 70, 3, 'toyota corona mark ii'),\n",
              " (15, 22.0, 6, 198.0, '95', 2833, 15.5, 70, 1, 'plymouth duster'),\n",
              " (16, 18.0, 6, 199.0, '97', 2774, 15.5, 70, 1, 'amc hornet'),\n",
              " (17, 21.0, 6, 200.0, '85', 2587, 16.0, 70, 1, 'ford maverick'),\n",
              " (18, 27.0, 4, 97.0, '88', 2130, 14.5, 70, 3, 'datsun pl510'),\n",
              " (19, 26.0, 4, 97.0, '46', 1835, 20.5, 70, 2, 'volkswagen 1131 deluxe sedan'),\n",
              " (20, 25.0, 4, 110.0, '87', 2672, 17.5, 70, 2, 'peugeot 504'),\n",
              " (21, 24.0, 4, 107.0, '90', 2430, 14.5, 70, 2, 'audi 100 ls'),\n",
              " (22, 25.0, 4, 104.0, '95', 2375, 17.5, 70, 2, 'saab 99e'),\n",
              " (23, 26.0, 4, 121.0, '113', 2234, 12.5, 70, 2, 'bmw 2002'),\n",
              " (24, 21.0, 6, 199.0, '90', 2648, 15.0, 70, 1, 'amc gremlin'),\n",
              " (25, 10.0, 8, 360.0, '215', 4615, 14.0, 70, 1, 'ford f250'),\n",
              " (26, 10.0, 8, 307.0, '200', 4376, 15.0, 70, 1, 'chevy c20'),\n",
              " (27, 11.0, 8, 318.0, '210', 4382, 13.5, 70, 1, 'dodge d200'),\n",
              " (28, 9.0, 8, 304.0, '193', 4732, 18.5, 70, 1, 'hi 1200d'),\n",
              " (29, 27.0, 4, 97.0, '88', 2130, 14.5, 71, 3, 'datsun pl510'),\n",
              " (30, 28.0, 4, 140.0, '90', 2264, 15.5, 71, 1, 'chevrolet vega 2300'),\n",
              " (31, 25.0, 4, 113.0, '95', 2228, 14.0, 71, 3, 'toyota corona'),\n",
              " (32, 25.0, 4, 98.0, '?', 2046, 19.0, 71, 1, 'ford pinto'),\n",
              " (33, 19.0, 6, 232.0, '100', 2634, 13.0, 71, 1, 'amc gremlin'),\n",
              " (34, 16.0, 6, 225.0, '105', 3439, 15.5, 71, 1, 'plymouth satellite custom'),\n",
              " (35, 17.0, 6, 250.0, '100', 3329, 15.5, 71, 1, 'chevrolet chevelle malibu'),\n",
              " (36, 19.0, 6, 250.0, '88', 3302, 15.5, 71, 1, 'ford torino 500'),\n",
              " (37, 18.0, 6, 232.0, '100', 3288, 15.5, 71, 1, 'amc matador'),\n",
              " (38, 14.0, 8, 350.0, '165', 4209, 12.0, 71, 1, 'chevrolet impala'),\n",
              " (39, 14.0, 8, 400.0, '175', 4464, 11.5, 71, 1, 'pontiac catalina brougham'),\n",
              " (40, 14.0, 8, 351.0, '153', 4154, 13.5, 71, 1, 'ford galaxie 500'),\n",
              " (41, 14.0, 8, 318.0, '150', 4096, 13.0, 71, 1, 'plymouth fury iii'),\n",
              " (42, 12.0, 8, 383.0, '180', 4955, 11.5, 71, 1, 'dodge monaco (sw)'),\n",
              " (43, 13.0, 8, 400.0, '170', 4746, 12.0, 71, 1, 'ford country squire (sw)'),\n",
              " (44, 13.0, 8, 400.0, '175', 5140, 12.0, 71, 1, 'pontiac safari (sw)'),\n",
              " (45, 18.0, 6, 258.0, '110', 2962, 13.5, 71, 1, 'amc hornet sportabout (sw)'),\n",
              " (46, 22.0, 4, 140.0, '72', 2408, 19.0, 71, 1, 'chevrolet vega (sw)'),\n",
              " (47, 19.0, 6, 250.0, '100', 3282, 15.0, 71, 1, 'pontiac firebird'),\n",
              " (48, 18.0, 6, 250.0, '88', 3139, 14.5, 71, 1, 'ford mustang'),\n",
              " (49, 23.0, 4, 122.0, '86', 2220, 14.0, 71, 1, 'mercury capri 2000'),\n",
              " (50, 28.0, 4, 116.0, '90', 2123, 14.0, 71, 2, 'opel 1900'),\n",
              " (51, 30.0, 4, 79.0, '70', 2074, 19.5, 71, 2, 'peugeot 304'),\n",
              " (52, 30.0, 4, 88.0, '76', 2065, 14.5, 71, 2, 'fiat 124b'),\n",
              " (53, 31.0, 4, 71.0, '65', 1773, 19.0, 71, 3, 'toyota corolla 1200'),\n",
              " (54, 35.0, 4, 72.0, '69', 1613, 18.0, 71, 3, 'datsun 1200'),\n",
              " (55, 27.0, 4, 97.0, '60', 1834, 19.0, 71, 2, 'volkswagen model 111'),\n",
              " (56, 26.0, 4, 91.0, '70', 1955, 20.5, 71, 1, 'plymouth cricket'),\n",
              " (57, 24.0, 4, 113.0, '95', 2278, 15.5, 72, 3, 'toyota corona hardtop'),\n",
              " (58, 25.0, 4, 97.5, '80', 2126, 17.0, 72, 1, 'dodge colt hardtop'),\n",
              " (59, 23.0, 4, 97.0, '54', 2254, 23.5, 72, 2, 'volkswagen type 3'),\n",
              " (60, 20.0, 4, 140.0, '90', 2408, 19.5, 72, 1, 'chevrolet vega'),\n",
              " (61, 21.0, 4, 122.0, '86', 2226, 16.5, 72, 1, 'ford pinto runabout'),\n",
              " (62, 13.0, 8, 350.0, '165', 4274, 12.0, 72, 1, 'chevrolet impala'),\n",
              " (63, 14.0, 8, 400.0, '175', 4385, 12.0, 72, 1, 'pontiac catalina'),\n",
              " (64, 15.0, 8, 318.0, '150', 4135, 13.5, 72, 1, 'plymouth fury iii'),\n",
              " (65, 14.0, 8, 351.0, '153', 4129, 13.0, 72, 1, 'ford galaxie 500'),\n",
              " (66, 17.0, 8, 304.0, '150', 3672, 11.5, 72, 1, 'amc ambassador sst'),\n",
              " (67, 11.0, 8, 429.0, '208', 4633, 11.0, 72, 1, 'mercury marquis'),\n",
              " (68, 13.0, 8, 350.0, '155', 4502, 13.5, 72, 1, 'buick lesabre custom'),\n",
              " (69, 12.0, 8, 350.0, '160', 4456, 13.5, 72, 1, 'oldsmobile delta 88 royale'),\n",
              " (70, 13.0, 8, 400.0, '190', 4422, 12.5, 72, 1, 'chrysler newport royal'),\n",
              " (71, 19.0, 3, 70.0, '97', 2330, 13.5, 72, 3, 'mazda rx2 coupe'),\n",
              " (72, 15.0, 8, 304.0, '150', 3892, 12.5, 72, 1, 'amc matador (sw)'),\n",
              " (73, 13.0, 8, 307.0, '130', 4098, 14.0, 72, 1, 'chevrolet chevelle concours (sw)'),\n",
              " (74, 13.0, 8, 302.0, '140', 4294, 16.0, 72, 1, 'ford gran torino (sw)'),\n",
              " (75, 14.0, 8, 318.0, '150', 4077, 14.0, 72, 1, 'plymouth satellite custom (sw)'),\n",
              " (76, 18.0, 4, 121.0, '112', 2933, 14.5, 72, 2, 'volvo 145e (sw)'),\n",
              " (77, 22.0, 4, 121.0, '76', 2511, 18.0, 72, 2, 'volkswagen 411 (sw)'),\n",
              " (78, 21.0, 4, 120.0, '87', 2979, 19.5, 72, 2, 'peugeot 504 (sw)'),\n",
              " (79, 26.0, 4, 96.0, '69', 2189, 18.0, 72, 2, 'renault 12 (sw)'),\n",
              " (80, 22.0, 4, 122.0, '86', 2395, 16.0, 72, 1, 'ford pinto (sw)'),\n",
              " (81, 28.0, 4, 97.0, '92', 2288, 17.0, 72, 3, 'datsun 510 (sw)'),\n",
              " (82, 23.0, 4, 120.0, '97', 2506, 14.5, 72, 3, 'toyouta corona mark ii (sw)'),\n",
              " (83, 28.0, 4, 98.0, '80', 2164, 15.0, 72, 1, 'dodge colt (sw)'),\n",
              " (84, 27.0, 4, 97.0, '88', 2100, 16.5, 72, 3, 'toyota corolla 1600 (sw)'),\n",
              " (85, 13.0, 8, 350.0, '175', 4100, 13.0, 73, 1, 'buick century 350'),\n",
              " (86, 14.0, 8, 304.0, '150', 3672, 11.5, 73, 1, 'amc matador'),\n",
              " (87, 13.0, 8, 350.0, '145', 3988, 13.0, 73, 1, 'chevrolet malibu'),\n",
              " (88, 14.0, 8, 302.0, '137', 4042, 14.5, 73, 1, 'ford gran torino'),\n",
              " (89, 15.0, 8, 318.0, '150', 3777, 12.5, 73, 1, 'dodge coronet custom'),\n",
              " (90, 12.0, 8, 429.0, '198', 4952, 11.5, 73, 1, 'mercury marquis brougham'),\n",
              " (91, 13.0, 8, 400.0, '150', 4464, 12.0, 73, 1, 'chevrolet caprice classic'),\n",
              " (92, 13.0, 8, 351.0, '158', 4363, 13.0, 73, 1, 'ford ltd'),\n",
              " (93, 14.0, 8, 318.0, '150', 4237, 14.5, 73, 1, 'plymouth fury gran sedan'),\n",
              " (94, 13.0, 8, 440.0, '215', 4735, 11.0, 73, 1, 'chrysler new yorker brougham'),\n",
              " (95, 12.0, 8, 455.0, '225', 4951, 11.0, 73, 1, 'buick electra 225 custom'),\n",
              " (96, 13.0, 8, 360.0, '175', 3821, 11.0, 73, 1, 'amc ambassador brougham'),\n",
              " (97, 18.0, 6, 225.0, '105', 3121, 16.5, 73, 1, 'plymouth valiant'),\n",
              " (98, 16.0, 6, 250.0, '100', 3278, 18.0, 73, 1, 'chevrolet nova custom'),\n",
              " (99, 18.0, 6, 232.0, '100', 2945, 16.0, 73, 1, 'amc hornet'),\n",
              " (100, 18.0, 6, 250.0, '88', 3021, 16.5, 73, 1, 'ford maverick'),\n",
              " (101, 23.0, 6, 198.0, '95', 2904, 16.0, 73, 1, 'plymouth duster'),\n",
              " (102, 26.0, 4, 97.0, '46', 1950, 21.0, 73, 2, 'volkswagen super beetle'),\n",
              " (103, 11.0, 8, 400.0, '150', 4997, 14.0, 73, 1, 'chevrolet impala'),\n",
              " (104, 12.0, 8, 400.0, '167', 4906, 12.5, 73, 1, 'ford country'),\n",
              " (105, 13.0, 8, 360.0, '170', 4654, 13.0, 73, 1, 'plymouth custom suburb'),\n",
              " (106, 12.0, 8, 350.0, '180', 4499, 12.5, 73, 1, 'oldsmobile vista cruiser'),\n",
              " (107, 18.0, 6, 232.0, '100', 2789, 15.0, 73, 1, 'amc gremlin'),\n",
              " (108, 20.0, 4, 97.0, '88', 2279, 19.0, 73, 3, 'toyota carina'),\n",
              " (109, 21.0, 4, 140.0, '72', 2401, 19.5, 73, 1, 'chevrolet vega'),\n",
              " (110, 22.0, 4, 108.0, '94', 2379, 16.5, 73, 3, 'datsun 610'),\n",
              " (111, 18.0, 3, 70.0, '90', 2124, 13.5, 73, 3, 'maxda rx3'),\n",
              " (112, 19.0, 4, 122.0, '85', 2310, 18.5, 73, 1, 'ford pinto'),\n",
              " (113, 21.0, 6, 155.0, '107', 2472, 14.0, 73, 1, 'mercury capri v6'),\n",
              " (114, 26.0, 4, 98.0, '90', 2265, 15.5, 73, 2, 'fiat 124 sport coupe'),\n",
              " (115, 15.0, 8, 350.0, '145', 4082, 13.0, 73, 1, 'chevrolet monte carlo s'),\n",
              " (116, 16.0, 8, 400.0, '230', 4278, 9.5, 73, 1, 'pontiac grand prix'),\n",
              " (117, 29.0, 4, 68.0, '49', 1867, 19.5, 73, 2, 'fiat 128'),\n",
              " (118, 24.0, 4, 116.0, '75', 2158, 15.5, 73, 2, 'opel manta'),\n",
              " (119, 20.0, 4, 114.0, '91', 2582, 14.0, 73, 2, 'audi 100ls'),\n",
              " (120, 19.0, 4, 121.0, '112', 2868, 15.5, 73, 2, 'volvo 144ea'),\n",
              " (121, 15.0, 8, 318.0, '150', 3399, 11.0, 73, 1, 'dodge dart custom'),\n",
              " (122, 24.0, 4, 121.0, '110', 2660, 14.0, 73, 2, 'saab 99le'),\n",
              " (123, 20.0, 6, 156.0, '122', 2807, 13.5, 73, 3, 'toyota mark ii'),\n",
              " (124, 11.0, 8, 350.0, '180', 3664, 11.0, 73, 1, 'oldsmobile omega'),\n",
              " (125, 20.0, 6, 198.0, '95', 3102, 16.5, 74, 1, 'plymouth duster'),\n",
              " (126, 21.0, 6, 200.0, '?', 2875, 17.0, 74, 1, 'ford maverick'),\n",
              " (127, 19.0, 6, 232.0, '100', 2901, 16.0, 74, 1, 'amc hornet'),\n",
              " (128, 15.0, 6, 250.0, '100', 3336, 17.0, 74, 1, 'chevrolet nova'),\n",
              " (129, 31.0, 4, 79.0, '67', 1950, 19.0, 74, 3, 'datsun b210'),\n",
              " (130, 26.0, 4, 122.0, '80', 2451, 16.5, 74, 1, 'ford pinto'),\n",
              " (131, 32.0, 4, 71.0, '65', 1836, 21.0, 74, 3, 'toyota corolla 1200'),\n",
              " (132, 25.0, 4, 140.0, '75', 2542, 17.0, 74, 1, 'chevrolet vega'),\n",
              " (133, 16.0, 6, 250.0, '100', 3781, 17.0, 74, 1, 'chevrolet chevelle malibu classic'),\n",
              " (134, 16.0, 6, 258.0, '110', 3632, 18.0, 74, 1, 'amc matador'),\n",
              " (135, 18.0, 6, 225.0, '105', 3613, 16.5, 74, 1, 'plymouth satellite sebring'),\n",
              " (136, 16.0, 8, 302.0, '140', 4141, 14.0, 74, 1, 'ford gran torino'),\n",
              " (137, 13.0, 8, 350.0, '150', 4699, 14.5, 74, 1, 'buick century luxus (sw)'),\n",
              " (138, 14.0, 8, 318.0, '150', 4457, 13.5, 74, 1, 'dodge coronet custom (sw)'),\n",
              " (139, 14.0, 8, 302.0, '140', 4638, 16.0, 74, 1, 'ford gran torino (sw)'),\n",
              " (140, 14.0, 8, 304.0, '150', 4257, 15.5, 74, 1, 'amc matador (sw)'),\n",
              " (141, 29.0, 4, 98.0, '83', 2219, 16.5, 74, 2, 'audi fox'),\n",
              " (142, 26.0, 4, 79.0, '67', 1963, 15.5, 74, 2, 'volkswagen dasher'),\n",
              " (143, 26.0, 4, 97.0, '78', 2300, 14.5, 74, 2, 'opel manta'),\n",
              " (144, 31.0, 4, 76.0, '52', 1649, 16.5, 74, 3, 'toyota corona'),\n",
              " (145, 32.0, 4, 83.0, '61', 2003, 19.0, 74, 3, 'datsun 710'),\n",
              " (146, 28.0, 4, 90.0, '75', 2125, 14.5, 74, 1, 'dodge colt'),\n",
              " (147, 24.0, 4, 90.0, '75', 2108, 15.5, 74, 2, 'fiat 128'),\n",
              " (148, 26.0, 4, 116.0, '75', 2246, 14.0, 74, 2, 'fiat 124 tc'),\n",
              " (149, 24.0, 4, 120.0, '97', 2489, 15.0, 74, 3, 'honda civic'),\n",
              " (150, 26.0, 4, 108.0, '93', 2391, 15.5, 74, 3, 'subaru'),\n",
              " (151, 31.0, 4, 79.0, '67', 2000, 16.0, 74, 2, 'fiat x1.9'),\n",
              " (152, 19.0, 6, 225.0, '95', 3264, 16.0, 75, 1, 'plymouth valiant custom'),\n",
              " (153, 18.0, 6, 250.0, '105', 3459, 16.0, 75, 1, 'chevrolet nova'),\n",
              " (154, 15.0, 6, 250.0, '72', 3432, 21.0, 75, 1, 'mercury monarch'),\n",
              " (155, 15.0, 6, 250.0, '72', 3158, 19.5, 75, 1, 'ford maverick'),\n",
              " (156, 16.0, 8, 400.0, '170', 4668, 11.5, 75, 1, 'pontiac catalina'),\n",
              " (157, 15.0, 8, 350.0, '145', 4440, 14.0, 75, 1, 'chevrolet bel air'),\n",
              " (158, 16.0, 8, 318.0, '150', 4498, 14.5, 75, 1, 'plymouth grand fury'),\n",
              " (159, 14.0, 8, 351.0, '148', 4657, 13.5, 75, 1, 'ford ltd'),\n",
              " (160, 17.0, 6, 231.0, '110', 3907, 21.0, 75, 1, 'buick century'),\n",
              " (161, 16.0, 6, 250.0, '105', 3897, 18.5, 75, 1, 'chevroelt chevelle malibu'),\n",
              " (162, 15.0, 6, 258.0, '110', 3730, 19.0, 75, 1, 'amc matador'),\n",
              " (163, 18.0, 6, 225.0, '95', 3785, 19.0, 75, 1, 'plymouth fury'),\n",
              " (164, 21.0, 6, 231.0, '110', 3039, 15.0, 75, 1, 'buick skyhawk'),\n",
              " (165, 20.0, 8, 262.0, '110', 3221, 13.5, 75, 1, 'chevrolet monza 2+2'),\n",
              " (166, 13.0, 8, 302.0, '129', 3169, 12.0, 75, 1, 'ford mustang ii'),\n",
              " (167, 29.0, 4, 97.0, '75', 2171, 16.0, 75, 3, 'toyota corolla'),\n",
              " (168, 23.0, 4, 140.0, '83', 2639, 17.0, 75, 1, 'ford pinto'),\n",
              " (169, 20.0, 6, 232.0, '100', 2914, 16.0, 75, 1, 'amc gremlin'),\n",
              " (170, 23.0, 4, 140.0, '78', 2592, 18.5, 75, 1, 'pontiac astro'),\n",
              " (171, 24.0, 4, 134.0, '96', 2702, 13.5, 75, 3, 'toyota corona'),\n",
              " (172, 25.0, 4, 90.0, '71', 2223, 16.5, 75, 2, 'volkswagen dasher'),\n",
              " (173, 24.0, 4, 119.0, '97', 2545, 17.0, 75, 3, 'datsun 710'),\n",
              " (174, 18.0, 6, 171.0, '97', 2984, 14.5, 75, 1, 'ford pinto'),\n",
              " (175, 29.0, 4, 90.0, '70', 1937, 14.0, 75, 2, 'volkswagen rabbit'),\n",
              " (176, 19.0, 6, 232.0, '90', 3211, 17.0, 75, 1, 'amc pacer'),\n",
              " (177, 23.0, 4, 115.0, '95', 2694, 15.0, 75, 2, 'audi 100ls'),\n",
              " (178, 23.0, 4, 120.0, '88', 2957, 17.0, 75, 2, 'peugeot 504'),\n",
              " (179, 22.0, 4, 121.0, '98', 2945, 14.5, 75, 2, 'volvo 244dl'),\n",
              " (180, 25.0, 4, 121.0, '115', 2671, 13.5, 75, 2, 'saab 99le'),\n",
              " (181, 33.0, 4, 91.0, '53', 1795, 17.5, 75, 3, 'honda civic cvcc'),\n",
              " (182, 28.0, 4, 107.0, '86', 2464, 15.5, 76, 2, 'fiat 131'),\n",
              " (183, 25.0, 4, 116.0, '81', 2220, 16.9, 76, 2, 'opel 1900'),\n",
              " (184, 25.0, 4, 140.0, '92', 2572, 14.9, 76, 1, 'capri ii'),\n",
              " (185, 26.0, 4, 98.0, '79', 2255, 17.7, 76, 1, 'dodge colt'),\n",
              " (186, 27.0, 4, 101.0, '83', 2202, 15.3, 76, 2, 'renault 12tl'),\n",
              " (187, 17.5, 8, 305.0, '140', 4215, 13.0, 76, 1, 'chevrolet chevelle malibu classic'),\n",
              " (188, 16.0, 8, 318.0, '150', 4190, 13.0, 76, 1, 'dodge coronet brougham'),\n",
              " (189, 15.5, 8, 304.0, '120', 3962, 13.9, 76, 1, 'amc matador'),\n",
              " (190, 14.5, 8, 351.0, '152', 4215, 12.8, 76, 1, 'ford gran torino'),\n",
              " (191, 22.0, 6, 225.0, '100', 3233, 15.4, 76, 1, 'plymouth valiant'),\n",
              " (192, 22.0, 6, 250.0, '105', 3353, 14.5, 76, 1, 'chevrolet nova'),\n",
              " (193, 24.0, 6, 200.0, '81', 3012, 17.6, 76, 1, 'ford maverick'),\n",
              " (194, 22.5, 6, 232.0, '90', 3085, 17.6, 76, 1, 'amc hornet'),\n",
              " (195, 29.0, 4, 85.0, '52', 2035, 22.2, 76, 1, 'chevrolet chevette'),\n",
              " (196, 24.5, 4, 98.0, '60', 2164, 22.1, 76, 1, 'chevrolet woody'),\n",
              " (197, 29.0, 4, 90.0, '70', 1937, 14.2, 76, 2, 'vw rabbit'),\n",
              " (198, 33.0, 4, 91.0, '53', 1795, 17.4, 76, 3, 'honda civic'),\n",
              " (199, 20.0, 6, 225.0, '100', 3651, 17.7, 76, 1, 'dodge aspen se'),\n",
              " (200, 18.0, 6, 250.0, '78', 3574, 21.0, 76, 1, 'ford granada ghia'),\n",
              " (201, 18.5, 6, 250.0, '110', 3645, 16.2, 76, 1, 'pontiac ventura sj'),\n",
              " (202, 17.5, 6, 258.0, '95', 3193, 17.8, 76, 1, 'amc pacer d/l'),\n",
              " (203, 29.5, 4, 97.0, '71', 1825, 12.2, 76, 2, 'volkswagen rabbit'),\n",
              " (204, 32.0, 4, 85.0, '70', 1990, 17.0, 76, 3, 'datsun b-210'),\n",
              " (205, 28.0, 4, 97.0, '75', 2155, 16.4, 76, 3, 'toyota corolla'),\n",
              " (206, 26.5, 4, 140.0, '72', 2565, 13.6, 76, 1, 'ford pinto'),\n",
              " (207, 20.0, 4, 130.0, '102', 3150, 15.7, 76, 2, 'volvo 245'),\n",
              " (208, 13.0, 8, 318.0, '150', 3940, 13.2, 76, 1, 'plymouth volare premier v8'),\n",
              " (209, 19.0, 4, 120.0, '88', 3270, 21.9, 76, 2, 'peugeot 504'),\n",
              " (210, 19.0, 6, 156.0, '108', 2930, 15.5, 76, 3, 'toyota mark ii'),\n",
              " (211, 16.5, 6, 168.0, '120', 3820, 16.7, 76, 2, 'mercedes-benz 280s'),\n",
              " (212, 16.5, 8, 350.0, '180', 4380, 12.1, 76, 1, 'cadillac seville'),\n",
              " (213, 13.0, 8, 350.0, '145', 4055, 12.0, 76, 1, 'chevy c10'),\n",
              " (214, 13.0, 8, 302.0, '130', 3870, 15.0, 76, 1, 'ford f108'),\n",
              " (215, 13.0, 8, 318.0, '150', 3755, 14.0, 76, 1, 'dodge d100'),\n",
              " (216, 31.5, 4, 98.0, '68', 2045, 18.5, 77, 3, 'honda accord cvcc'),\n",
              " (217, 30.0, 4, 111.0, '80', 2155, 14.8, 77, 1, 'buick opel isuzu deluxe'),\n",
              " (218, 36.0, 4, 79.0, '58', 1825, 18.6, 77, 2, 'renault 5 gtl'),\n",
              " (219, 25.5, 4, 122.0, '96', 2300, 15.5, 77, 1, 'plymouth arrow gs'),\n",
              " (220, 33.5, 4, 85.0, '70', 1945, 16.8, 77, 3, 'datsun f-10 hatchback'),\n",
              " (221, 17.5, 8, 305.0, '145', 3880, 12.5, 77, 1, 'chevrolet caprice classic'),\n",
              " (222, 17.0, 8, 260.0, '110', 4060, 19.0, 77, 1, 'oldsmobile cutlass supreme'),\n",
              " (223, 15.5, 8, 318.0, '145', 4140, 13.7, 77, 1, 'dodge monaco brougham'),\n",
              " (224, 15.0, 8, 302.0, '130', 4295, 14.9, 77, 1, 'mercury cougar brougham'),\n",
              " (225, 17.5, 6, 250.0, '110', 3520, 16.4, 77, 1, 'chevrolet concours'),\n",
              " (226, 20.5, 6, 231.0, '105', 3425, 16.9, 77, 1, 'buick skylark'),\n",
              " (227, 19.0, 6, 225.0, '100', 3630, 17.7, 77, 1, 'plymouth volare custom'),\n",
              " (228, 18.5, 6, 250.0, '98', 3525, 19.0, 77, 1, 'ford granada'),\n",
              " (229, 16.0, 8, 400.0, '180', 4220, 11.1, 77, 1, 'pontiac grand prix lj'),\n",
              " (230, 15.5, 8, 350.0, '170', 4165, 11.4, 77, 1, 'chevrolet monte carlo landau'),\n",
              " (231, 15.5, 8, 400.0, '190', 4325, 12.2, 77, 1, 'chrysler cordoba'),\n",
              " (232, 16.0, 8, 351.0, '149', 4335, 14.5, 77, 1, 'ford thunderbird'),\n",
              " (233, 29.0, 4, 97.0, '78', 1940, 14.5, 77, 2, 'volkswagen rabbit custom'),\n",
              " (234, 24.5, 4, 151.0, '88', 2740, 16.0, 77, 1, 'pontiac sunbird coupe'),\n",
              " (235, 26.0, 4, 97.0, '75', 2265, 18.2, 77, 3, 'toyota corolla liftback'),\n",
              " (236, 25.5, 4, 140.0, '89', 2755, 15.8, 77, 1, 'ford mustang ii 2+2'),\n",
              " (237, 30.5, 4, 98.0, '63', 2051, 17.0, 77, 1, 'chevrolet chevette'),\n",
              " (238, 33.5, 4, 98.0, '83', 2075, 15.9, 77, 1, 'dodge colt m/m'),\n",
              " (239, 30.0, 4, 97.0, '67', 1985, 16.4, 77, 3, 'subaru dl'),\n",
              " (240, 30.5, 4, 97.0, '78', 2190, 14.1, 77, 2, 'volkswagen dasher'),\n",
              " (241, 22.0, 6, 146.0, '97', 2815, 14.5, 77, 3, 'datsun 810'),\n",
              " (242, 21.5, 4, 121.0, '110', 2600, 12.8, 77, 2, 'bmw 320i'),\n",
              " (243, 21.5, 3, 80.0, '110', 2720, 13.5, 77, 3, 'mazda rx-4'),\n",
              " (244, 43.1, 4, 90.0, '48', 1985, 21.5, 78, 2, 'volkswagen rabbit custom diesel'),\n",
              " (245, 36.1, 4, 98.0, '66', 1800, 14.4, 78, 1, 'ford fiesta'),\n",
              " (246, 32.8, 4, 78.0, '52', 1985, 19.4, 78, 3, 'mazda glc deluxe'),\n",
              " (247, 39.4, 4, 85.0, '70', 2070, 18.6, 78, 3, 'datsun b210 gx'),\n",
              " (248, 36.1, 4, 91.0, '60', 1800, 16.4, 78, 3, 'honda civic cvcc'),\n",
              " (249, 19.9, 8, 260.0, '110', 3365, 15.5, 78, 1, 'oldsmobile cutlass salon brougham'),\n",
              " (250, 19.4, 8, 318.0, '140', 3735, 13.2, 78, 1, 'dodge diplomat'),\n",
              " (251, 20.2, 8, 302.0, '139', 3570, 12.8, 78, 1, 'mercury monarch ghia'),\n",
              " (252, 19.2, 6, 231.0, '105', 3535, 19.2, 78, 1, 'pontiac phoenix lj'),\n",
              " (253, 20.5, 6, 200.0, '95', 3155, 18.2, 78, 1, 'chevrolet malibu'),\n",
              " (254, 20.2, 6, 200.0, '85', 2965, 15.8, 78, 1, 'ford fairmont (auto)'),\n",
              " (255, 25.1, 4, 140.0, '88', 2720, 15.4, 78, 1, 'ford fairmont (man)'),\n",
              " (256, 20.5, 6, 225.0, '100', 3430, 17.2, 78, 1, 'plymouth volare'),\n",
              " (257, 19.4, 6, 232.0, '90', 3210, 17.2, 78, 1, 'amc concord'),\n",
              " (258, 20.6, 6, 231.0, '105', 3380, 15.8, 78, 1, 'buick century special'),\n",
              " (259, 20.8, 6, 200.0, '85', 3070, 16.7, 78, 1, 'mercury zephyr'),\n",
              " (260, 18.6, 6, 225.0, '110', 3620, 18.7, 78, 1, 'dodge aspen'),\n",
              " (261, 18.1, 6, 258.0, '120', 3410, 15.1, 78, 1, 'amc concord d/l'),\n",
              " (262, 19.2, 8, 305.0, '145', 3425, 13.2, 78, 1, 'chevrolet monte carlo landau'),\n",
              " (263, 17.7, 6, 231.0, '165', 3445, 13.4, 78, 1, 'buick regal sport coupe (turbo)'),\n",
              " (264, 18.1, 8, 302.0, '139', 3205, 11.2, 78, 1, 'ford futura'),\n",
              " (265, 17.5, 8, 318.0, '140', 4080, 13.7, 78, 1, 'dodge magnum xe'),\n",
              " (266, 30.0, 4, 98.0, '68', 2155, 16.5, 78, 1, 'chevrolet chevette'),\n",
              " (267, 27.5, 4, 134.0, '95', 2560, 14.2, 78, 3, 'toyota corona'),\n",
              " (268, 27.2, 4, 119.0, '97', 2300, 14.7, 78, 3, 'datsun 510'),\n",
              " (269, 30.9, 4, 105.0, '75', 2230, 14.5, 78, 1, 'dodge omni'),\n",
              " (270, 21.1, 4, 134.0, '95', 2515, 14.8, 78, 3, 'toyota celica gt liftback'),\n",
              " (271, 23.2, 4, 156.0, '105', 2745, 16.7, 78, 1, 'plymouth sapporo'),\n",
              " (272, 23.8, 4, 151.0, '85', 2855, 17.6, 78, 1, 'oldsmobile starfire sx'),\n",
              " (273, 23.9, 4, 119.0, '97', 2405, 14.9, 78, 3, 'datsun 200-sx'),\n",
              " (274, 20.3, 5, 131.0, '103', 2830, 15.9, 78, 2, 'audi 5000'),\n",
              " (275, 17.0, 6, 163.0, '125', 3140, 13.6, 78, 2, 'volvo 264gl'),\n",
              " (276, 21.6, 4, 121.0, '115', 2795, 15.7, 78, 2, 'saab 99gle'),\n",
              " (277, 16.2, 6, 163.0, '133', 3410, 15.8, 78, 2, 'peugeot 604sl'),\n",
              " (278, 31.5, 4, 89.0, '71', 1990, 14.9, 78, 2, 'volkswagen scirocco'),\n",
              " (279, 29.5, 4, 98.0, '68', 2135, 16.6, 78, 3, 'honda accord lx'),\n",
              " (280, 21.5, 6, 231.0, '115', 3245, 15.4, 79, 1, 'pontiac lemans v6'),\n",
              " (281, 19.8, 6, 200.0, '85', 2990, 18.2, 79, 1, 'mercury zephyr 6'),\n",
              " (282, 22.3, 4, 140.0, '88', 2890, 17.3, 79, 1, 'ford fairmont 4'),\n",
              " (283, 20.2, 6, 232.0, '90', 3265, 18.2, 79, 1, 'amc concord dl 6'),\n",
              " (284, 20.6, 6, 225.0, '110', 3360, 16.6, 79, 1, 'dodge aspen 6'),\n",
              " (285, 17.0, 8, 305.0, '130', 3840, 15.4, 79, 1, 'chevrolet caprice classic'),\n",
              " (286, 17.6, 8, 302.0, '129', 3725, 13.4, 79, 1, 'ford ltd landau'),\n",
              " (287, 16.5, 8, 351.0, '138', 3955, 13.2, 79, 1, 'mercury grand marquis'),\n",
              " (288, 18.2, 8, 318.0, '135', 3830, 15.2, 79, 1, 'dodge st. regis'),\n",
              " (289, 16.9, 8, 350.0, '155', 4360, 14.9, 79, 1, 'buick estate wagon (sw)'),\n",
              " (290, 15.5, 8, 351.0, '142', 4054, 14.3, 79, 1, 'ford country squire (sw)'),\n",
              " (291, 19.2, 8, 267.0, '125', 3605, 15.0, 79, 1, 'chevrolet malibu classic (sw)'),\n",
              " (292, 18.5, 8, 360.0, '150', 3940, 13.0, 79, 1, 'chrysler lebaron town @ country (sw)'),\n",
              " (293, 31.9, 4, 89.0, '71', 1925, 14.0, 79, 2, 'vw rabbit custom'),\n",
              " (294, 34.1, 4, 86.0, '65', 1975, 15.2, 79, 3, 'maxda glc deluxe'),\n",
              " (295, 35.7, 4, 98.0, '80', 1915, 14.4, 79, 1, 'dodge colt hatchback custom'),\n",
              " (296, 27.4, 4, 121.0, '80', 2670, 15.0, 79, 1, 'amc spirit dl'),\n",
              " (297, 25.4, 5, 183.0, '77', 3530, 20.1, 79, 2, 'mercedes benz 300d'),\n",
              " (298, 23.0, 8, 350.0, '125', 3900, 17.4, 79, 1, 'cadillac eldorado'),\n",
              " (299, 27.2, 4, 141.0, '71', 3190, 24.8, 79, 2, 'peugeot 504'),\n",
              " (300, 23.9, 8, 260.0, '90', 3420, 22.2, 79, 1, 'oldsmobile cutlass salon brougham'),\n",
              " (301, 34.2, 4, 105.0, '70', 2200, 13.2, 79, 1, 'plymouth horizon'),\n",
              " (302, 34.5, 4, 105.0, '70', 2150, 14.9, 79, 1, 'plymouth horizon tc3'),\n",
              " (303, 31.8, 4, 85.0, '65', 2020, 19.2, 79, 3, 'datsun 210'),\n",
              " (304, 37.3, 4, 91.0, '69', 2130, 14.7, 79, 2, 'fiat strada custom'),\n",
              " (305, 28.4, 4, 151.0, '90', 2670, 16.0, 79, 1, 'buick skylark limited'),\n",
              " (306, 28.8, 6, 173.0, '115', 2595, 11.3, 79, 1, 'chevrolet citation'),\n",
              " (307, 26.8, 6, 173.0, '115', 2700, 12.9, 79, 1, 'oldsmobile omega brougham'),\n",
              " (308, 33.5, 4, 151.0, '90', 2556, 13.2, 79, 1, 'pontiac phoenix'),\n",
              " (309, 41.5, 4, 98.0, '76', 2144, 14.7, 80, 2, 'vw rabbit'),\n",
              " (310, 38.1, 4, 89.0, '60', 1968, 18.8, 80, 3, 'toyota corolla tercel'),\n",
              " (311, 32.1, 4, 98.0, '70', 2120, 15.5, 80, 1, 'chevrolet chevette'),\n",
              " (312, 37.2, 4, 86.0, '65', 2019, 16.4, 80, 3, 'datsun 310'),\n",
              " (313, 28.0, 4, 151.0, '90', 2678, 16.5, 80, 1, 'chevrolet citation'),\n",
              " (314, 26.4, 4, 140.0, '88', 2870, 18.1, 80, 1, 'ford fairmont'),\n",
              " (315, 24.3, 4, 151.0, '90', 3003, 20.1, 80, 1, 'amc concord'),\n",
              " (316, 19.1, 6, 225.0, '90', 3381, 18.7, 80, 1, 'dodge aspen'),\n",
              " (317, 34.3, 4, 97.0, '78', 2188, 15.8, 80, 2, 'audi 4000'),\n",
              " (318, 29.8, 4, 134.0, '90', 2711, 15.5, 80, 3, 'toyota corona liftback'),\n",
              " (319, 31.3, 4, 120.0, '75', 2542, 17.5, 80, 3, 'mazda 626'),\n",
              " (320, 37.0, 4, 119.0, '92', 2434, 15.0, 80, 3, 'datsun 510 hatchback'),\n",
              " (321, 32.2, 4, 108.0, '75', 2265, 15.2, 80, 3, 'toyota corolla'),\n",
              " (322, 46.6, 4, 86.0, '65', 2110, 17.9, 80, 3, 'mazda glc'),\n",
              " (323, 27.9, 4, 156.0, '105', 2800, 14.4, 80, 1, 'dodge colt'),\n",
              " (324, 40.8, 4, 85.0, '65', 2110, 19.2, 80, 3, 'datsun 210'),\n",
              " (325, 44.3, 4, 90.0, '48', 2085, 21.7, 80, 2, 'vw rabbit c (diesel)'),\n",
              " (326, 43.4, 4, 90.0, '48', 2335, 23.7, 80, 2, 'vw dasher (diesel)'),\n",
              " (327, 36.4, 5, 121.0, '67', 2950, 19.9, 80, 2, 'audi 5000s (diesel)'),\n",
              " (328, 30.0, 4, 146.0, '67', 3250, 21.8, 80, 2, 'mercedes-benz 240d'),\n",
              " (329, 44.6, 4, 91.0, '67', 1850, 13.8, 80, 3, 'honda civic 1500 gl'),\n",
              " (330, 40.9, 4, 85.0, '?', 1835, 17.3, 80, 2, 'renault lecar deluxe'),\n",
              " (331, 33.8, 4, 97.0, '67', 2145, 18.0, 80, 3, 'subaru dl'),\n",
              " (332, 29.8, 4, 89.0, '62', 1845, 15.3, 80, 2, 'vokswagen rabbit'),\n",
              " (333, 32.7, 6, 168.0, '132', 2910, 11.4, 80, 3, 'datsun 280-zx'),\n",
              " (334, 23.7, 3, 70.0, '100', 2420, 12.5, 80, 3, 'mazda rx-7 gs'),\n",
              " (335, 35.0, 4, 122.0, '88', 2500, 15.1, 80, 2, 'triumph tr7 coupe'),\n",
              " (336, 23.6, 4, 140.0, '?', 2905, 14.3, 80, 1, 'ford mustang cobra'),\n",
              " (337, 32.4, 4, 107.0, '72', 2290, 17.0, 80, 3, 'honda accord'),\n",
              " (338, 27.2, 4, 135.0, '84', 2490, 15.7, 81, 1, 'plymouth reliant'),\n",
              " (339, 26.6, 4, 151.0, '84', 2635, 16.4, 81, 1, 'buick skylark'),\n",
              " (340, 25.8, 4, 156.0, '92', 2620, 14.4, 81, 1, 'dodge aries wagon (sw)'),\n",
              " (341, 23.5, 6, 173.0, '110', 2725, 12.6, 81, 1, 'chevrolet citation'),\n",
              " (342, 30.0, 4, 135.0, '84', 2385, 12.9, 81, 1, 'plymouth reliant'),\n",
              " (343, 39.1, 4, 79.0, '58', 1755, 16.9, 81, 3, 'toyota starlet'),\n",
              " (344, 39.0, 4, 86.0, '64', 1875, 16.4, 81, 1, 'plymouth champ'),\n",
              " (345, 35.1, 4, 81.0, '60', 1760, 16.1, 81, 3, 'honda civic 1300'),\n",
              " (346, 32.3, 4, 97.0, '67', 2065, 17.8, 81, 3, 'subaru'),\n",
              " (347, 37.0, 4, 85.0, '65', 1975, 19.4, 81, 3, 'datsun 210 mpg'),\n",
              " (348, 37.7, 4, 89.0, '62', 2050, 17.3, 81, 3, 'toyota tercel'),\n",
              " (349, 34.1, 4, 91.0, '68', 1985, 16.0, 81, 3, 'mazda glc 4'),\n",
              " (350, 34.7, 4, 105.0, '63', 2215, 14.9, 81, 1, 'plymouth horizon 4'),\n",
              " (351, 34.4, 4, 98.0, '65', 2045, 16.2, 81, 1, 'ford escort 4w'),\n",
              " (352, 29.9, 4, 98.0, '65', 2380, 20.7, 81, 1, 'ford escort 2h'),\n",
              " (353, 33.0, 4, 105.0, '74', 2190, 14.2, 81, 2, 'volkswagen jetta'),\n",
              " (354, 34.5, 4, 100.0, '?', 2320, 15.8, 81, 2, 'renault 18i'),\n",
              " (355, 33.7, 4, 107.0, '75', 2210, 14.4, 81, 3, 'honda prelude'),\n",
              " (356, 32.4, 4, 108.0, '75', 2350, 16.8, 81, 3, 'toyota corolla'),\n",
              " (357, 32.9, 4, 119.0, '100', 2615, 14.8, 81, 3, 'datsun 200sx'),\n",
              " (358, 31.6, 4, 120.0, '74', 2635, 18.3, 81, 3, 'mazda 626'),\n",
              " (359, 28.1, 4, 141.0, '80', 3230, 20.4, 81, 2, 'peugeot 505s turbo diesel'),\n",
              " (360, 30.7, 6, 145.0, '76', 3160, 19.6, 81, 2, 'volvo diesel'),\n",
              " (361, 25.4, 6, 168.0, '116', 2900, 12.6, 81, 3, 'toyota cressida'),\n",
              " (362, 24.2, 6, 146.0, '120', 2930, 13.8, 81, 3, 'datsun 810 maxima'),\n",
              " (363, 22.4, 6, 231.0, '110', 3415, 15.8, 81, 1, 'buick century'),\n",
              " (364, 26.6, 8, 350.0, '105', 3725, 19.0, 81, 1, 'oldsmobile cutlass ls'),\n",
              " (365, 20.2, 6, 200.0, '88', 3060, 17.1, 81, 1, 'ford granada gl'),\n",
              " (366, 17.6, 6, 225.0, '85', 3465, 16.6, 81, 1, 'chrysler lebaron salon'),\n",
              " (367, 28.0, 4, 112.0, '88', 2605, 19.6, 82, 1, 'chevrolet cavalier'),\n",
              " (368, 27.0, 4, 112.0, '88', 2640, 18.6, 82, 1, 'chevrolet cavalier wagon'),\n",
              " (369, 34.0, 4, 112.0, '88', 2395, 18.0, 82, 1, 'chevrolet cavalier 2-door'),\n",
              " (370, 31.0, 4, 112.0, '85', 2575, 16.2, 82, 1, 'pontiac j2000 se hatchback'),\n",
              " (371, 29.0, 4, 135.0, '84', 2525, 16.0, 82, 1, 'dodge aries se'),\n",
              " (372, 27.0, 4, 151.0, '90', 2735, 18.0, 82, 1, 'pontiac phoenix'),\n",
              " (373, 24.0, 4, 140.0, '92', 2865, 16.4, 82, 1, 'ford fairmont futura'),\n",
              " (374, 36.0, 4, 105.0, '74', 1980, 15.3, 82, 2, 'volkswagen rabbit l'),\n",
              " (375, 37.0, 4, 91.0, '68', 2025, 18.2, 82, 3, 'mazda glc custom l'),\n",
              " (376, 31.0, 4, 91.0, '68', 1970, 17.6, 82, 3, 'mazda glc custom'),\n",
              " (377, 38.0, 4, 105.0, '63', 2125, 14.7, 82, 1, 'plymouth horizon miser'),\n",
              " (378, 36.0, 4, 98.0, '70', 2125, 17.3, 82, 1, 'mercury lynx l'),\n",
              " (379, 36.0, 4, 120.0, '88', 2160, 14.5, 82, 3, 'nissan stanza xe'),\n",
              " (380, 36.0, 4, 107.0, '75', 2205, 14.5, 82, 3, 'honda accord'),\n",
              " (381, 34.0, 4, 108.0, '70', 2245, 16.9, 82, 3, 'toyota corolla'),\n",
              " (382, 38.0, 4, 91.0, '67', 1965, 15.0, 82, 3, 'honda civic'),\n",
              " (383, 32.0, 4, 91.0, '67', 1965, 15.7, 82, 3, 'honda civic (auto)'),\n",
              " (384, 38.0, 4, 91.0, '67', 1995, 16.2, 82, 3, 'datsun 310 gx'),\n",
              " (385, 25.0, 6, 181.0, '110', 2945, 16.4, 82, 1, 'buick century limited'),\n",
              " (386, 38.0, 6, 262.0, '85', 3015, 17.0, 82, 1, 'oldsmobile cutlass ciera (diesel)'),\n",
              " (387, 26.0, 4, 156.0, '92', 2585, 14.5, 82, 1, 'chrysler lebaron medallion'),\n",
              " (388, 22.0, 6, 232.0, '112', 2835, 14.7, 82, 1, 'ford granada l'),\n",
              " (389, 32.0, 4, 144.0, '96', 2665, 13.9, 82, 3, 'toyota celica gt'),\n",
              " (390, 36.0, 4, 135.0, '84', 2370, 13.0, 82, 1, 'dodge charger 2.2'),\n",
              " (391, 27.0, 4, 151.0, '90', 2950, 17.3, 82, 1, 'chevrolet camaro'),\n",
              " (392, 27.0, 4, 140.0, '86', 2790, 15.6, 82, 1, 'ford mustang gl'),\n",
              " (393, 44.0, 4, 97.0, '52', 2130, 24.6, 82, 2, 'vw pickup'),\n",
              " (394, 32.0, 4, 135.0, '84', 2295, 11.6, 82, 1, 'dodge rampage'),\n",
              " (395, 28.0, 4, 120.0, '79', 2625, 18.6, 82, 1, 'ford ranger'),\n",
              " (396, 31.0, 4, 119.0, '82', 2720, 19.4, 82, 1, 'chevy s-10')]"
            ]
          },
          "metadata": {},
          "execution_count": 4
        }
      ]
    },
    {
      "cell_type": "code",
      "source": [
        "# connect and query\n",
        "with db.connect() as conn:\n",
        "  # makes connection, allows queries, and closes\n",
        "  results = conn.execute(text('SELECT AVG(mpg) FROM MPG GROUP BY origin'))\n",
        "\n",
        "results.all()"
      ],
      "metadata": {
        "colab": {
          "base_uri": "https://localhost:8080/"
        },
        "id": "uWZxLDshKh7U",
        "outputId": "4bfafea3-befa-4a6b-cda1-fa61cdf9acd4"
      },
      "execution_count": null,
      "outputs": [
        {
          "output_type": "stream",
          "name": "stdout",
          "text": [
            "2024-04-04 03:55:45,696 INFO sqlalchemy.engine.Engine BEGIN (implicit)\n"
          ]
        },
        {
          "output_type": "stream",
          "name": "stderr",
          "text": [
            "INFO:sqlalchemy.engine.Engine:BEGIN (implicit)\n"
          ]
        },
        {
          "output_type": "stream",
          "name": "stdout",
          "text": [
            "2024-04-04 03:55:45,702 INFO sqlalchemy.engine.Engine SELECT AVG(mpg) FROM MPG GROUP BY origin\n"
          ]
        },
        {
          "output_type": "stream",
          "name": "stderr",
          "text": [
            "INFO:sqlalchemy.engine.Engine:SELECT AVG(mpg) FROM MPG GROUP BY origin\n"
          ]
        },
        {
          "output_type": "stream",
          "name": "stdout",
          "text": [
            "2024-04-04 03:55:45,706 INFO sqlalchemy.engine.Engine [generated in 0.01040s] ()\n"
          ]
        },
        {
          "output_type": "stream",
          "name": "stderr",
          "text": [
            "INFO:sqlalchemy.engine.Engine:[generated in 0.01040s] ()\n"
          ]
        },
        {
          "output_type": "stream",
          "name": "stdout",
          "text": [
            "2024-04-04 03:55:45,711 INFO sqlalchemy.engine.Engine ROLLBACK\n"
          ]
        },
        {
          "output_type": "stream",
          "name": "stderr",
          "text": [
            "INFO:sqlalchemy.engine.Engine:ROLLBACK\n"
          ]
        },
        {
          "output_type": "execute_result",
          "data": {
            "text/plain": [
              "[(20.071774193548382,), (27.891428571428573,), (30.450632911392397,)]"
            ]
          },
          "metadata": {},
          "execution_count": 5
        }
      ]
    },
    {
      "cell_type": "markdown",
      "source": [
        "### Natural Language to SQL\n",
        "\n",
        "* Llama-7B\n",
        "* Llama-33B\n",
        "* MISTRAL-7B\n",
        "* Alpaca-7B\n",
        "* Llama-2-CHAT-7B\n",
        "* Llama-2-CHAT-13B\n",
        "* Vicuna-7B\n",
        "* Vicuna-33B\n",
        "* BARD-LAMDA\n",
        "* BARD-PALM2\n",
        "* GPT-3.5-turbo\n",
        "* GPT-4\n",
        "\n",
        "* https://medium.com/dataherald/comparing-open-source-llms-for-nl-to-sql-53e6de42aee8\n",
        "\n",
        "Quasi Code\n",
        "\n",
        "<pre>\n",
        "# sqlite SQL tables with properties\n",
        "\n",
        "MPG (\n",
        "\tindex BIGINT,\n",
        "\tmpg FLOAT,\n",
        "\tcylinders BIGINT,\n",
        "\tdisplacement FLOAT,\n",
        "\thorsepower TEXT,\n",
        "\tweight BIGINT,\n",
        "\tacceleration FLOAT,\n",
        "\tyear BIGINT,\n",
        "\torigin BIGINT,\n",
        "\tname TEXT\n",
        ")\n",
        "\n",
        "# Start the Query\n",
        "SELECT\n",
        "</pre>"
      ],
      "metadata": {
        "id": "7SXYwk6iL2iq"
      }
    },
    {
      "cell_type": "code",
      "source": [
        "# create helper functions\n",
        "def create_table(df):\n",
        "  prompt = '''### sqlite SQL table with fields:\n",
        "  #\n",
        "  # MPG({})\n",
        "  #\n",
        "  '''.format(','.join(str(col) for col in df.columns))\n",
        "\n",
        "  return prompt\n",
        "\n",
        "def prompt_input():\n",
        "  nlsql = input('What would you like to know?: ')\n",
        "  return nlsql\n",
        "\n",
        "def query_database(df, query):\n",
        "  table = create_table(df)\n",
        "  query = f'### A query to answer: {query}\\nSELECT'\n",
        "  return table+query"
      ],
      "metadata": {
        "id": "JikQzfBUMw9R"
      },
      "execution_count": null,
      "outputs": []
    },
    {
      "cell_type": "code",
      "source": [
        "print(create_table(df))\n",
        "print(prompt_input()) # get the average mpg for each origin"
      ],
      "metadata": {
        "colab": {
          "base_uri": "https://localhost:8080/"
        },
        "id": "0u66rqlxN-wG",
        "outputId": "fda3fece-3c6d-4de9-eb70-8d843a554aea"
      },
      "execution_count": null,
      "outputs": [
        {
          "output_type": "stream",
          "name": "stdout",
          "text": [
            "### sqlite SQL table with fields:\n",
            "  #\n",
            "  # MPG(mpg,cylinders,displacement,horsepower,weight,acceleration,year,origin,name)\n",
            "  #  \n",
            "  \n",
            "Enter the info you want:get the average mpg for each origin\n",
            "get the average mpg for each origin\n"
          ]
        }
      ]
    },
    {
      "cell_type": "code",
      "source": [
        "nltext = prompt_input()\n",
        "query_database(df, nltext)"
      ],
      "metadata": {
        "colab": {
          "base_uri": "https://localhost:8080/",
          "height": 70
        },
        "id": "66B_U2OJRUpi",
        "outputId": "4d7d20e6-f435-453d-d02e-ea7781dbe012"
      },
      "execution_count": null,
      "outputs": [
        {
          "name": "stdout",
          "output_type": "stream",
          "text": [
            "What would you like to know?: average mpg for each origin\n"
          ]
        },
        {
          "output_type": "execute_result",
          "data": {
            "text/plain": [
              "'### sqlite SQL table with fields:\\n  #\\n  # MPG(mpg,cylinders,displacement,horsepower,weight,acceleration,year,origin,name)\\n  #  \\n  ### A query to answer: average mpg for each origin\\nSELECT'"
            ],
            "application/vnd.google.colaboratory.intrinsic+json": {
              "type": "string"
            }
          },
          "metadata": {},
          "execution_count": 14
        }
      ]
    },
    {
      "cell_type": "markdown",
      "source": [
        "### Completion, Chat, Assistant Models\n",
        "\n",
        "#### Chat\n",
        "\n",
        "* Designed for multi-turn conversations with multiple roles\n",
        "* Maintains conversation context by processing the entire conversation history\n",
        "\n",
        "#### Completion\n",
        "\n",
        "* Model generates a response based on a single input prompt\n",
        "* Text Completion\n",
        "* Code Completion\n",
        "\n",
        "#### Reinforcement Learning from Human Feedback (RLHF)\n",
        "\n",
        "* A machine learning technique that uses human feedback to improve ML models\n",
        "* RLHF is a key technology for aligning language models with human values and intentions\n",
        "\n",
        "#### Assistants\n",
        "\n",
        "* The Assistants API is more suitable for applications with high context, advanced customization, and designed to handle complex queries, despite limitations in the number and sizes of files. The Chat Completions API shines in simpler, scalable applications where each interaction can be managed independently but might fall short in applications requiring complex context management.\n",
        "\n",
        "Readings\n",
        "\n",
        "* https://openai.com/research  \n",
        "* https://medium.com/leniolabs/exploring-openais-apis-assistants-vs-chat-completions-91525f73422c"
      ],
      "metadata": {
        "id": "UpXB763oFg-0"
      }
    },
    {
      "cell_type": "markdown",
      "source": [
        "### Completion Parameters\n",
        "\n",
        "* Model\n",
        "* Prompt\n",
        "* Temperature (higher values will consider less probability returns)\n",
        "* Max Tokens (token count of your prompt plus max_tokens cannot exceed the model's context length ~ 2048?)\n",
        "* Top P (nucleus sampling uses the top probability rankings so 0.1 means top 10% probabilities mass, and is either/or with Temperature)\n",
        "* N (how many completions to generate for each prompt, temperature can lend to different results)\n",
        "* Frequency Penalty (helps to reduce redundancy)\n",
        "* Presence Penalty (helps likelihood for new topics / creativity)\n",
        "* https://platform.openai.com/playground?mode=complete\n",
        "\n",
        "Readings\n",
        "\n",
        "* https://platform.openai.com/docs/api-reference/introduction"
      ],
      "metadata": {
        "id": "2W2fn0aCJmTk"
      }
    },
    {
      "cell_type": "markdown",
      "source": [
        "### Example Client Request in Server Mode\n",
        "\n",
        "Local Inference Server\n",
        "\n",
        "<pre>\n",
        "Server Port: 1234\n",
        "CORS: OFF\n",
        "Requesting Queuing: ON\n",
        "Server Logging: ON\n",
        "Automatic Prompt Formatting: ON\n",
        "\n",
        "Start/Stop Server\n",
        "</pre>\n",
        "\n",
        "Example Client Request\n",
        "\n",
        "<pre>\n",
        "import os\n",
        "import openai\n",
        "\n",
        "openai.api_base = 'http://localhost:1234/v1\n",
        "openai.api_key = '' # not needed\n",
        "\n",
        "completion = openai.ChatCompletion.create(\n",
        "  model = 'local-model', # currently unused\n",
        "  messages = [\n",
        "    {'role': 'system', 'content': 'Always answer in rhymes.'},\n",
        "    {'role': 'user', 'content': 'Introduce yourself.'}\n",
        "  ]\n",
        ")\n",
        "\n",
        "print(completion.choices[0].message)\n",
        "</pre>"
      ],
      "metadata": {
        "id": "7is-wDKBEEM7"
      }
    },
    {
      "cell_type": "code",
      "source": [
        "import os\n",
        "import openai\n",
        "\n",
        "openai.api_base = 'http://localhost:1234/v1\n",
        "openai.api_key = '' # not needed\n",
        "\n",
        "response = openai.ChatCompletion.create(\n",
        "  model = 'local-model',\n",
        "  prompt = query_database(df, nltext),\n",
        "  temperature = 0,\n",
        "  max_tokens = 150,\n",
        "  top_p = 1.0,\n",
        "  frequency_penalty = 0,\n",
        "  presence_penalty = 0,\n",
        "  stop=['#', ';']\n",
        "  messages = [\n",
        "    {'role': 'system', 'content': 'Always answer in rhymes.'},\n",
        "    {'role': 'user', 'content': 'Introduce yourself.'}\n",
        "  ]\n",
        ")\n",
        "\n",
        "print(response.choices[0].text) # response['choices'][0]['text']\n",
        "\n",
        "def handle_response(response):\n",
        "  query = response['choices'][0]['text']\n",
        "  if query.startswith(' '):\n",
        "    query = 'SELECT'+query\n",
        "  return query\n",
        "\n",
        "handle_response(response)"
      ],
      "metadata": {
        "id": "nLta1R4CZ_JU"
      },
      "execution_count": null,
      "outputs": []
    },
    {
      "cell_type": "code",
      "source": [
        "with db.connect() as conn:\n",
        "  result = conn.execute(text(handle_response(response)))\n",
        "\n",
        "result.all()"
      ],
      "metadata": {
        "id": "6YgeQZDBdBO6"
      },
      "execution_count": null,
      "outputs": []
    }
  ]
}