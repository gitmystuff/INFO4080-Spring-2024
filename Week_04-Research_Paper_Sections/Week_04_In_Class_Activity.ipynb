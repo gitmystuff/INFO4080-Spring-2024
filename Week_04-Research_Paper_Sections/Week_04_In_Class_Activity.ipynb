{
  "nbformat": 4,
  "nbformat_minor": 0,
  "metadata": {
    "colab": {
      "provenance": [],
      "toc_visible": true,
      "authorship_tag": "ABX9TyNY5C1tNn+rixIKDz4wtsTi",
      "include_colab_link": true
    },
    "kernelspec": {
      "name": "python3",
      "display_name": "Python 3"
    },
    "language_info": {
      "name": "python"
    }
  },
  "cells": [
    {
      "cell_type": "markdown",
      "metadata": {
        "id": "view-in-github",
        "colab_type": "text"
      },
      "source": [
        "<a href=\"https://colab.research.google.com/github/gitmystuff/INFO4080/blob/main/Week_04-Research_Paper_Sections/Week_04_In_Class_Activity.ipynb\" target=\"_parent\"><img src=\"https://colab.research.google.com/assets/colab-badge.svg\" alt=\"Open In Colab\"/></a>"
      ]
    },
    {
      "cell_type": "markdown",
      "source": [
        "# Week 4: In-Class Activity\n",
        "\n",
        "Your Name"
      ],
      "metadata": {
        "id": "ghkm4G_Kan4q"
      }
    },
    {
      "cell_type": "markdown",
      "source": [
        "## Getting Started\n",
        "\n",
        "* Colab - get notebook from gitmystuff DTSC4080 repository\n",
        "* Save a Copy in Drive\n",
        "* Remove Copy of\n",
        "* Edit your name\n",
        "* Attendance\n",
        "* Clean up Colab Notebooks folder\n",
        "* Submit shared link"
      ],
      "metadata": {
        "id": "NNUOZnWEaqKv"
      }
    },
    {
      "cell_type": "markdown",
      "source": [
        "## Public Data\n",
        "\n",
        "* https://data.census.gov/\n",
        "* https://healthdata.gov/\n",
        "* https://www.sec.gov/edgar\n",
        "* https://bjs.ojp.gov/\n",
        "* https://www.irs.gov/statistics\n",
        "* https://www.bea.gov/\n",
        "* https://www.federalreserve.gov/data.htm\n",
        "* https://www2.ed.gov/rschstat/landing.jhtml?src=ft\n",
        "* Bureau of Labor Statistics\n",
        "* US Patent and Trademark Office\n",
        "* National Centers for Environmental Information\n",
        "* World Bank\n",
        "* CIA World Factbook\n",
        "* United Nations\n",
        "* UNICEF\n",
        "* Statistics Canada\n",
        "* Eurostat\n",
        "* https://www.linkedin.com/learning/learning-public-data-sets-2/bureau-of-labor-statistics?resume=false&u=74650474\n",
        "\n"
      ],
      "metadata": {
        "id": "3bNQM76dx1AI"
      }
    },
    {
      "cell_type": "markdown",
      "source": [
        "## Intro to BigQuery\n",
        "\n",
        "* https://console.cloud.google.com/marketplace/product/google/bigquery.googleapis.com?_ga=2.211298837.1868925152.1707340152-1299486709.1704991752&project=studynotes-prod&returnUrl=%2Fbigquery%3F_ga%3D2.211298837.1868925152.1707340152-1299486709.1704991752%26project%3Dstudynotes-prod\n",
        "\n",
        "<pre>\n",
        "SELECT\n",
        "  *\n",
        "FROM\n",
        "  `bigquery-public-data.usa_names.usa_1910_current`\n",
        "LIMIT 100\n",
        "</pre>\n",
        "\n",
        "* https://trends.google.com/trends/\n",
        "\n",
        "<pre>\n",
        "-- This query shows a list of the daily top Google Search terms.\n",
        "SELECT\n",
        "   refresh_date AS Day,\n",
        "   term AS Top_Term,\n",
        "       -- These search terms are in the top 25 in the US each day.\n",
        "   rank,\n",
        "FROM `bigquery-public-data.google_trends.top_terms`\n",
        "WHERE\n",
        "   rank = 1\n",
        "       -- Choose only the top term each day.\n",
        "   AND refresh_date >= DATE_SUB(CURRENT_DATE(), INTERVAL 2 WEEK)\n",
        "       -- Filter to the last 2 weeks.\n",
        "GROUP BY Day, Top_Term, rank\n",
        "ORDER BY Day DESC\n",
        "   -- Show the days in reverse chronological order.\n",
        "</pre>"
      ],
      "metadata": {
        "id": "wVhHy57pd1-K"
      }
    },
    {
      "cell_type": "markdown",
      "source": [
        "## Space Walk\n",
        "\n",
        "* https://www.nasa.gov/image-detail/s84-27018orig/"
      ],
      "metadata": {
        "id": "arzO_1jvfhL1"
      }
    },
    {
      "cell_type": "markdown",
      "source": [
        "## Research Highlights in the World Before 1700s"
      ],
      "metadata": {
        "id": "cLBAbR0zauI7"
      }
    },
    {
      "cell_type": "markdown",
      "source": [
        "## Transformers\n",
        "\n",
        "* https://neptune.ai/blog/hugging-face-pre-trained-models-find-the-best"
      ],
      "metadata": {
        "id": "A1oVOV0Ja_mn"
      }
    },
    {
      "cell_type": "markdown",
      "source": [
        "## Hugging Face: Summarization"
      ],
      "metadata": {
        "id": "czfMK6RwbBrO"
      }
    },
    {
      "cell_type": "code",
      "execution_count": null,
      "metadata": {
        "id": "zGtiiQSwaWM5"
      },
      "outputs": [],
      "source": [
        "# # get table of contents\n",
        "# from bs4 import BeautifulSoup\n",
        "# import pandas as pd\n",
        "# import requests\n",
        "\n",
        "# soup = BeautifulSoup(requests.get('https://en.wikipedia.org/wiki/Science_in_the_medieval_Islamic_world').text)\n",
        "# s = soup.find_all('h2')\n",
        "# s_list = [x.get_text().replace('[edit]', '') for x in s]\n",
        "# pd.Series(s_list)"
      ]
    },
    {
      "cell_type": "code",
      "source": [
        "# heading1 = s_list[2]\n",
        "# txt = ''\n",
        "# target = soup.find('span', attrs={'id': heading1.replace(' ', '_')}).parent\n",
        "# for sib in target.find_next_siblings():\n",
        "#     if sib.name=='h2':\n",
        "#         break\n",
        "#     else:\n",
        "#         txt += str(sib)\n",
        "\n",
        "# # convert string to html\n",
        "# soup2 = BeautifulSoup(txt)\n",
        "# s = soup2.find_all('h3')\n",
        "# s_list2 = [x.get_text().replace('[edit]', '') for x in s]\n",
        "# print(s_list[2]+'\\n')\n",
        "# pd.Series(s_list2)"
      ],
      "metadata": {
        "id": "gCIuq38ieT5n"
      },
      "execution_count": null,
      "outputs": []
    },
    {
      "cell_type": "code",
      "source": [
        "# import textwrap\n",
        "\n",
        "# data = []\n",
        "# for i in range(len(s_list2)):\n",
        "#   txt=''\n",
        "#   heading2 = s_list2[i]\n",
        "#   target2 = soup.find('h3', string=heading2)\n",
        "#   target2 = soup.find('span', attrs={'id': heading2.replace(' ', '_')}).parent\n",
        "#   for sib in target2.find_next_siblings():\n",
        "#       if sib.name=='h3':\n",
        "#           break\n",
        "#       else:\n",
        "#         if sib.name=='p':\n",
        "#           # print(textwrap.fill(sib.text, 100))\n",
        "#           txt += sib.text\n",
        "\n",
        "#   textwrap.fill(txt, 100)\n",
        "#   # data.append([title, wikipedia.page(title).content, wikipedia.summary(title, sentences=5)])\n",
        "#   data.append([heading1, heading2, txt])\n",
        "\n",
        "# df = pd.DataFrame(data, columns=['title', 'subheading', 'txt'])\n",
        "# df.head()"
      ],
      "metadata": {
        "id": "Z6QGwCNueW6w"
      },
      "execution_count": null,
      "outputs": []
    },
    {
      "cell_type": "code",
      "source": [
        "# df.loc[0].txt"
      ],
      "metadata": {
        "id": "bKnNUUij0NhP"
      },
      "execution_count": null,
      "outputs": []
    },
    {
      "cell_type": "code",
      "source": [
        "# pip install transformers"
      ],
      "metadata": {
        "id": "Rba4e7Cjea-C"
      },
      "execution_count": null,
      "outputs": []
    },
    {
      "cell_type": "code",
      "source": [
        "# import pandas as pd\n",
        "# from transformers import pipeline\n",
        "\n",
        "# # summary_text = ' '.join([txt for txt in df.txt])\n",
        "# summary_text = df.loc[0].txt\n",
        "# model = pipeline('summarization', model='sshleifer/distilbart-cnn-12-6')\n",
        "# sum_txt = model(summary_text)\n",
        "# sum_txt"
      ],
      "metadata": {
        "id": "MZhiSTG8egdQ"
      },
      "execution_count": null,
      "outputs": []
    },
    {
      "cell_type": "code",
      "source": [
        "# sum_txt[0]['summary_text']"
      ],
      "metadata": {
        "id": "DpViV8o23PBl"
      },
      "execution_count": null,
      "outputs": []
    },
    {
      "cell_type": "code",
      "source": [
        "# # https://huggingface.co/facebook/bart-large-cnn\n",
        "# import pandas as pd\n",
        "# from transformers import pipeline\n",
        "\n",
        "# # summary_text = ' '.join([txt for txt in df.summary])\n",
        "# summary_text = df.loc[0].txt\n",
        "# model = pipeline('summarization', model='facebook/bart-large-cnn')\n",
        "# sum_txt = model(summary_text)\n",
        "# sum_txt[0]['summary_text']"
      ],
      "metadata": {
        "id": "9rzGIv11ejiq"
      },
      "execution_count": null,
      "outputs": []
    },
    {
      "cell_type": "markdown",
      "source": [
        "next phase https://docs.python.org/3/library/asyncio-task.html"
      ],
      "metadata": {
        "id": "IaHxf8wx3-Qy"
      }
    },
    {
      "cell_type": "markdown",
      "source": [
        "## Research Paper Getting Started\n",
        "\n",
        "* https://psychology.ucsd.edu/undergraduate-program/undergraduate-resources/academic-writing-resources/writing-research-papers/research-paper-structure.html\n",
        "* https://owl.purdue.edu/owl/research_and_citation/apa_style/apa_formatting_and_style_guide/footnotes_appendices.html\n",
        "* https://owl.purdue.edu/owl/research_and_citation/apa_style/apa_formatting_and_style_guide/apa_sample_paper.html\n",
        "* https://onedrive.live.com/view?id=9E1D26621EA2350E!922&resid=9E1D26621EA2350E!922&authkey=!ACb0W46RTUEyCPk&wdEmbedFS=1&wdo=2&cid=9e1d26621ea2350e"
      ],
      "metadata": {
        "id": "dlPzHLChbQ8_"
      }
    },
    {
      "cell_type": "markdown",
      "source": [
        "## References and Bibliography\n",
        "\n",
        "* https://support.microsoft.com/en-us/office/create-a-bibliography-citations-and-references-17686589-4824-4940-9c69-342c289fa2a5\n",
        "* https://support.microsoft.com/en-us/office/research-your-paper-easily-within-word-1728f286-8702-4d72-8169-ab7677ca0e1f#:~:text=On%20the%20Reference%20tab%2C%20in,pane%20to%20explore%20in%20detail."
      ],
      "metadata": {
        "id": "3Qxdf7KHbZFx"
      }
    }
  ]
}