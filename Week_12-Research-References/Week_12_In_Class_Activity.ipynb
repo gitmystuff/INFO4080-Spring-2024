{
  "nbformat": 4,
  "nbformat_minor": 0,
  "metadata": {
    "colab": {
      "provenance": [],
      "authorship_tag": "ABX9TyNPuma4wytifbLsBg1KL+cI",
      "include_colab_link": true
    },
    "kernelspec": {
      "name": "python3",
      "display_name": "Python 3"
    },
    "language_info": {
      "name": "python"
    }
  },
  "cells": [
    {
      "cell_type": "markdown",
      "metadata": {
        "id": "view-in-github",
        "colab_type": "text"
      },
      "source": [
        "<a href=\"https://colab.research.google.com/github/gitmystuff/INFO4080/blob/main/Week_12-Research-References/Week_12_In_Class_Activity.ipynb\" target=\"_parent\"><img src=\"https://colab.research.google.com/assets/colab-badge.svg\" alt=\"Open In Colab\"/></a>"
      ]
    },
    {
      "cell_type": "markdown",
      "source": [
        "# Week 12: In-Class Activity\n",
        "\n",
        "Your Name"
      ],
      "metadata": {
        "id": "ghkm4G_Kan4q"
      }
    },
    {
      "cell_type": "markdown",
      "source": [
        "## Getting Started\n",
        "\n",
        "* Colab - get notebook from gitmystuff DTSC4080 repository\n",
        "* Save a Copy in Drive\n",
        "* Remove Copy of\n",
        "* Edit your name\n",
        "* Attendance\n",
        "* Clean up Colab Notebooks folder\n",
        "* Submit shared link"
      ],
      "metadata": {
        "id": "NNUOZnWEaqKv"
      }
    },
    {
      "cell_type": "markdown",
      "source": [
        "## Bayesian Analysis\n",
        "\n",
        "* Bayes' Theorem Notebook"
      ],
      "metadata": {
        "id": "h5qwpGQH6Ner"
      }
    },
    {
      "cell_type": "markdown",
      "source": [
        "## SQL"
      ],
      "metadata": {
        "id": "HGH7TxHIBXe6"
      }
    },
    {
      "cell_type": "markdown",
      "source": [
        "### Public Data\n",
        "\n",
        "* https://data.census.gov/\n",
        "* https://healthdata.gov/\n",
        "* Edgar: https://www.sec.gov/edgar\n",
        "* Bureau of Justice: https://bjs.ojp.gov/\n",
        "* IRS: https://www.irs.gov/statistics\n",
        "* Bureau of Economic Analysis: https://www.bea.gov/\n",
        "* Federal Reserve: https://www.federalreserve.gov/data.htm\n",
        "* DOE Data and Research: https://www2.ed.gov/rschstat/landing.jhtml?src=ft\n",
        "* Bureau of Labor Statistics: https://www.bls.gov/\n",
        "* US Patent and Trademark Office: https://www.uspto.gov/\n",
        "* National Centers for Environmental Information: https://www.ncei.noaa.gov/\n",
        "* World Bank: https://data.worldbank.org/\n",
        "* CIA World Factbook: https://www.cia.gov/the-world-factbook/\n",
        "* United Nations: https://data.un.org/\n",
        "* UNICEF: https://data.unicef.org/\n",
        "* Statistics Canada: https://www.statcan.gc.ca/\n",
        "* Eurostat: https://ec.europa.eu/eurostat\n",
        "* Organization for Economic Cooperation and Development: https://data.oecd.org/\n",
        "* UK National Health Service NHS Digital: https://digital.nhs.uk/\n",
        "* Google Finance: https://www.google.com/finance/\n",
        "* Google Trends: https://trends.google.com/trends/\n",
        "* Google Public Data Explorer: https://www.google.com/publicdata/directory\n",
        "* Amazon Web Services Public Data: https://registry.opendata.aws/\n",
        "* Data.gov: https://data.gov/\n",
        "* Google Ngram Viewer: https://books.google.com/ngrams/\n",
        "* The Corpus of Contemporary American English: https://www.english-corpora.org/coca/\n",
        "* University of California, Irvine, Center for Machine Learning: https://archive.ics.uci.edu/\n",
        "* Pew Research Center: https://www.pewresearch.org/\n",
        "* https://www.linkedin.com/learning/learning-public-data-sets-2/bureau-of-labor-statistics?resume=false&u=74650474\n",
        "\n"
      ],
      "metadata": {
        "id": "3bNQM76dx1AI"
      }
    },
    {
      "cell_type": "markdown",
      "source": [
        "### BigQuery\n",
        "\n",
        "* https://console.cloud.google.com/marketplace/product/google/bigquery.googleapis.com?_ga=2.211298837.1868925152.1707340152-1299486709.1704991752&project=studynotes-prod&returnUrl=%2Fbigquery%3F_ga%3D2.211298837.1868925152.1707340152-1299486709.1704991752%26project%3Dstudynotes-prod\n",
        "\n",
        "<pre>\n",
        "SELECT\n",
        "  *\n",
        "FROM\n",
        "  `bigquery-public-data.usa_names.usa_1910_current`\n",
        "LIMIT 100\n",
        "</pre>\n",
        "\n",
        "<pre>\n",
        "SELECT\n",
        "  *\n",
        "FROM\n",
        "  `bigquery-public-data.usa_names.usa_1910_current`\n",
        "WHERE\n",
        "  state = 'TX'\n",
        "LIMIT 100\n",
        "</pre>\n",
        "\n",
        "<pre>\n",
        "SELECT\n",
        "  MIN(year), MAX(year)\n",
        "FROM\n",
        "  `bigquery-public-data.usa_names.usa_1910_current`\n",
        "</pre>\n",
        "\n",
        "<pre>\n",
        "SELECT\n",
        "  name, COUNT(name) as cnt\n",
        "FROM\n",
        "  `bigquery-public-data.usa_names.usa_1910_current`\n",
        "GROUP BY name\n",
        "ORDER BY cnt DESC\n",
        "LIMIT 1\n",
        "</pre>\n",
        "\n",
        "<pre>\n",
        "SELECT\n",
        "  *\n",
        "FROM\n",
        "  `bigquery-public-data.usa_names.usa_1910_current`\n",
        "WHERE\n",
        "  state = 'TX'\n",
        "AND\n",
        "  year = 2020\n",
        "LIMIT 100\n",
        "</pre>\n",
        "\n"
      ],
      "metadata": {
        "id": "wVhHy57pd1-K"
      }
    },
    {
      "cell_type": "markdown",
      "source": [
        "Public Datasets\n",
        "\n",
        "* Add\n",
        "* Search for public datasets\n",
        "* Search of World Bank\n",
        "\n",
        "World Bank\n",
        "* https://databank.worldbank.org/metadataglossary/jobs/series/SI.POV.GINI"
      ],
      "metadata": {
        "id": "U61OtIl3VLsu"
      }
    },
    {
      "cell_type": "markdown",
      "source": [
        "<pre>\n",
        "\n",
        "SELECT acs.geo_id, acs.total_pop, fips.state_name\n",
        "FROM\n",
        "`bigquery-public-data.census_bureau_acs.state_2010_1yr` as acs,\n",
        "`bigquery-public-data.census_utility.fips_codes_states` as fips\n",
        "WHERE acs.geo_id = fips.state_fips_code\n",
        "AND fips.state_name = 'Texas'\n",
        "\n",
        "</pre>\n",
        "\n",
        "<pre>\n",
        "SELECT *\n",
        "FROM `bigquery-public-data.census_bureau_acs.state_2010_1yr` as acs\n",
        "INNER JOIN  `bigquery-public-data.census_utility.fips_codes_states` as fips\n",
        "ON acs.geo_id = fips.state_fips_code\n",
        "</pre>"
      ],
      "metadata": {
        "id": "k7WC8zTRg-Mr"
      }
    },
    {
      "cell_type": "markdown",
      "source": [
        "### SQL Notebook"
      ],
      "metadata": {
        "id": "iEY2fVOJ5PKg"
      }
    },
    {
      "cell_type": "markdown",
      "source": [
        "### Setting Up Databases\n",
        "\n",
        "* https://www3.ntu.edu.sg/home/ehchua/programming/sql/SampleDatabases.html\n",
        "* https://learnsql.com/blog/free-online-datasets-to-practice-sql/\n",
        "* https://realpython.com/python-sql-libraries/\n",
        "\n"
      ],
      "metadata": {
        "id": "BB8WWk-B5HXn"
      }
    },
    {
      "cell_type": "code",
      "source": [
        "# import sqlite3\n",
        "# from sqlite3 import Error\n",
        "\n",
        "# def create_connection(path):\n",
        "#     connection = None\n",
        "#     try:\n",
        "#         connection = sqlite3.connect(path)\n",
        "#         print(\"Connection to SQLite DB successful\")\n",
        "#     except Error as e:\n",
        "#         print(f\"The error '{e}' occurred\")\n",
        "\n",
        "#     return connection"
      ],
      "metadata": {
        "id": "bY4DlTsdIiFi"
      },
      "execution_count": null,
      "outputs": []
    },
    {
      "cell_type": "code",
      "source": [
        "# connection = create_connection(\"sm_app.sqlite\")"
      ],
      "metadata": {
        "id": "-vumKlOTIkDv"
      },
      "execution_count": null,
      "outputs": []
    },
    {
      "cell_type": "code",
      "source": [
        "# def execute_query(connection, query):\n",
        "#     cursor = connection.cursor()\n",
        "#     try:\n",
        "#         cursor.execute(query)\n",
        "#         connection.commit()\n",
        "#         print(\"Query executed successfully\")\n",
        "#     except Error as e:\n",
        "#         print(f\"The error '{e}' occurred\")"
      ],
      "metadata": {
        "id": "8INwjzthIzMa"
      },
      "execution_count": null,
      "outputs": []
    },
    {
      "cell_type": "code",
      "source": [
        "# create_users_table = \"\"\"\n",
        "# CREATE TABLE IF NOT EXISTS users (\n",
        "#   id INTEGER PRIMARY KEY AUTOINCREMENT,\n",
        "#   name TEXT NOT NULL,\n",
        "#   age INTEGER,\n",
        "#   gender TEXT,\n",
        "#   nationality TEXT\n",
        "# );\n",
        "# \"\"\"\n",
        "\n",
        "# create_posts_table = \"\"\"\n",
        "# CREATE TABLE IF NOT EXISTS posts(\n",
        "#   id INTEGER PRIMARY KEY AUTOINCREMENT,\n",
        "#   title TEXT NOT NULL,\n",
        "#   description TEXT NOT NULL,\n",
        "#   user_id INTEGER NOT NULL,\n",
        "#   FOREIGN KEY (user_id) REFERENCES users (id)\n",
        "# );\n",
        "# \"\"\"\n",
        "\n",
        "# create_comments_table = \"\"\"\n",
        "# CREATE TABLE IF NOT EXISTS comments (\n",
        "#   id INTEGER PRIMARY KEY AUTOINCREMENT,\n",
        "#   text TEXT NOT NULL,\n",
        "#   user_id INTEGER NOT NULL,\n",
        "#   post_id INTEGER NOT NULL,\n",
        "#   FOREIGN KEY (user_id) REFERENCES users (id) FOREIGN KEY (post_id) REFERENCES posts (id)\n",
        "# );\n",
        "# \"\"\"\n",
        "\n",
        "# create_likes_table = \"\"\"\n",
        "# CREATE TABLE IF NOT EXISTS likes (\n",
        "#   id INTEGER PRIMARY KEY AUTOINCREMENT,\n",
        "#   user_id INTEGER NOT NULL,\n",
        "#   post_id integer NOT NULL,\n",
        "#   FOREIGN KEY (user_id) REFERENCES users (id) FOREIGN KEY (post_id) REFERENCES posts (id)\n",
        "# );\n",
        "# \"\"\"\n",
        "\n",
        "# execute_query(connection, create_users_table)\n",
        "# execute_query(connection, create_posts_table)\n",
        "# execute_query(connection, create_comments_table)\n",
        "# execute_query(connection, create_likes_table)"
      ],
      "metadata": {
        "id": "6I4NG3wEI5ma"
      },
      "execution_count": null,
      "outputs": []
    },
    {
      "cell_type": "markdown",
      "source": [
        "### CRUD"
      ],
      "metadata": {
        "id": "xjY4Ai24JwdB"
      }
    },
    {
      "cell_type": "markdown",
      "source": [
        "### Aggregate Functions\n",
        "\n",
        "* Aggregate Functions -  https://www.simplilearn.com/tutorials/sql-tutorial/sql-aggregate-functions"
      ],
      "metadata": {
        "id": "cHN5svccaGaV"
      }
    },
    {
      "cell_type": "markdown",
      "source": [
        "### MySQL to SQLite\n",
        "\n",
        "* Work in Progress\n",
        "* https://www3.ntu.edu.sg/home/ehchua/programming/sql/SampleDatabases.html\n",
        "* https://dev.mysql.com/doc/employee/en/employees-installation.html\n",
        "* https://github.com/datacharmer/test_db\n"
      ],
      "metadata": {
        "id": "bWM9DGLOKFTU"
      }
    },
    {
      "cell_type": "code",
      "source": [
        "# # load sql and use sqlite as our database\n",
        "# %load_ext sql\n",
        "# %sql sqlite://"
      ],
      "metadata": {
        "id": "OZJufEpPJt5J"
      },
      "execution_count": null,
      "outputs": []
    },
    {
      "cell_type": "code",
      "source": [
        "# %%sql\n",
        "# CREATE TABLE IF NOT EXISTS employees (\n",
        "#     emp_no      INT             NOT NULL,\n",
        "#     birth_date  DATE            NOT NULL,\n",
        "#     first_name  VARCHAR(14)     NOT NULL,\n",
        "#     last_name   VARCHAR(16)     NOT NULL,\n",
        "#     gender      CHAR(4)         NOT NULL,\n",
        "#     hire_date   DATE            NOT NULL,\n",
        "#     PRIMARY KEY (emp_no)\n",
        "# );\n",
        "\n",
        "# CREATE TABLE IF NOT EXISTS departments (\n",
        "#     dept_no     CHAR(4)         NOT NULL,\n",
        "#     dept_name   VARCHAR(40)     NOT NULL,\n",
        "#     PRIMARY KEY (dept_no)\n",
        "# );\n",
        "\n",
        "# CREATE TABLE IF NOT EXISTS dept_manager (\n",
        "#    emp_no       INT             NOT NULL,\n",
        "#    dept_no      CHAR(4)         NOT NULL,\n",
        "#    from_date    DATE            NOT NULL,\n",
        "#    to_date      DATE            NOT NULL,\n",
        "#    FOREIGN KEY (emp_no)  REFERENCES employees (emp_no)    ON DELETE CASCADE,\n",
        "#    FOREIGN KEY (dept_no) REFERENCES departments (dept_no) ON DELETE CASCADE,\n",
        "#    PRIMARY KEY (emp_no,dept_no)\n",
        "# );\n",
        "\n",
        "# CREATE TABLE IF NOT EXISTS dept_emp (\n",
        "#     emp_no      INT             NOT NULL,\n",
        "#     dept_no     CHAR(4)         NOT NULL,\n",
        "#     from_date   DATE            NOT NULL,\n",
        "#     to_date     DATE            NOT NULL,\n",
        "#     FOREIGN KEY (emp_no)  REFERENCES employees   (emp_no)  ON DELETE CASCADE,\n",
        "#     FOREIGN KEY (dept_no) REFERENCES departments (dept_no) ON DELETE CASCADE,\n",
        "#     PRIMARY KEY (emp_no,dept_no)\n",
        "# );\n",
        "\n",
        "# CREATE TABLE IF NOT EXISTS titles (\n",
        "#     emp_no      INT             NOT NULL,\n",
        "#     title       VARCHAR(50)     NOT NULL,\n",
        "#     from_date   DATE            NOT NULL,\n",
        "#     to_date     DATE,\n",
        "#     FOREIGN KEY (emp_no) REFERENCES employees (emp_no) ON DELETE CASCADE,\n",
        "#     PRIMARY KEY (emp_no,title, from_date)\n",
        "# )\n",
        "# ;\n",
        "\n",
        "# CREATE TABLE IF NOT EXISTS salaries (\n",
        "#     emp_no      INT             NOT NULL,\n",
        "#     salary      INT             NOT NULL,\n",
        "#     from_date   DATE            NOT NULL,\n",
        "#     to_date     DATE            NOT NULL,\n",
        "#     FOREIGN KEY (emp_no) REFERENCES employees (emp_no) ON DELETE CASCADE,\n",
        "#     PRIMARY KEY (emp_no, from_date)\n",
        "# )\n",
        "# ;\n",
        "\n",
        "# CREATE VIEW IF NOT EXISTS dept_emp_latest_date AS\n",
        "#     SELECT emp_no, MAX(from_date) AS from_date, MAX(to_date) AS to_date\n",
        "#     FROM dept_emp\n",
        "#     GROUP BY emp_no;\n",
        "\n",
        "# CREATE VIEW IF NOT EXISTS current_dept_emp AS\n",
        "#     SELECT l.emp_no, dept_no, l.from_date, l.to_date\n",
        "#     FROM dept_emp d\n",
        "#         INNER JOIN dept_emp_latest_date l\n",
        "#         ON d.emp_no=l.emp_no AND d.from_date=l.from_date AND l.to_date = d.to_date;"
      ],
      "metadata": {
        "id": "qWXXxW2g9rBL"
      },
      "execution_count": null,
      "outputs": []
    },
    {
      "cell_type": "code",
      "source": [
        "# %%sql\n",
        "# SELECT * FROM sqlite_master;"
      ],
      "metadata": {
        "id": "Eh0sU4iS988K"
      },
      "execution_count": null,
      "outputs": []
    },
    {
      "cell_type": "code",
      "source": [
        "# %%sql\n",
        "# INSERT INTO `employees` VALUES (10001,'1953-09-02','Georgi','Facello','M','1986-06-26'),\n",
        "# (10002,'1964-06-02','Bezalel','Simmel','F','1985-11-21'),\n",
        "# (10003,'1959-12-03','Parto','Bamford','M','1986-08-28'),\n",
        "# (10004,'1954-05-01','Chirstian','Koblick','M','1986-12-01'),\n",
        "# (10005,'1955-01-21','Kyoichi','Maliniak','M','1989-09-12'),\n",
        "# (10006,'1953-04-20','Anneke','Preusig','F','1989-06-02'),\n",
        "# (10007,'1957-05-23','Tzvetan','Zielinski','F','1989-02-10'),\n",
        "# (10008,'1958-02-19','Saniya','Kalloufi','M','1994-09-15'),\n",
        "# (10009,'1952-04-19','Sumant','Peac','F','1985-02-18'),\n",
        "# (10010,'1963-06-01','Duangkaew','Piveteau','F','1989-08-24'),\n",
        "# (10011,'1953-11-07','Mary','Sluis','F','1990-01-22'),\n",
        "# (10012,'1960-10-04','Patricio','Bridgland','M','1992-12-18'),\n",
        "# (10013,'1963-06-07','Eberhardt','Terkki','M','1985-10-20'),\n",
        "# (10014,'1956-02-12','Berni','Genin','M','1987-03-11'),\n",
        "# (10015,'1959-08-19','Guoxiang','Nooteboom','M','1987-07-02'),\n",
        "# (10016,'1961-05-02','Kazuhito','Cappelletti','M','1995-01-27'),\n",
        "# (10017,'1958-07-06','Cristinel','Bouloucos','F','1993-08-03'),\n",
        "# (10018,'1954-06-19','Kazuhide','Peha','F','1987-04-03'),\n",
        "# (10019,'1953-01-23','Lillian','Haddadi','M','1999-04-30'),\n",
        "# (10020,'1952-12-24','Mayuko','Warwick','M','1991-01-26'),\n",
        "# (10021,'1960-02-20','Ramzi','Erde','M','1988-02-10'),\n",
        "# (10022,'1952-07-08','Shahaf','Famili','M','1995-08-22'),\n",
        "# (10023,'1953-09-29','Bojan','Montemayor','F','1989-12-17'),\n",
        "# (10024,'1958-09-05','Suzette','Pettey','F','1997-05-19'),\n",
        "# (10025,'1958-10-31','Prasadram','Heyers','M','1987-08-17'),\n",
        "# (10026,'1953-04-03','Yongqiao','Berztiss','M','1995-03-20'),\n",
        "# (10027,'1962-07-10','Divier','Reistad','F','1989-07-07'),\n",
        "# (10028,'1963-11-26','Domenick','Tempesti','M','1991-10-22'),\n",
        "# (10029,'1956-12-13','Otmar','Herbst','M','1985-11-20'),\n",
        "# (10030,'1958-07-14','Elvis','Demeyer','M','1994-02-17'),\n",
        "# (10031,'1959-01-27','Karsten','Joslin','M','1991-09-01'),\n",
        "# (10032,'1960-08-09','Jeong','Reistad','F','1990-06-20'),\n",
        "# (10033,'1956-11-14','Arif','Merlo','M','1987-03-18'),\n",
        "# (10034,'1962-12-29','Bader','Swan','M','1988-09-21'),\n",
        "# (10035,'1953-02-08','Alain','Chappelet','M','1988-09-05'),\n",
        "# (10036,'1959-08-10','Adamantios','Portugali','M','1992-01-03');"
      ],
      "metadata": {
        "id": "B_J8GHhaNO6i"
      },
      "execution_count": null,
      "outputs": []
    },
    {
      "cell_type": "code",
      "source": [
        "# %%sql\n",
        "# SELECT * FROM employees;"
      ],
      "metadata": {
        "id": "P7K_YfMcNgiO"
      },
      "execution_count": null,
      "outputs": []
    },
    {
      "cell_type": "markdown",
      "source": [
        "Work in progress..."
      ],
      "metadata": {
        "id": "LYem5nZxPB3I"
      }
    },
    {
      "cell_type": "code",
      "source": [
        "# # read the sql file https://www.reddit.com/r/dataengineering/comments/pbks3q/read_sql_file_in_jupyter_notebook/\n",
        "# with open('load_employees.dump', 'r') as query:\n",
        "#     query_string = query.read()"
      ],
      "metadata": {
        "id": "kkXte4vJMMj9"
      },
      "execution_count": null,
      "outputs": []
    },
    {
      "cell_type": "code",
      "source": [
        "# import sqlite3\n",
        "\n",
        "# connection = sqlite3.connect('employees.db')\n",
        "# cursor = connection.cursor()"
      ],
      "metadata": {
        "id": "z_1NINI4BQCr"
      },
      "execution_count": null,
      "outputs": []
    },
    {
      "cell_type": "code",
      "source": [
        "# # multiline strings in Python can be sorrounded with ''' Multi line text '''\n",
        "# query = '''\n",
        "# CREATE TABLE IF NOT EXISTS employees (\n",
        "#     emp_no      INT             NOT NULL,\n",
        "#     birth_date  DATE            NOT NULL,\n",
        "#     first_name  VARCHAR(14)     NOT NULL,\n",
        "#     last_name   VARCHAR(16)     NOT NULL,\n",
        "#     gender      CHAR(4)         NOT NULL,\n",
        "#     hire_date   DATE            NOT NULL,\n",
        "#     PRIMARY KEY (emp_no)\n",
        "# );\n",
        "# '''\n",
        "# cursor.execute(query)"
      ],
      "metadata": {
        "id": "Dr4frUmgCNti"
      },
      "execution_count": null,
      "outputs": []
    },
    {
      "cell_type": "code",
      "source": [
        "# # read the sql file https://www.reddit.com/r/dataengineering/comments/pbks3q/read_sql_file_in_jupyter_notebook/\n",
        "# with open('<filename>.sql', 'r') as query: # or .dump\n",
        "#     query_string = query.read()"
      ],
      "metadata": {
        "id": "xeJfvYohKsiY"
      },
      "execution_count": null,
      "outputs": []
    },
    {
      "cell_type": "markdown",
      "source": [
        "## LLM Fine Tuning\n",
        "\n",
        "Sources:\n",
        "* https://huggingface.co/docs/transformers/en/training\n",
        "* https://youtu.be/OCNraV2Toa0?si=-0az6qyHlGLNdCTl\n",
        "* https://youtu.be/g-_lw944edU?si=ZjZkEjEn_O0lEbry\n",
        "* https://www.udemy.com/course/openai-python-api-bootcamp-learn-to-use-ai-gpt3-and-more"
      ],
      "metadata": {
        "id": "5AGQFc3O5-HL"
      }
    },
    {
      "cell_type": "markdown",
      "source": [
        "### Hugging Face\n",
        "\n",
        "Setup\n",
        "* Create account\n",
        "* Create a new Space\n",
        "* Select Docker... AutoTrain\n",
        "* Get HF_Token\n",
        "* Choose Public / Private\n",
        "\n",
        "Get HF_Token\n",
        "* Go to account\n",
        "* Settings\n",
        "* Access Tokens\n",
        "* Create new token with Write\n",
        "* Use for HF_Token in Space\n",
        "\n",
        "AutoTrain\n",
        "* Hardware\n",
        "* Task\n",
        "* Base Model (hardware must have enough space for that model)\n",
        "* Training Data\n",
        "* Column Mapping\n",
        "\n",
        "Training Parameters\n",
        "\n",
        "Terms\n",
        "* https://huggingface.co/docs/trl/main/en/sft_trainer (supervised fine tuning)\n",
        "* https://huggingface.co/docs/autotrain/en/llm_finetuning (check text format)\n",
        "* https://huggingface.co/blog/pref-tuning\n",
        "* https://huggingface.co/blog/rishiraj/finetune-llms"
      ],
      "metadata": {
        "id": "7dk-jbiGPIZG"
      }
    },
    {
      "cell_type": "markdown",
      "source": [
        "### WikiScrape Summarizer"
      ],
      "metadata": {
        "id": "1YpJicaOKMTy"
      }
    },
    {
      "cell_type": "markdown",
      "source": [
        "The format should look like a list of dictionaries:\n",
        "\n",
        "    [{\"fulltext\": \"some prompt string\",\"summary\":\"the best completed text option given the prompt\"},]"
      ],
      "metadata": {
        "id": "65N3xNjkW8Il"
      }
    },
    {
      "cell_type": "code",
      "source": [
        "# # create json format\n",
        "# fulltext, summary = df['txt'], df['summary']\n",
        "# ft_format = [{\"fulltext\" : f, \"summary\": f} for f, s in zip(fulltext, summary)]"
      ],
      "metadata": {
        "id": "SdZ5BqFDXHxf"
      },
      "execution_count": null,
      "outputs": []
    },
    {
      "cell_type": "code",
      "source": [
        "# # example\n",
        "# print(len(ft_format))\n",
        "# ft_format[0]"
      ],
      "metadata": {
        "id": "2oZTQoLiXolE"
      },
      "execution_count": null,
      "outputs": []
    },
    {
      "cell_type": "code",
      "source": [
        "# # list to json\n",
        "# import json\n",
        "\n",
        "# training_data = json.dumps(ft_format, indent=2)"
      ],
      "metadata": {
        "id": "cX2gIa5kYj1O"
      },
      "execution_count": null,
      "outputs": []
    },
    {
      "cell_type": "markdown",
      "source": [
        "## APA Research Paper"
      ],
      "metadata": {
        "id": "7bU0xi6mODIE"
      }
    },
    {
      "cell_type": "markdown",
      "source": [
        "### Abstract Section\n",
        "\n",
        "* ABSTRACT: The abstract needs to provide a brief but comprehensive summary of the contents of your paper.  It provides an overview of the paper and helps readers decide whether to read the full text. Limit your abstract to 250 words.\n",
        "* https://apastyle.apa.org/instructional-aids/abstract-keywords-guide.pdf"
      ],
      "metadata": {
        "id": "RwtS0AfqN3gh"
      }
    },
    {
      "cell_type": "markdown",
      "source": [
        "### Introduction Section\n",
        "\n",
        "* A good introduction will summarize, integrate, and critically evaluate the empirical knowledge in the relevant area(s) in a way that sets the stage for your study and why you conducted it. The introduction starts out broad (but not too broad!) and gets more focused toward the end.\n",
        "\n",
        "Example Prompt:\n",
        "\n",
        "My research question is To what extent and through what mechanisms does religion influence the formation and expression of ultra-nationalist ideologies and movements within Western civilization? I need to write an introduction to my research paper. Can you write an opening sentence that clearly conveys the relevance of the following text.\n",
        "\n",
        "[text]"
      ],
      "metadata": {
        "id": "uWTrcQvAN5fV"
      }
    },
    {
      "cell_type": "markdown",
      "source": [
        "### Method Section\n",
        "\n",
        "From Gemini\n",
        "\n",
        "**Prompt**: I am writing a research paper and want to know what elements go in the method section\n",
        "\n",
        "**Response**:\n",
        "\n",
        "**Method**\n",
        "\n",
        "The method section of your research paper is crucial, as it details how you conducted your research and allows readers to assess its validity and replicability. Here are the key elements you should include:\n",
        "\n",
        "**1. Research Design:**\n",
        "\n",
        "* https://library.cityu.edu/researchguides/researchmethods/litreview\n",
        "* Briefly explain the type of research design you employed (e.g., experiment, survey, case study).\n",
        "* Justify your choice of design and how it aligns with your research question and objectives.\n",
        "\n",
        "**2. Participants or Subjects:**\n",
        "\n",
        "* Describe the characteristics of your participants or subjects, including demographics, selection criteria, and sample size.\n",
        "* Explain how you recruited participants and ensure ethical considerations were addressed (e.g., informed consent).\n",
        "\n",
        "**3. Materials and Equipment:**\n",
        "\n",
        "* List all the materials and equipment used in your research, including specific details like brand names, models, and software versions.\n",
        "* Describe any specific procedures or preparations undertaken for the materials or equipment.\n",
        "\n",
        "**4. Procedure:**\n",
        "\n",
        "* Provide a step-by-step explanation of how you conducted your research, ensuring clarity and conciseness.\n",
        "* Include details on data collection methods (e.g., surveys, interviews, observations) and any manipulations or interventions involved.\n",
        "*  If applicable, describe the order of events and any control measures implemented.\n",
        "\n",
        "**5. Data Analysis:**\n",
        "\n",
        "* Explain how you analyzed your data, including the specific statistical tests or qualitative analysis methods used.\n",
        "* Briefly justify your choice of analysis methods and their appropriateness for your research question and data type.\n",
        "\n",
        "**Additional Considerations:**\n",
        "\n",
        "* **Ethical Approval:** If your research involved human subjects or animals, mention the ethical approval process and the body that granted approval.\n",
        "* **Data Management:** Briefly describe how you stored and managed your data throughout the research process.\n",
        "* **Clarity and Conciseness:** Use clear and concise language, avoiding jargon and unnecessary details.\n",
        "* **Logical Organization:**  Structure the section logically, often using subheadings to present information in a clear and organized manner.\n",
        "\n",
        "Remember, the specific elements and level of detail required in your methods section may vary depending on your field of study and specific research question. It's always recommended to consult your research style guide or professor for specific formatting and content requirements."
      ],
      "metadata": {
        "id": "7NZ4_SknF-fX"
      }
    },
    {
      "cell_type": "markdown",
      "source": [
        "### Results Section\n",
        "\n",
        "The results section of a research paper is all about presenting the cold, hard facts unearthed by your research. It acts like a bridge between the methodology you used and what you ultimately discovered. Here are the key points to remember:\n",
        "\n",
        "* **Focus on Findings:** It presents what you found, sticking to data and observations without interpretation or analysis. Think of it as laying out the evidence.\n",
        "* **Answer the Question:** The findings should directly address the research question(s) you posed at the outset of the paper.\n",
        "* **Logical Flow:** Organize your findings in a clear and logical sequence, often mirroring the structure of your methodology.\n",
        "* **Data Presentation:** Use tables, figures, and charts to effectively showcase your findings. Text descriptions should complement these visuals.\n",
        "* **Neutral Tone:** Avoid any bias or personal opinions in this section. Maintain a strictly objective and factual approach.\n",
        "* **Context is Key:** Briefly introduce the results section by reminding the reader of the research problem and the purpose of your study.\n",
        "* **Only Relevant Findings:** Include data directly connected to your research goals. Avoid cluttering the section with unnecessary details.\n",
        "\n",
        "Remember, the results section sets the stage for the discussion section, where you'll delve deeper into interpreting the meaning of your findings.\n",
        "\n",
        "The results section of a research paper is one of the most important parts, and it should only include the findings of the study. The results section should include:\n",
        "\n",
        "* Data: Data presented in tables, charts, graphs, and other figures\n",
        "* Contextual analysis: A sentence-based explanation of the meaning of the data\n",
        "* Secondary findings: Secondary outcomes, subgroup analyses, and more\n",
        "* Connection to research questions: How the data relates to the research questions\n",
        "\n",
        "The results section should not attempt to interpret or analyze the findings, only state the facts. The data may be placed into the text or on separate pages at the end of the manuscript.\n",
        "\n",
        "The results (or findings) section is one of the most important parts of a research paper, in which an author reports the findings of their study in connection to their research question(s). The results section should not attempt to interpret or analyze the findings, only state the facts.\n",
        "\n",
        "The Results section should include the findings of your study and ONLY the findings of your study. The findings include: Data presented in tables, charts, graphs, and other figures (may be placed into the text or on separate pages at the end of the manuscript) A contextual analysis of this data explaining its meaning in sentence form. All data that corresponds to the central research question(s) All secondary findings (secondary outcomes, subgroup analyses, etc.)\n"
      ],
      "metadata": {
        "id": "7QXMnzR6kaqA"
      }
    },
    {
      "cell_type": "markdown",
      "source": [
        "### Discussion Section\n",
        "\n",
        "* Prompt: Hi, I am writing a APA 7 research paper and want to know the key elements of the discussion section. Please also provide and outline of the APA 7 discussion section.\n",
        "\n",
        "#### Key Elements of an APA 7 Discussion Section\n",
        "\n",
        "The discussion section is the heart of your research paper. Here's what you should cover:\n",
        "\n",
        "* **Interpretation of Findings:** Explain what your results mean in light of your research questions or hypotheses.  Discuss how your findings relate to existing research (mentioned in your literature review).\n",
        "* **Acknowledge Unexpected Results:**  Address any findings that didn't support your hypotheses.  Discuss possible explanations for these results.\n",
        "* **Limitations:** Discuss the weaknesses or limitations of your study.  How might these limitations have affected your results?\n",
        "* **Implications:**  Explain the broader significance of your research.  What are the real-world implications of your findings?\n",
        "* **Future Directions:**  Propose areas for future research based on your findings.  What questions remain unanswered?\n",
        "\n",
        "####  Outline of an APA 7 Discussion Section\n",
        "\n",
        "1. **Brief Re-state the Research Question/Hypothesis:**  Remind the reader of your research goals.\n",
        "2. **Summarize Key Findings:** Briefly mention the main results of your study.\n",
        "3. **Interpret Findings in Detail:**  Dive deeper into your results, explaining their meaning and how they relate to your research questions/hypotheses and the existing literature.\n",
        "    * Discuss any unexpected findings and offer possible explanations.\n",
        "4. **Limitations:** Acknowledge the weaknesses of your study and how they might have affected your results.\n",
        "5. **Implications:**  Explain the broader significance of your research.  What are the real-world implications of your findings?\n",
        "6. **Future Directions:**  Propose new research questions or areas for future investigation based on your findings.\n",
        "7. **Conclusion:**   Briefly summarize the main points of your discussion and reiterate the significance of your research.\n",
        "\n",
        "**Tips:**\n",
        "\n",
        "* Use the present tense to discuss your findings.\n",
        "*  Cite relevant sources throughout the discussion to support your interpretations.\n",
        "* Maintain a formal and objective writing style.\n"
      ],
      "metadata": {
        "id": "OBmjzJ6eNl8q"
      }
    },
    {
      "cell_type": "markdown",
      "source": [
        "### Bibliography / References"
      ],
      "metadata": {
        "id": "f7tMMWnl5ky6"
      }
    },
    {
      "cell_type": "markdown",
      "source": [
        "## PowerPoint Presentation\n",
        "\n",
        "* https://docs.google.com/document/d/1onb_1KS8RCDc2McbCDp1IewIXg47uwi1URTgDZFcLQY/edit?usp=sharing"
      ],
      "metadata": {
        "id": "_8RA45bllgda"
      }
    },
    {
      "cell_type": "markdown",
      "source": [
        "## Github Pages"
      ],
      "metadata": {
        "id": "Gkkb6Os0YV43"
      }
    }
  ]
}